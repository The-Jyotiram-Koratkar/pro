{
 "cells": [
  {
   "cell_type": "code",
   "execution_count": 225,
   "metadata": {
    "collapsed": true
   },
   "outputs": [],
   "source": [
    "import pandas as pd\n",
    "import numpy as np\n",
    "from sklearn.ensemble import RandomForestClassifier"
   ]
  },
  {
   "cell_type": "code",
   "execution_count": 226,
   "metadata": {
    "collapsed": true
   },
   "outputs": [],
   "source": [
    "train = pd.read_csv(\"D:\\\\Python\\\\Loan Predction AV\\\\train.csv\")\n",
    "test = pd.read_csv(\"D:\\\\Python\\\\Loan Predction AV\\\\test.csv\")"
   ]
  },
  {
   "cell_type": "code",
   "execution_count": 227,
   "metadata": {},
   "outputs": [
    {
     "name": "stdout",
     "output_type": "stream",
     "text": [
      "(614, 13) (367, 12)\n"
     ]
    }
   ],
   "source": [
    "print train.shape, test.shape"
   ]
  },
  {
   "cell_type": "code",
   "execution_count": 228,
   "metadata": {},
   "outputs": [
    {
     "name": "stdout",
     "output_type": "stream",
     "text": [
      "(614, 14) (367, 13) (981, 14)\n"
     ]
    }
   ],
   "source": [
    "train['source']='train'\n",
    "test['source']='test'\n",
    "data = pd.concat([train, test],ignore_index=True)\n",
    "print train.shape, test.shape, data.shape"
   ]
  },
  {
   "cell_type": "code",
   "execution_count": 229,
   "metadata": {},
   "outputs": [
    {
     "data": {
      "text/plain": [
       "ApplicantIncome        0\n",
       "CoapplicantIncome      0\n",
       "Credit_History        79\n",
       "Dependents            25\n",
       "Education              0\n",
       "Gender                24\n",
       "LoanAmount            27\n",
       "Loan_Amount_Term      20\n",
       "Loan_ID                0\n",
       "Loan_Status          367\n",
       "Married                3\n",
       "Property_Area          0\n",
       "Self_Employed         55\n",
       "source                 0\n",
       "dtype: int64"
      ]
     },
     "execution_count": 229,
     "metadata": {},
     "output_type": "execute_result"
    }
   ],
   "source": [
    "data.apply(lambda x: sum(x.isnull()))"
   ]
  },
  {
   "cell_type": "code",
   "execution_count": 230,
   "metadata": {},
   "outputs": [
    {
     "data": {
      "text/html": [
       "<div>\n",
       "<style>\n",
       "    .dataframe thead tr:only-child th {\n",
       "        text-align: right;\n",
       "    }\n",
       "\n",
       "    .dataframe thead th {\n",
       "        text-align: left;\n",
       "    }\n",
       "\n",
       "    .dataframe tbody tr th {\n",
       "        vertical-align: top;\n",
       "    }\n",
       "</style>\n",
       "<table border=\"1\" class=\"dataframe\">\n",
       "  <thead>\n",
       "    <tr style=\"text-align: right;\">\n",
       "      <th></th>\n",
       "      <th>ApplicantIncome</th>\n",
       "      <th>CoapplicantIncome</th>\n",
       "      <th>Credit_History</th>\n",
       "      <th>Dependents</th>\n",
       "      <th>Education</th>\n",
       "      <th>Gender</th>\n",
       "      <th>LoanAmount</th>\n",
       "      <th>Loan_Amount_Term</th>\n",
       "      <th>Loan_ID</th>\n",
       "      <th>Loan_Status</th>\n",
       "      <th>Married</th>\n",
       "      <th>Property_Area</th>\n",
       "      <th>Self_Employed</th>\n",
       "      <th>source</th>\n",
       "    </tr>\n",
       "  </thead>\n",
       "  <tbody>\n",
       "    <tr>\n",
       "      <th>0</th>\n",
       "      <td>5849</td>\n",
       "      <td>0.0</td>\n",
       "      <td>1.0</td>\n",
       "      <td>0</td>\n",
       "      <td>Graduate</td>\n",
       "      <td>Male</td>\n",
       "      <td>NaN</td>\n",
       "      <td>360.0</td>\n",
       "      <td>LP001002</td>\n",
       "      <td>Y</td>\n",
       "      <td>No</td>\n",
       "      <td>Urban</td>\n",
       "      <td>No</td>\n",
       "      <td>train</td>\n",
       "    </tr>\n",
       "    <tr>\n",
       "      <th>1</th>\n",
       "      <td>4583</td>\n",
       "      <td>1508.0</td>\n",
       "      <td>1.0</td>\n",
       "      <td>1</td>\n",
       "      <td>Graduate</td>\n",
       "      <td>Male</td>\n",
       "      <td>128.0</td>\n",
       "      <td>360.0</td>\n",
       "      <td>LP001003</td>\n",
       "      <td>N</td>\n",
       "      <td>Yes</td>\n",
       "      <td>Rural</td>\n",
       "      <td>No</td>\n",
       "      <td>train</td>\n",
       "    </tr>\n",
       "    <tr>\n",
       "      <th>2</th>\n",
       "      <td>3000</td>\n",
       "      <td>0.0</td>\n",
       "      <td>1.0</td>\n",
       "      <td>0</td>\n",
       "      <td>Graduate</td>\n",
       "      <td>Male</td>\n",
       "      <td>66.0</td>\n",
       "      <td>360.0</td>\n",
       "      <td>LP001005</td>\n",
       "      <td>Y</td>\n",
       "      <td>Yes</td>\n",
       "      <td>Urban</td>\n",
       "      <td>Yes</td>\n",
       "      <td>train</td>\n",
       "    </tr>\n",
       "    <tr>\n",
       "      <th>3</th>\n",
       "      <td>2583</td>\n",
       "      <td>2358.0</td>\n",
       "      <td>1.0</td>\n",
       "      <td>0</td>\n",
       "      <td>Not Graduate</td>\n",
       "      <td>Male</td>\n",
       "      <td>120.0</td>\n",
       "      <td>360.0</td>\n",
       "      <td>LP001006</td>\n",
       "      <td>Y</td>\n",
       "      <td>Yes</td>\n",
       "      <td>Urban</td>\n",
       "      <td>No</td>\n",
       "      <td>train</td>\n",
       "    </tr>\n",
       "    <tr>\n",
       "      <th>4</th>\n",
       "      <td>6000</td>\n",
       "      <td>0.0</td>\n",
       "      <td>1.0</td>\n",
       "      <td>0</td>\n",
       "      <td>Graduate</td>\n",
       "      <td>Male</td>\n",
       "      <td>141.0</td>\n",
       "      <td>360.0</td>\n",
       "      <td>LP001008</td>\n",
       "      <td>Y</td>\n",
       "      <td>No</td>\n",
       "      <td>Urban</td>\n",
       "      <td>No</td>\n",
       "      <td>train</td>\n",
       "    </tr>\n",
       "  </tbody>\n",
       "</table>\n",
       "</div>"
      ],
      "text/plain": [
       "   ApplicantIncome  CoapplicantIncome  Credit_History Dependents  \\\n",
       "0             5849                0.0             1.0          0   \n",
       "1             4583             1508.0             1.0          1   \n",
       "2             3000                0.0             1.0          0   \n",
       "3             2583             2358.0             1.0          0   \n",
       "4             6000                0.0             1.0          0   \n",
       "\n",
       "      Education Gender  LoanAmount  Loan_Amount_Term   Loan_ID Loan_Status  \\\n",
       "0      Graduate   Male         NaN             360.0  LP001002           Y   \n",
       "1      Graduate   Male       128.0             360.0  LP001003           N   \n",
       "2      Graduate   Male        66.0             360.0  LP001005           Y   \n",
       "3  Not Graduate   Male       120.0             360.0  LP001006           Y   \n",
       "4      Graduate   Male       141.0             360.0  LP001008           Y   \n",
       "\n",
       "  Married Property_Area Self_Employed source  \n",
       "0      No         Urban            No  train  \n",
       "1     Yes         Rural            No  train  \n",
       "2     Yes         Urban           Yes  train  \n",
       "3     Yes         Urban            No  train  \n",
       "4      No         Urban            No  train  "
      ]
     },
     "execution_count": 230,
     "metadata": {},
     "output_type": "execute_result"
    }
   ],
   "source": [
    "data.describe()"
   ]
  },
  {
   "cell_type": "code",
   "execution_count": 231,
   "metadata": {},
   "outputs": [
    {
     "data": {
      "text/plain": [
       "ApplicantIncome      752\n",
       "CoapplicantIncome    437\n",
       "Credit_History         3\n",
       "Dependents             5\n",
       "Education              2\n",
       "Gender                 3\n",
       "LoanAmount           233\n",
       "Loan_Amount_Term      13\n",
       "Loan_ID              981\n",
       "Loan_Status            3\n",
       "Married                3\n",
       "Property_Area          3\n",
       "Self_Employed          3\n",
       "source                 2\n",
       "dtype: int64"
      ]
     },
     "execution_count": 231,
     "metadata": {},
     "output_type": "execute_result"
    }
   ],
   "source": [
    "data.apply(lambda x: len(x.unique()))"
   ]
  },
  {
   "cell_type": "code",
   "execution_count": 232,
   "metadata": {},
   "outputs": [
    {
     "data": {
      "text/plain": [
       "ApplicantIncome        int64\n",
       "CoapplicantIncome    float64\n",
       "Credit_History       float64\n",
       "Dependents            object\n",
       "Education             object\n",
       "Gender                object\n",
       "LoanAmount           float64\n",
       "Loan_Amount_Term     float64\n",
       "Loan_ID               object\n",
       "Loan_Status           object\n",
       "Married               object\n",
       "Property_Area         object\n",
       "Self_Employed         object\n",
       "source                object\n",
       "dtype: object"
      ]
     },
     "execution_count": 232,
     "metadata": {},
     "output_type": "execute_result"
    }
   ],
   "source": [
    "data.dtypes"
   ]
  },
  {
   "cell_type": "code",
   "execution_count": 233,
   "metadata": {},
   "outputs": [
    {
     "name": "stdout",
     "output_type": "stream",
     "text": [
      "\n",
      "Frequencey of categoris for variable Dependents\n",
      "0     545\n",
      "2     160\n",
      "1     160\n",
      "3+     91\n",
      "Name: Dependents, dtype: int64\n",
      "\n",
      "Frequencey of categoris for variable Education\n",
      "Graduate        763\n",
      "Not Graduate    218\n",
      "Name: Education, dtype: int64\n",
      "\n",
      "Frequencey of categoris for variable Gender\n",
      "Male      775\n",
      "Female    182\n",
      "Name: Gender, dtype: int64\n",
      "\n",
      "Frequencey of categoris for variable Loan_Status\n",
      "Y    422\n",
      "N    192\n",
      "Name: Loan_Status, dtype: int64\n",
      "\n",
      "Frequencey of categoris for variable Married\n",
      "Yes    631\n",
      "No     347\n",
      "Name: Married, dtype: int64\n",
      "\n",
      "Frequencey of categoris for variable Property_Area\n",
      "Semiurban    349\n",
      "Urban        342\n",
      "Rural        290\n",
      "Name: Property_Area, dtype: int64\n",
      "\n",
      "Frequencey of categoris for variable Self_Employed\n",
      "No     807\n",
      "Yes    119\n",
      "Name: Self_Employed, dtype: int64\n"
     ]
    }
   ],
   "source": [
    "categorical_columns = [x for x in data.dtypes.index if data.dtypes[x]=='object']\n",
    "numerical_columns = [x for x in data.dtypes.index if data.dtypes[x]=='float64' or data.dtypes[x]=='int64']\n",
    "categorical_columns = [x for x in categorical_columns if x not in ['Loan_ID','source']]\n",
    "for col in categorical_columns:\n",
    "    print \"\\nFrequencey of categoris for variable %s\" %col\n",
    "    print data[col].value_counts()"
   ]
  },
  {
   "cell_type": "code",
   "execution_count": 234,
   "metadata": {},
   "outputs": [
    {
     "data": {
      "text/html": [
       "<div>\n",
       "<style>\n",
       "    .dataframe thead tr:only-child th {\n",
       "        text-align: right;\n",
       "    }\n",
       "\n",
       "    .dataframe thead th {\n",
       "        text-align: left;\n",
       "    }\n",
       "\n",
       "    .dataframe tbody tr th {\n",
       "        vertical-align: top;\n",
       "    }\n",
       "</style>\n",
       "<table border=\"1\" class=\"dataframe\">\n",
       "  <thead>\n",
       "    <tr style=\"text-align: right;\">\n",
       "      <th></th>\n",
       "      <th>Dependents</th>\n",
       "      <th>Education</th>\n",
       "      <th>Gender</th>\n",
       "      <th>Loan_ID</th>\n",
       "      <th>Loan_Status</th>\n",
       "      <th>Married</th>\n",
       "      <th>Property_Area</th>\n",
       "      <th>Self_Employed</th>\n",
       "      <th>source</th>\n",
       "    </tr>\n",
       "  </thead>\n",
       "  <tbody>\n",
       "    <tr>\n",
       "      <th>0</th>\n",
       "      <td>0</td>\n",
       "      <td>Graduate</td>\n",
       "      <td>Male</td>\n",
       "      <td>LP001002</td>\n",
       "      <td>Y</td>\n",
       "      <td>No</td>\n",
       "      <td>Urban</td>\n",
       "      <td>No</td>\n",
       "      <td>train</td>\n",
       "    </tr>\n",
       "    <tr>\n",
       "      <th>1</th>\n",
       "      <td>1</td>\n",
       "      <td>Graduate</td>\n",
       "      <td>Male</td>\n",
       "      <td>LP001003</td>\n",
       "      <td>N</td>\n",
       "      <td>Yes</td>\n",
       "      <td>Rural</td>\n",
       "      <td>No</td>\n",
       "      <td>train</td>\n",
       "    </tr>\n",
       "    <tr>\n",
       "      <th>2</th>\n",
       "      <td>0</td>\n",
       "      <td>Graduate</td>\n",
       "      <td>Male</td>\n",
       "      <td>LP001005</td>\n",
       "      <td>Y</td>\n",
       "      <td>Yes</td>\n",
       "      <td>Urban</td>\n",
       "      <td>Yes</td>\n",
       "      <td>train</td>\n",
       "    </tr>\n",
       "    <tr>\n",
       "      <th>3</th>\n",
       "      <td>0</td>\n",
       "      <td>Not Graduate</td>\n",
       "      <td>Male</td>\n",
       "      <td>LP001006</td>\n",
       "      <td>Y</td>\n",
       "      <td>Yes</td>\n",
       "      <td>Urban</td>\n",
       "      <td>No</td>\n",
       "      <td>train</td>\n",
       "    </tr>\n",
       "    <tr>\n",
       "      <th>4</th>\n",
       "      <td>0</td>\n",
       "      <td>Graduate</td>\n",
       "      <td>Male</td>\n",
       "      <td>LP001008</td>\n",
       "      <td>Y</td>\n",
       "      <td>No</td>\n",
       "      <td>Urban</td>\n",
       "      <td>No</td>\n",
       "      <td>train</td>\n",
       "    </tr>\n",
       "  </tbody>\n",
       "</table>\n",
       "</div>"
      ],
      "text/plain": [
       "  Dependents     Education Gender   Loan_ID Loan_Status Married Property_Area  \\\n",
       "0          0      Graduate   Male  LP001002           Y      No         Urban   \n",
       "1          1      Graduate   Male  LP001003           N     Yes         Rural   \n",
       "2          0      Graduate   Male  LP001005           Y     Yes         Urban   \n",
       "3          0  Not Graduate   Male  LP001006           Y     Yes         Urban   \n",
       "4          0      Graduate   Male  LP001008           Y      No         Urban   \n",
       "\n",
       "  Self_Employed source  \n",
       "0            No  train  \n",
       "1            No  train  \n",
       "2           Yes  train  \n",
       "3            No  train  \n",
       "4            No  train  "
      ]
     },
     "execution_count": 234,
     "metadata": {},
     "output_type": "execute_result"
    }
   ],
   "source": [
    "#numerical_columns.apply(lambda x: sum(x.isnull()))\n",
    "#data._get_numeric_data()\n",
    "numerics = ['int64','float64']\n",
    "categorical = ['object']\n",
    "numdf = data.select_dtypes(include=numerics)\n",
    "catdf = data.select_dtypes(include=categorical)\n",
    "catdf.head()"
   ]
  },
  {
   "cell_type": "code",
   "execution_count": 235,
   "metadata": {},
   "outputs": [
    {
     "data": {
      "text/plain": [
       "ApplicantIncome      0\n",
       "CoapplicantIncome    0\n",
       "Credit_History       0\n",
       "LoanAmount           0\n",
       "Loan_Amount_Term     0\n",
       "dtype: int64"
      ]
     },
     "execution_count": 235,
     "metadata": {},
     "output_type": "execute_result"
    }
   ],
   "source": [
    "numdf.fillna(numdf.mean(), inplace=True)\n",
    "numdf.apply(lambda x: sum(x.isnull()))"
   ]
  },
  {
   "cell_type": "code",
   "execution_count": 236,
   "metadata": {},
   "outputs": [
    {
     "data": {
      "text/plain": [
       "Dependents       0\n",
       "Education        0\n",
       "Gender           0\n",
       "Loan_ID          0\n",
       "Loan_Status      0\n",
       "Married          0\n",
       "Property_Area    0\n",
       "Self_Employed    0\n",
       "source           0\n",
       "dtype: int64"
      ]
     },
     "execution_count": 236,
     "metadata": {},
     "output_type": "execute_result"
    }
   ],
   "source": [
    "#You can use df = df.fillna(df['Label'].value_counts().index[0]) to fill NaNs with the most frequent value from one column.\n",
    "#If you want to fill every column with its own most frequent value you can use\n",
    "#df = df.apply(lambda x:x.fillna(x.value_counts().index[0]))\n",
    "#del catdf['column_name']\n",
    "catdf = catdf.apply(lambda x:x.fillna(x.value_counts().index[0]))\n",
    "catdf.apply(lambda x: sum(x.isnull()))"
   ]
  },
  {
   "cell_type": "code",
   "execution_count": 237,
   "metadata": {},
   "outputs": [
    {
     "data": {
      "image/png": "[encoded data removed]",
      "text/plain": [
       "<matplotlib.figure.Figure at 0xe9d9358>"
      ]
     },
     "metadata": {},
     "output_type": "display_data"
    }
   ],
   "source": [
    "import seaborn as sns\n",
    "#iris = sns.load_dataset(\"iris\")\n",
    "ax = sns.boxplot(data=numdf, orient=\"v\", palette=\"Set2\")"
   ]
  },
  {
   "cell_type": "code",
   "execution_count": 479,
   "metadata": {},
   "outputs": [],
   "source": [
    "import matplotlib.pyplot as plt\n",
    "%matplotlib inline"
   ]
  },
  {
   "cell_type": "code",
   "execution_count": 478,
   "metadata": {},
   "outputs": [
    {
     "data": {
      "image/png": "[encoded data removed]",
      "text/plain": [
       "<matplotlib.figure.Figure at 0x172cd588>"
      ]
     },
     "metadata": {},
     "output_type": "display_data"
    },
    {
     "data": {
      "image/png": "[encoded data removed]",
      "text/plain": [
       "<matplotlib.figure.Figure at 0x2954c160>"
      ]
     },
     "metadata": {},
     "output_type": "display_data"
    },
    {
     "data": {
      "image/png": "[encoded data removed]",
      "text/plain": [
       "<matplotlib.figure.Figure at 0xe27f0f0>"
      ]
     },
     "metadata": {},
     "output_type": "display_data"
    },
    {
     "data": {
      "image/png": "[encoded data removed]",
      "text/plain": [
       "<matplotlib.figure.Figure at 0x281f9e10>"
      ]
     },
     "metadata": {},
     "output_type": "display_data"
    },
    {
     "data": {
      "image/png": "[encoded data removed]",
      "text/plain": [
       "<matplotlib.figure.Figure at 0x1a5d8908>"
      ]
     },
     "metadata": {},
     "output_type": "display_data"
    },
    {
     "data": {
      "text/plain": [
       "<matplotlib.figure.Figure at 0x28ec6550>"
      ]
     },
     "metadata": {},
     "output_type": "display_data"
    }
   ],
   "source": [
    "for x in numdf:\n",
    "    numdf.boxplot(x)\n",
    "    plt.figure()"
   ]
  },
  {
   "cell_type": "code",
   "execution_count": null,
   "metadata": {},
   "outputs": [],
   "source": [
    "numdf[numdf.apply(lambda x: np.abs(x - x.mean()) / x.std() < 3).all(axis=1)]"
   ]
  },
  {
   "cell_type": "code",
   "execution_count": 443,
   "metadata": {},
   "outputs": [],
   "source": [
    "from sklearn import preprocessing\n",
    "\n",
    "data['TotalIncome'] = data['ApplicantIncome'] + data['CoapplicantIncome']\n",
    "data['TotalIncome_log'] = np.log(data['TotalIncome'])\n",
    "data['LoanAmount_log'] = np.log(data['LoanAmount'])\n",
    "data['LTRatio'] = data['LoanAmount'] / data['TotalIncome']"
   ]
  },
  {
   "cell_type": "code",
   "execution_count": 448,
   "metadata": {},
   "outputs": [
    {
     "data": {
      "text/plain": [
       "Loan_ID               object\n",
       "source                object\n",
       "Dependents             int64\n",
       "Education              int64\n",
       "Gender                 int64\n",
       "Loan_Status            int64\n",
       "Married                int64\n",
       "Property_Area          int64\n",
       "Self_Employed          int64\n",
       "ApplicantIncome        int64\n",
       "CoapplicantIncome    float64\n",
       "Credit_History       float64\n",
       "LoanAmount           float64\n",
       "Loan_Amount_Term     float64\n",
       "TotalIncome          float64\n",
       "TotalIncome_log      float64\n",
       "LoanAmount_log       float64\n",
       "LTRatio              float64\n",
       "dtype: object"
      ]
     },
     "execution_count": 448,
     "metadata": {},
     "output_type": "execute_result"
    }
   ],
   "source": [
    "data.drop(['LTRatio_log',],axis=1,inplace=True)\n",
    "data.dtypes"
   ]
  },
  {
   "cell_type": "code",
   "execution_count": 243,
   "metadata": {},
   "outputs": [
    {
     "name": "stderr",
     "output_type": "stream",
     "text": [
      "C:\\Users\\Suhas\\Anaconda2\\lib\\site-packages\\ipykernel_launcher.py:12: SettingWithCopyWarning: \n",
      "A value is trying to be set on a copy of a slice from a DataFrame.\n",
      "Try using .loc[row_indexer,col_indexer] = value instead\n",
      "\n",
      "See the caveats in the documentation: http://pandas.pydata.org/pandas-docs/stable/indexing.html#indexing-view-versus-copy\n",
      "  if sys.path[0] == '':\n"
     ]
    }
   ],
   "source": [
    "from sklearn import preprocessing\n",
    "label = catdf[['Dependents','Education','Gender','Loan_Status','Married','Property_Area','Self_Employed']]\n",
    "label2 = catdf[['Loan_ID','source']]\n",
    "\n",
    "for column in label.columns:\n",
    "    le = preprocessing.LabelEncoder()\n",
    "    label[column] = le.fit_transform(label[column])"
   ]
  },
  {
   "cell_type": "code",
   "execution_count": 449,
   "metadata": {
    "collapsed": true
   },
   "outputs": [],
   "source": [
    "new_var = data[['TotalIncome_log','LoanAmount_log','LTRatio']]"
   ]
  },
  {
   "cell_type": "code",
   "execution_count": 450,
   "metadata": {
    "collapsed": true
   },
   "outputs": [],
   "source": [
    "data = pd.concat([label2, label, numdf, new_var], axis=1)"
   ]
  },
  {
   "cell_type": "code",
   "execution_count": 451,
   "metadata": {
    "collapsed": true
   },
   "outputs": [],
   "source": [
    "train = data.loc[data['source']==\"train\"]\n",
    "test = data.loc[data['source']==\"test\"]"
   ]
  },
  {
   "cell_type": "code",
   "execution_count": 452,
   "metadata": {},
   "outputs": [
    {
     "name": "stdout",
     "output_type": "stream",
     "text": [
      "(981, 7) (981, 2) (981, 5) (981, 17) (614, 17) (367, 17)     Loan_ID source  Dependents  Education  Gender  Loan_Status  Married  \\\n",
      "0  LP001002  train           0          0       1            1        0   \n",
      "1  LP001003  train           1          0       1            0        1   \n",
      "2  LP001005  train           0          0       1            1        1   \n",
      "3  LP001006  train           0          1       1            1        1   \n",
      "4  LP001008  train           0          0       1            1        0   \n",
      "\n",
      "   Property_Area  Self_Employed  ApplicantIncome  CoapplicantIncome  \\\n",
      "0              2              0             5849                0.0   \n",
      "1              0              0             4583             1508.0   \n",
      "2              2              1             3000                0.0   \n",
      "3              2              0             2583             2358.0   \n",
      "4              2              0             6000                0.0   \n",
      "\n",
      "   Credit_History  LoanAmount  Loan_Amount_Term  TotalIncome_log  \\\n",
      "0             1.0   142.51153             360.0         8.674026   \n",
      "1             1.0   128.00000             360.0         8.714568   \n",
      "2             1.0    66.00000             360.0         8.006368   \n",
      "3             1.0   120.00000             360.0         8.505323   \n",
      "4             1.0   141.00000             360.0         8.699515   \n",
      "\n",
      "   LoanAmount_log   LTRatio  \n",
      "0        4.959423  0.024365  \n",
      "1        4.852030  0.021015  \n",
      "2        4.189655  0.022000  \n",
      "3        4.787492  0.024287  \n",
      "4        4.948760  0.023500  \n"
     ]
    }
   ],
   "source": [
    "print label.shape, label2.shape, numdf.shape, data.shape,train.shape, test.shape, data.head(), "
   ]
  },
  {
   "cell_type": "code",
   "execution_count": 453,
   "metadata": {},
   "outputs": [
    {
     "name": "stderr",
     "output_type": "stream",
     "text": [
      "C:\\Users\\Suhas\\Anaconda2\\lib\\site-packages\\ipykernel_launcher.py:1: SettingWithCopyWarning: \n",
      "A value is trying to be set on a copy of a slice from a DataFrame\n",
      "\n",
      "See the caveats in the documentation: http://pandas.pydata.org/pandas-docs/stable/indexing.html#indexing-view-versus-copy\n",
      "  \"\"\"Entry point for launching an IPython kernel.\n",
      "C:\\Users\\Suhas\\Anaconda2\\lib\\site-packages\\ipykernel_launcher.py:2: SettingWithCopyWarning: \n",
      "A value is trying to be set on a copy of a slice from a DataFrame\n",
      "\n",
      "See the caveats in the documentation: http://pandas.pydata.org/pandas-docs/stable/indexing.html#indexing-view-versus-copy\n",
      "  \n"
     ]
    }
   ],
   "source": [
    "test.drop(['Loan_Status','source'],axis=1,inplace=True)\n",
    "train.drop(['source'],axis=1,inplace=True)"
   ]
  },
  {
   "cell_type": "code",
   "execution_count": 455,
   "metadata": {},
   "outputs": [
    {
     "data": {
      "text/html": [
       "<div>\n",
       "<style>\n",
       "    .dataframe thead tr:only-child th {\n",
       "        text-align: right;\n",
       "    }\n",
       "\n",
       "    .dataframe thead th {\n",
       "        text-align: left;\n",
       "    }\n",
       "\n",
       "    .dataframe tbody tr th {\n",
       "        vertical-align: top;\n",
       "    }\n",
       "</style>\n",
       "<table border=\"1\" class=\"dataframe\">\n",
       "  <thead>\n",
       "    <tr style=\"text-align: right;\">\n",
       "      <th></th>\n",
       "      <th>Loan_ID</th>\n",
       "      <th>Dependents</th>\n",
       "      <th>Education</th>\n",
       "      <th>Gender</th>\n",
       "      <th>Loan_Status</th>\n",
       "      <th>Married</th>\n",
       "      <th>Property_Area</th>\n",
       "      <th>Self_Employed</th>\n",
       "      <th>ApplicantIncome</th>\n",
       "      <th>CoapplicantIncome</th>\n",
       "      <th>Credit_History</th>\n",
       "      <th>LoanAmount</th>\n",
       "      <th>Loan_Amount_Term</th>\n",
       "      <th>TotalIncome_log</th>\n",
       "      <th>LoanAmount_log</th>\n",
       "      <th>LTRatio</th>\n",
       "    </tr>\n",
       "  </thead>\n",
       "  <tbody>\n",
       "    <tr>\n",
       "      <th>0</th>\n",
       "      <td>LP001002</td>\n",
       "      <td>0</td>\n",
       "      <td>0</td>\n",
       "      <td>1</td>\n",
       "      <td>1</td>\n",
       "      <td>0</td>\n",
       "      <td>2</td>\n",
       "      <td>0</td>\n",
       "      <td>5849</td>\n",
       "      <td>0.0</td>\n",
       "      <td>1.0</td>\n",
       "      <td>142.51153</td>\n",
       "      <td>360.0</td>\n",
       "      <td>8.674026</td>\n",
       "      <td>4.959423</td>\n",
       "      <td>0.024365</td>\n",
       "    </tr>\n",
       "    <tr>\n",
       "      <th>1</th>\n",
       "      <td>LP001003</td>\n",
       "      <td>1</td>\n",
       "      <td>0</td>\n",
       "      <td>1</td>\n",
       "      <td>0</td>\n",
       "      <td>1</td>\n",
       "      <td>0</td>\n",
       "      <td>0</td>\n",
       "      <td>4583</td>\n",
       "      <td>1508.0</td>\n",
       "      <td>1.0</td>\n",
       "      <td>128.00000</td>\n",
       "      <td>360.0</td>\n",
       "      <td>8.714568</td>\n",
       "      <td>4.852030</td>\n",
       "      <td>0.021015</td>\n",
       "    </tr>\n",
       "    <tr>\n",
       "      <th>2</th>\n",
       "      <td>LP001005</td>\n",
       "      <td>0</td>\n",
       "      <td>0</td>\n",
       "      <td>1</td>\n",
       "      <td>1</td>\n",
       "      <td>1</td>\n",
       "      <td>2</td>\n",
       "      <td>1</td>\n",
       "      <td>3000</td>\n",
       "      <td>0.0</td>\n",
       "      <td>1.0</td>\n",
       "      <td>66.00000</td>\n",
       "      <td>360.0</td>\n",
       "      <td>8.006368</td>\n",
       "      <td>4.189655</td>\n",
       "      <td>0.022000</td>\n",
       "    </tr>\n",
       "    <tr>\n",
       "      <th>3</th>\n",
       "      <td>LP001006</td>\n",
       "      <td>0</td>\n",
       "      <td>1</td>\n",
       "      <td>1</td>\n",
       "      <td>1</td>\n",
       "      <td>1</td>\n",
       "      <td>2</td>\n",
       "      <td>0</td>\n",
       "      <td>2583</td>\n",
       "      <td>2358.0</td>\n",
       "      <td>1.0</td>\n",
       "      <td>120.00000</td>\n",
       "      <td>360.0</td>\n",
       "      <td>8.505323</td>\n",
       "      <td>4.787492</td>\n",
       "      <td>0.024287</td>\n",
       "    </tr>\n",
       "    <tr>\n",
       "      <th>4</th>\n",
       "      <td>LP001008</td>\n",
       "      <td>0</td>\n",
       "      <td>0</td>\n",
       "      <td>1</td>\n",
       "      <td>1</td>\n",
       "      <td>0</td>\n",
       "      <td>2</td>\n",
       "      <td>0</td>\n",
       "      <td>6000</td>\n",
       "      <td>0.0</td>\n",
       "      <td>1.0</td>\n",
       "      <td>141.00000</td>\n",
       "      <td>360.0</td>\n",
       "      <td>8.699515</td>\n",
       "      <td>4.948760</td>\n",
       "      <td>0.023500</td>\n",
       "    </tr>\n",
       "  </tbody>\n",
       "</table>\n",
       "</div>"
      ],
      "text/plain": [
       "    Loan_ID  Dependents  Education  Gender  Loan_Status  Married  \\\n",
       "0  LP001002           0          0       1            1        0   \n",
       "1  LP001003           1          0       1            0        1   \n",
       "2  LP001005           0          0       1            1        1   \n",
       "3  LP001006           0          1       1            1        1   \n",
       "4  LP001008           0          0       1            1        0   \n",
       "\n",
       "   Property_Area  Self_Employed  ApplicantIncome  CoapplicantIncome  \\\n",
       "0              2              0             5849                0.0   \n",
       "1              0              0             4583             1508.0   \n",
       "2              2              1             3000                0.0   \n",
       "3              2              0             2583             2358.0   \n",
       "4              2              0             6000                0.0   \n",
       "\n",
       "   Credit_History  LoanAmount  Loan_Amount_Term  TotalIncome_log  \\\n",
       "0             1.0   142.51153             360.0         8.674026   \n",
       "1             1.0   128.00000             360.0         8.714568   \n",
       "2             1.0    66.00000             360.0         8.006368   \n",
       "3             1.0   120.00000             360.0         8.505323   \n",
       "4             1.0   141.00000             360.0         8.699515   \n",
       "\n",
       "   LoanAmount_log   LTRatio  \n",
       "0        4.959423  0.024365  \n",
       "1        4.852030  0.021015  \n",
       "2        4.189655  0.022000  \n",
       "3        4.787492  0.024287  \n",
       "4        4.948760  0.023500  "
      ]
     },
     "execution_count": 455,
     "metadata": {},
     "output_type": "execute_result"
    }
   ],
   "source": [
    "train.head()"
   ]
  },
  {
   "cell_type": "code",
   "execution_count": 465,
   "metadata": {},
   "outputs": [],
   "source": [
    "#Import models from scikit learn module:\n",
    "from sklearn.linear_model import LogisticRegression\n",
    "from sklearn.cross_validation import KFold   #For K-fold cross validation\n",
    "from sklearn.ensemble import RandomForestClassifier\n",
    "from sklearn import metrics\n",
    "\n",
    "#Generic function for making a classification model and accessing performance:\n",
    "target = 'Loan_Status'\n",
    "IDcol = ['Loan_ID']\n",
    "\n",
    "def classification_model(model,dtrain,dtest,predictors,target,IDcol,filename):\n",
    "  #Fit the model:\n",
    "  model.fit(dtrain[predictors],dtrain[target])\n",
    "  \n",
    "  #Make predictions on training set:\n",
    "  predictions = model.predict(dtrain[predictors])\n",
    "  cm = ConfusionMatrix(dtrain[target], predictions)\n",
    "  cm.print_stats()\n",
    "  #Print accuracy\n",
    "  accuracy = metrics.accuracy_score(predictions,dtrain[target])\n",
    "  print \"Accuracy : %s\" % \"{0:.3%}\".format(accuracy)\n",
    "\n",
    "  #Perform k-fold cross-validation with 5 folds\n",
    "  kf = KFold(dtrain.shape[0], n_folds=5)\n",
    "  error = []\n",
    "  for train, test in kf:\n",
    "    # Filter training data\n",
    "    train_predictors = (dtrain[predictors].iloc[train,:])\n",
    "    \n",
    "    # The target we're using to train the algorithm.\n",
    "    train_target = dtrain[target].iloc[train]\n",
    "    \n",
    "    # Training the algorithm using the predictors and target.\n",
    "    model.fit(train_predictors, train_target)\n",
    "    \n",
    "    #Record error from each cross-validation run\n",
    "    error.append(model.score(dtrain[predictors].iloc[test,:], dtrain[target].iloc[test]))\n",
    " \n",
    "  print \"Cross-Validation Score : %s\" % \"{0:.3%}\".format(np.mean(error))\n",
    "    \n",
    "  #Fit the model again so that it can be refered outside the function:\n",
    "  model.fit(dtrain[predictors],dtrain[target])  \n",
    "    \n",
    "    \n",
    "  #Predict on testing data:\n",
    "  dtest[target] = model.predict(dtest[predictors])\n",
    "  #predicted= model.predict(y_test) \n",
    "  #Export submission file:\n",
    "  IDcol.append(target)\n",
    "  submission = pd.DataFrame({ x: dtest[x] for x in IDcol})\n",
    "  submission['Loan_Status'] = submission['Loan_Status'].map({0:'N', 1:'Y'})\n",
    "  submission.to_csv(filename, index=False)\n",
    "\n"
   ]
  },
  {
   "cell_type": "code",
   "execution_count": 466,
   "metadata": {},
   "outputs": [
    {
     "name": "stdout",
     "output_type": "stream",
     "text": [
      "population: 614\n",
      "P: 422\n",
      "N: 192\n",
      "PositiveTest: 524\n",
      "NegativeTest: 90\n",
      "TP: 414\n",
      "TN: 82\n",
      "FP: 110\n",
      "FN: 8\n",
      "TPR: 0.981042654028\n",
      "TNR: 0.427083333333\n",
      "PPV: 0.790076335878\n",
      "NPV: 0.911111111111\n",
      "FPR: 0.572916666667\n",
      "FDR: 0.209923664122\n",
      "FNR: 0.0189573459716\n",
      "ACC: 0.807817589577\n",
      "F1_score: 0.875264270613\n",
      "MCC: 0.534951230607\n",
      "informedness: 0.408125987362\n",
      "markedness: 0.701187446989\n",
      "prevalence: 0.687296416938\n",
      "LRP: 1.71236535976\n",
      "LRN: 0.044387932031\n",
      "DOR: 38.5772727273\n",
      "FOR: 0.0888888888889\n",
      "Accuracy : 80.782%\n",
      "Cross-Validation Score : 80.784%\n"
     ]
    },
    {
     "name": "stderr",
     "output_type": "stream",
     "text": [
      "C:\\Users\\Suhas\\Anaconda2\\lib\\site-packages\\ipykernel_launcher.py:47: SettingWithCopyWarning: \n",
      "A value is trying to be set on a copy of a slice from a DataFrame.\n",
      "Try using .loc[row_indexer,col_indexer] = value instead\n",
      "\n",
      "See the caveats in the documentation: http://pandas.pydata.org/pandas-docs/stable/indexing.html#indexing-view-versus-copy\n"
     ]
    }
   ],
   "source": [
    "model1 = LogisticRegression()\n",
    "predictor_var = ['Gender', 'Married', 'Dependents', 'Education','Self_Employed', 'Loan_Amount_Term', 'Credit_History', 'Property_Area','LoanAmount']\n",
    "classification_model(model1,train,test,predictor_var,target,IDcol,'logistic.csv')"
   ]
  },
  {
   "cell_type": "code",
   "execution_count": 467,
   "metadata": {},
   "outputs": [
    {
     "name": "stdout",
     "output_type": "stream",
     "text": [
      "population: 614\n",
      "P: 422\n",
      "N: 192\n",
      "PositiveTest: 524\n",
      "NegativeTest: 90\n",
      "TP: 414\n",
      "TN: 82\n",
      "FP: 110\n",
      "FN: 8\n",
      "TPR: 0.981042654028\n",
      "TNR: 0.427083333333\n",
      "PPV: 0.790076335878\n",
      "NPV: 0.911111111111\n",
      "FPR: 0.572916666667\n",
      "FDR: 0.209923664122\n",
      "FNR: 0.0189573459716\n",
      "ACC: 0.807817589577\n",
      "F1_score: 0.875264270613\n",
      "MCC: 0.534951230607\n",
      "informedness: 0.408125987362\n",
      "markedness: 0.701187446989\n",
      "prevalence: 0.687296416938\n",
      "LRP: 1.71236535976\n",
      "LRN: 0.044387932031\n",
      "DOR: 38.5772727273\n",
      "FOR: 0.0888888888889\n",
      "Accuracy : 80.782%\n",
      "Cross-Validation Score : 80.784%\n"
     ]
    },
    {
     "name": "stderr",
     "output_type": "stream",
     "text": [
      "C:\\Users\\Suhas\\Anaconda2\\lib\\site-packages\\ipykernel_launcher.py:47: SettingWithCopyWarning: \n",
      "A value is trying to be set on a copy of a slice from a DataFrame.\n",
      "Try using .loc[row_indexer,col_indexer] = value instead\n",
      "\n",
      "See the caveats in the documentation: http://pandas.pydata.org/pandas-docs/stable/indexing.html#indexing-view-versus-copy\n"
     ]
    }
   ],
   "source": [
    "model2 = LogisticRegression()\n",
    "predictor_var = ['Gender', 'Married', 'Dependents', 'Education','Self_Employed', 'Loan_Amount_Term', 'Credit_History', 'Property_Area','TotalIncome_log','LoanAmount_log','LTRatio']\n",
    "classification_model(model2,train,test,predictor_var,target,IDcol,'logistic2.csv')"
   ]
  },
  {
   "cell_type": "code",
   "execution_count": 468,
   "metadata": {},
   "outputs": [
    {
     "name": "stdout",
     "output_type": "stream",
     "text": [
      "population: 614\n",
      "P: 422\n",
      "N: 192\n",
      "PositiveTest: 525\n",
      "NegativeTest: 89\n",
      "TP: 415\n",
      "TN: 82\n",
      "FP: 110\n",
      "FN: 7\n",
      "TPR: 0.983412322275\n",
      "TNR: 0.427083333333\n",
      "PPV: 0.790476190476\n",
      "NPV: 0.921348314607\n",
      "FPR: 0.572916666667\n",
      "FDR: 0.209523809524\n",
      "FNR: 0.0165876777251\n",
      "ACC: 0.809446254072\n",
      "F1_score: 0.876451953537\n",
      "MCC: 0.540556071922\n",
      "informedness: 0.410495655608\n",
      "markedness: 0.711824505083\n",
      "prevalence: 0.687296416938\n",
      "LRP: 1.71650150797\n",
      "LRN: 0.0388394405271\n",
      "DOR: 44.1948051948\n",
      "FOR: 0.0786516853933\n",
      "Accuracy : 80.945%\n",
      "Cross-Validation Score : 80.946%\n"
     ]
    },
    {
     "name": "stderr",
     "output_type": "stream",
     "text": [
      "C:\\Users\\Suhas\\Anaconda2\\lib\\site-packages\\ipykernel_launcher.py:47: SettingWithCopyWarning: \n",
      "A value is trying to be set on a copy of a slice from a DataFrame.\n",
      "Try using .loc[row_indexer,col_indexer] = value instead\n",
      "\n",
      "See the caveats in the documentation: http://pandas.pydata.org/pandas-docs/stable/indexing.html#indexing-view-versus-copy\n"
     ]
    }
   ],
   "source": [
    "model3 = LogisticRegression()\n",
    "predictor_var = ['Credit_History','Dependents','Property_Area','Loan_Amount_Term','TotalIncome_log','LoanAmount_log','LTRatio']\n",
    "classification_model(model3,train,test,predictor_var,target,IDcol,'logistic3.csv')"
   ]
  },
  {
   "cell_type": "code",
   "execution_count": 469,
   "metadata": {},
   "outputs": [
    {
     "name": "stdout",
     "output_type": "stream",
     "text": [
      "population: 614\n",
      "P: 422\n",
      "N: 192\n",
      "PositiveTest: 422\n",
      "NegativeTest: 192\n",
      "TP: 422\n",
      "TN: 192\n",
      "FP: 0\n",
      "FN: 0\n",
      "TPR: 1.0\n",
      "TNR: 1.0\n",
      "PPV: 1.0\n",
      "NPV: 1.0\n",
      "FPR: 0.0\n",
      "FDR: 0.0\n",
      "FNR: 0.0\n",
      "ACC: 1.0\n",
      "F1_score: 1.0\n",
      "MCC: 1.0\n",
      "informedness: 1.0\n",
      "markedness: 1.0\n",
      "prevalence: 0.687296416938\n",
      "LRP: inf\n",
      "LRN: 0.0\n",
      "DOR: inf\n",
      "FOR: 0.0\n",
      "Accuracy : 100.000%\n",
      "Cross-Validation Score : 78.502%\n"
     ]
    },
    {
     "name": "stderr",
     "output_type": "stream",
     "text": [
      "C:\\Users\\Suhas\\Anaconda2\\lib\\site-packages\\ipykernel_launcher.py:47: SettingWithCopyWarning: \n",
      "A value is trying to be set on a copy of a slice from a DataFrame.\n",
      "Try using .loc[row_indexer,col_indexer] = value instead\n",
      "\n",
      "See the caveats in the documentation: http://pandas.pydata.org/pandas-docs/stable/indexing.html#indexing-view-versus-copy\n"
     ]
    }
   ],
   "source": [
    "rf1 = RandomForestClassifier(n_estimators=100)\n",
    "predictor_var = ['Gender', 'Married', 'Dependents', 'Education','Self_Employed', 'Loan_Amount_Term', 'Credit_History', 'Property_Area','TotalIncome_log','LoanAmount_log','LTRatio']\n",
    "classification_model(rf1,train,test,predictor_var,target,IDcol,'rf1.csv')"
   ]
  },
  {
   "cell_type": "code",
   "execution_count": 470,
   "metadata": {},
   "outputs": [
    {
     "name": "stdout",
     "output_type": "stream",
     "text": [
      "Credit_History      0.282680\n",
      "LTRatio             0.184266\n",
      "TotalIncome_log     0.178274\n",
      "LoanAmount_log      0.154910\n",
      "Dependents          0.043334\n",
      "Property_Area       0.041672\n",
      "Loan_Amount_Term    0.037598\n",
      "Education           0.021077\n",
      "Married             0.020778\n",
      "Self_Employed       0.019567\n",
      "Gender              0.015845\n",
      "dtype: float64\n"
     ]
    },
    {
     "data": {
      "text/plain": [
       "<matplotlib.axes._subplots.AxesSubplot at 0x28a55198>"
      ]
     },
     "execution_count": 470,
     "metadata": {},
     "output_type": "execute_result"
    },
    {
     "data": {
      "image/png": "[encoded data removed]",
      "text/plain": [
       "<matplotlib.figure.Figure at 0x1a1ba7f0>"
      ]
     },
     "metadata": {},
     "output_type": "display_data"
    }
   ],
   "source": [
    "#Create a series with feature importances:\n",
    "featimp = pd.Series(rf1.feature_importances_, index=predictor_var).sort_values(ascending=False)\n",
    "print featimp\n",
    "featimp.plot(kind='bar', title='Feature Importances')"
   ]
  },
  {
   "cell_type": "code",
   "execution_count": 471,
   "metadata": {},
   "outputs": [
    {
     "name": "stdout",
     "output_type": "stream",
     "text": [
      "population: 614\n",
      "P: 422\n",
      "N: 192\n",
      "PositiveTest: 516\n",
      "NegativeTest: 98\n",
      "TP: 415\n",
      "TN: 91\n",
      "FP: 101\n",
      "FN: 7\n",
      "TPR: 0.983412322275\n",
      "TNR: 0.473958333333\n",
      "PPV: 0.804263565891\n",
      "NPV: 0.928571428571\n",
      "FPR: 0.526041666667\n",
      "FDR: 0.195736434109\n",
      "FNR: 0.0165876777251\n",
      "ACC: 0.824104234528\n",
      "F1_score: 0.884861407249\n",
      "MCC: 0.578944921275\n",
      "informedness: 0.457370655608\n",
      "markedness: 0.732834994463\n",
      "prevalence: 0.687296416938\n",
      "LRP: 1.86945708789\n",
      "LRN: 0.0349981771783\n",
      "DOR: 53.4158415842\n",
      "FOR: 0.0714285714286\n",
      "Accuracy : 82.410%\n",
      "Cross-Validation Score : 80.945%\n"
     ]
    },
    {
     "name": "stderr",
     "output_type": "stream",
     "text": [
      "C:\\Users\\Suhas\\Anaconda2\\lib\\site-packages\\ipykernel_launcher.py:47: SettingWithCopyWarning: \n",
      "A value is trying to be set on a copy of a slice from a DataFrame.\n",
      "Try using .loc[row_indexer,col_indexer] = value instead\n",
      "\n",
      "See the caveats in the documentation: http://pandas.pydata.org/pandas-docs/stable/indexing.html#indexing-view-versus-copy\n"
     ]
    }
   ],
   "source": [
    "rf2 = RandomForestClassifier(n_estimators=25, min_samples_split=25, max_depth=7, max_features=1)\n",
    "predictor_var = ['LoanAmount','Credit_History','Dependents','Property_Area','Loan_Amount_Term']\n",
    "classification_model(rf2,train,test,predictor_var,target,IDcol,'rf2.csv')"
   ]
  },
  {
   "cell_type": "code",
   "execution_count": 472,
   "metadata": {},
   "outputs": [
    {
     "name": "stdout",
     "output_type": "stream",
     "text": [
      "population: 614\n",
      "P: 422\n",
      "N: 192\n",
      "PositiveTest: 432\n",
      "NegativeTest: 182\n",
      "TP: 417\n",
      "TN: 177\n",
      "FP: 15\n",
      "FN: 5\n",
      "TPR: 0.988151658768\n",
      "TNR: 0.921875\n",
      "PPV: 0.965277777778\n",
      "NPV: 0.972527472527\n",
      "FPR: 0.078125\n",
      "FDR: 0.0347222222222\n",
      "FNR: 0.0118483412322\n",
      "ACC: 0.967426710098\n",
      "F1_score: 0.976580796253\n",
      "MCC: 0.923811549241\n",
      "informedness: 0.910026658768\n",
      "markedness: 0.937805250305\n",
      "prevalence: 0.687296416938\n",
      "LRP: 12.6483412322\n",
      "LRN: 0.0128524379468\n",
      "DOR: 984.12\n",
      "FOR: 0.0274725274725\n",
      "Accuracy : 96.743%\n",
      "Cross-Validation Score : 73.456%\n"
     ]
    },
    {
     "name": "stderr",
     "output_type": "stream",
     "text": [
      "C:\\Users\\Suhas\\Anaconda2\\lib\\site-packages\\ipykernel_launcher.py:47: SettingWithCopyWarning: \n",
      "A value is trying to be set on a copy of a slice from a DataFrame.\n",
      "Try using .loc[row_indexer,col_indexer] = value instead\n",
      "\n",
      "See the caveats in the documentation: http://pandas.pydata.org/pandas-docs/stable/indexing.html#indexing-view-versus-copy\n"
     ]
    }
   ],
   "source": [
    "rf3 = RandomForestClassifier(n_estimators =500, criterion='entropy', oob_score=True, random_state=1,n_jobs=-1)\n",
    "predictor_var = ['LoanAmount','Credit_History','Dependents','Property_Area','Loan_Amount_Term']\n",
    "classification_model(rf3,train,test,predictor_var,target,IDcol,'rf3.csv')"
   ]
  },
  {
   "cell_type": "code",
   "execution_count": 477,
   "metadata": {},
   "outputs": [
    {
     "name": "stdout",
     "output_type": "stream",
     "text": [
      "population: 614\n",
      "P: 422\n",
      "N: 192\n",
      "PositiveTest: 500\n",
      "NegativeTest: 114\n",
      "TP: 410\n",
      "TN: 102\n",
      "FP: 90\n",
      "FN: 12\n",
      "TPR: 0.971563981043\n",
      "TNR: 0.53125\n",
      "PPV: 0.82\n",
      "NPV: 0.894736842105\n",
      "FPR: 0.46875\n",
      "FDR: 0.18\n",
      "FNR: 0.0284360189573\n",
      "ACC: 0.833876221498\n",
      "F1_score: 0.889370932755\n",
      "MCC: 0.59948284127\n",
      "informedness: 0.502813981043\n",
      "markedness: 0.714736842105\n",
      "prevalence: 0.687296416938\n",
      "LRP: 2.07266982622\n",
      "LRN: 0.0535266239197\n",
      "DOR: 38.7222222222\n",
      "FOR: 0.105263157895\n",
      "Accuracy : 83.388%\n",
      "Cross-Validation Score : 80.457%\n"
     ]
    },
    {
     "name": "stderr",
     "output_type": "stream",
     "text": [
      "C:\\Users\\Suhas\\Anaconda2\\lib\\site-packages\\ipykernel_launcher.py:47: SettingWithCopyWarning: \n",
      "A value is trying to be set on a copy of a slice from a DataFrame.\n",
      "Try using .loc[row_indexer,col_indexer] = value instead\n",
      "\n",
      "See the caveats in the documentation: http://pandas.pydata.org/pandas-docs/stable/indexing.html#indexing-view-versus-copy\n"
     ]
    }
   ],
   "source": [
    "rf4 = RandomForestClassifier(n_estimators=25, min_samples_split=25, max_depth=7, max_features=1)\n",
    "predictor_var = ['TotalIncome_log','LoanAmount_log','LTRatio','Credit_History','Dependents','Property_Area']\n",
    "classification_model(rf4,train,test,predictor_var,target,IDcol,'rf42.csv')"
   ]
  },
  {
   "cell_type": "code",
   "execution_count": 474,
   "metadata": {},
   "outputs": [
    {
     "name": "stdout",
     "output_type": "stream",
     "text": [
      "population: 614\n",
      "P: 422\n",
      "N: 192\n",
      "PositiveTest: 422\n",
      "NegativeTest: 192\n",
      "TP: 422\n",
      "TN: 192\n",
      "FP: 0\n",
      "FN: 0\n",
      "TPR: 1.0\n",
      "TNR: 1.0\n",
      "PPV: 1.0\n",
      "NPV: 1.0\n",
      "FPR: 0.0\n",
      "FDR: 0.0\n",
      "FNR: 0.0\n",
      "ACC: 1.0\n",
      "F1_score: 1.0\n",
      "MCC: 1.0\n",
      "informedness: 1.0\n",
      "markedness: 1.0\n",
      "prevalence: 0.687296416938\n",
      "LRP: inf\n",
      "LRN: 0.0\n",
      "DOR: inf\n",
      "FOR: 0.0\n",
      "Accuracy : 100.000%\n",
      "Cross-Validation Score : 77.524%\n"
     ]
    },
    {
     "name": "stderr",
     "output_type": "stream",
     "text": [
      "C:\\Users\\Suhas\\Anaconda2\\lib\\site-packages\\ipykernel_launcher.py:47: SettingWithCopyWarning: \n",
      "A value is trying to be set on a copy of a slice from a DataFrame.\n",
      "Try using .loc[row_indexer,col_indexer] = value instead\n",
      "\n",
      "See the caveats in the documentation: http://pandas.pydata.org/pandas-docs/stable/indexing.html#indexing-view-versus-copy\n"
     ]
    }
   ],
   "source": [
    "rf5 = RandomForestClassifier(n_estimators =500, criterion='entropy', oob_score=True, random_state=1,n_jobs=-1)\n",
    "predictor_var = ['TotalIncome_log','LoanAmount_log','LTRatio','Credit_History','Dependents']\n",
    "classification_model(rf5,train,test,predictor_var,target,IDcol,'rf5.csv')"
   ]
  },
  {
   "cell_type": "code",
   "execution_count": 336,
   "metadata": {},
   "outputs": [
    {
     "name": "stdout",
     "output_type": "stream",
     "text": [
      "Collecting xgboost\n",
      "  Downloading xgboost-0.6a2.tar.gz (1.2MB)\n"
     ]
    },
    {
     "name": "stderr",
     "output_type": "stream",
     "text": [
      "No files/directories in c:\\users\\suhas\\appdata\\local\\temp\\pip-build-usest0\\xgboost\\pip-egg-info (from PKG-INFO)\n"
     ]
    }
   ],
   "source": [
    "#!pip install xgboost"
   ]
  },
  {
   "cell_type": "code",
   "execution_count": 345,
   "metadata": {},
   "outputs": [
    {
     "name": "stdout",
     "output_type": "stream",
     "text": [
      "Accuracy : 85.179%\n",
      "Cross-Validation Score : 78.662%\n"
     ]
    },
    {
     "name": "stderr",
     "output_type": "stream",
     "text": [
      "C:\\Users\\Suhas\\Anaconda2\\lib\\site-packages\\ipykernel_launcher.py:46: SettingWithCopyWarning: \n",
      "A value is trying to be set on a copy of a slice from a DataFrame.\n",
      "Try using .loc[row_indexer,col_indexer] = value instead\n",
      "\n",
      "See the caveats in the documentation: http://pandas.pydata.org/pandas-docs/stable/indexing.html#indexing-view-versus-copy\n"
     ]
    }
   ],
   "source": [
    "#https://stackoverflow.com/questions/35139108/how-to-install-xgboost-in-anaconda-python-windows-platform\n",
    "import xgboost\n",
    "from xgboost.sklearn import XGBClassifier\n",
    "xgb1 = XGBClassifier(learning_rate =0.1, n_estimators=1000, max_depth=8, min_child_weight=6, gamma=0.1, subsample=0.95,\n",
    "                     colsample_bytree=0.95, reg_alpha=2, objective= 'binary:logistic', nthread=4, scale_pos_weight=1, seed=27)\n",
    "\n",
    "predictor_var = ['Gender', 'Married', 'Dependents', 'Education','Self_Employed', 'Loan_Amount_Term', 'Credit_History', 'Property_Area','LoanAmount']\n",
    "classification_model(xgb1,train,test,predictor_var,target,IDcol,'xgb1.csv')"
   ]
  },
  {
   "cell_type": "code",
   "execution_count": 346,
   "metadata": {},
   "outputs": [
    {
     "name": "stdout",
     "output_type": "stream",
     "text": [
      "Accuracy : 82.410%\n",
      "Cross-Validation Score : 80.293%\n"
     ]
    },
    {
     "name": "stderr",
     "output_type": "stream",
     "text": [
      "C:\\Users\\Suhas\\Anaconda2\\lib\\site-packages\\ipykernel_launcher.py:46: SettingWithCopyWarning: \n",
      "A value is trying to be set on a copy of a slice from a DataFrame.\n",
      "Try using .loc[row_indexer,col_indexer] = value instead\n",
      "\n",
      "See the caveats in the documentation: http://pandas.pydata.org/pandas-docs/stable/indexing.html#indexing-view-versus-copy\n"
     ]
    }
   ],
   "source": [
    "from xgboost.sklearn import XGBClassifier\n",
    "xgb2 = XGBClassifier(learning_rate =0.1, n_estimators=1000, max_depth=8, min_child_weight=6, gamma=0.1, subsample=0.95,\n",
    "                     colsample_bytree=0.95, reg_alpha=2, objective= 'binary:logistic', nthread=4, scale_pos_weight=1, seed=27)\n",
    "\n",
    "predictor_var = ['LoanAmount','Credit_History','Dependents','Property_Area','Loan_Amount_Term']\n",
    "classification_model(xgb2,train,test,predictor_var,target,IDcol,'xgb2.csv')"
   ]
  },
  {
   "cell_type": "code",
   "execution_count": 462,
   "metadata": {},
   "outputs": [
    {
     "name": "stdout",
     "output_type": "stream",
     "text": [
      "Accuracy : 88.599%\n",
      "Cross-Validation Score : 79.316%\n"
     ]
    },
    {
     "name": "stderr",
     "output_type": "stream",
     "text": [
      "C:\\Users\\Suhas\\Anaconda2\\lib\\site-packages\\ipykernel_launcher.py:47: SettingWithCopyWarning: \n",
      "A value is trying to be set on a copy of a slice from a DataFrame.\n",
      "Try using .loc[row_indexer,col_indexer] = value instead\n",
      "\n",
      "See the caveats in the documentation: http://pandas.pydata.org/pandas-docs/stable/indexing.html#indexing-view-versus-copy\n"
     ]
    }
   ],
   "source": [
    "xgb3 = XGBClassifier(learning_rate =0.1, n_estimators=1000, max_depth=8, min_child_weight=6, gamma=0.1, subsample=0.95,\n",
    "                     colsample_bytree=0.95, reg_alpha=2, objective= 'binary:logistic', nthread=4, scale_pos_weight=1, seed=27)\n",
    "\n",
    "predictor_var = ['TotalIncome_log','LoanAmount_log','LTRatio','Credit_History','Dependents']\n",
    "classification_model(xgb3,train,test,predictor_var,target,IDcol,'xgb3.csv')"
   ]
  }
 ],
 "metadata": {
  "kernelspec": {
   "display_name": "Python 2",
   "language": "python",
   "name": "python2"
  },
  "language_info": {
   "codemirror_mode": {
    "name": "ipython",
    "version": 2
   },
   "file_extension": ".py",
   "mimetype": "text/x-python",
   "name": "python",
   "nbconvert_exporter": "python",
   "pygments_lexer": "ipython2",
   "version": "2.7.13"
  }
 },
 "nbformat": 4,
 "nbformat_minor": 2
}
