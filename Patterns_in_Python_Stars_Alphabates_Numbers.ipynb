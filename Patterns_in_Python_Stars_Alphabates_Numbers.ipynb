{
 "cells": [
  {
   "cell_type": "code",
   "execution_count": 168,
   "metadata": {},
   "outputs": [
    {
     "name": "stdout",
     "output_type": "stream",
     "text": [
      "[1]\n",
      "[1, 2]\n",
      "[1, 2, 3]\n",
      "[1, 2, 3, 4]\n"
     ]
    }
   ],
   "source": [
    "for i in range(2,6):\n",
    "     print range(1,i)"
   ]
  },
  {
   "cell_type": "code",
   "execution_count": 196,
   "metadata": {},
   "outputs": [
    {
     "name": "stdout",
     "output_type": "stream",
     "text": [
      "1 \r\n",
      "1 2 \r\n",
      "1 2 3 \r\n",
      "1 2 3 4 \r\n",
      "1 2 3 4 5 \r\n"
     ]
    }
   ],
   "source": [
    "n = 6\n",
    "for i in range(2,n+1):\n",
    "    for j in range(1,i):\n",
    "        print (j),\n",
    "    print ('\\r')"
   ]
  },
  {
   "cell_type": "code",
   "execution_count": 173,
   "metadata": {},
   "outputs": [
    {
     "name": "stdout",
     "output_type": "stream",
     "text": [
      "1 2 3 4 5 \r\n",
      "1 2 3 4 \r\n",
      "1 2 3 \r\n",
      "1 2 \r\n",
      "1 \r\n"
     ]
    }
   ],
   "source": [
    "n = 6\n",
    "for i in range(n-1):\n",
    "    for j in range(1,n-i):\n",
    "        print (j),\n",
    "    print ('\\r')"
   ]
  },
  {
   "cell_type": "code",
   "execution_count": 170,
   "metadata": {},
   "outputs": [
    {
     "name": "stdout",
     "output_type": "stream",
     "text": [
      "1 \r\n",
      "2 2 \r\n",
      "3 3 3 \r\n",
      "4 4 4 4 \r\n",
      "5 5 5 5 5 \r\n"
     ]
    }
   ],
   "source": [
    "n = 6\n",
    "for i in range(1,n):\n",
    "    for j in range(i):\n",
    "        print (i),\n",
    "    print ('\\r')"
   ]
  },
  {
   "cell_type": "code",
   "execution_count": 172,
   "metadata": {},
   "outputs": [
    {
     "name": "stdout",
     "output_type": "stream",
     "text": [
      "1 1 1 1 1 \r\n",
      "2 2 2 2 \r\n",
      "3 3 3 \r\n",
      "4 4 \r\n",
      "5 \r\n"
     ]
    }
   ],
   "source": [
    "n = 6\n",
    "for i in range(1,n):\n",
    "    for j in range(n-i):\n",
    "        print (i),\n",
    "    print ('\\r')"
   ]
  },
  {
   "cell_type": "code",
   "execution_count": 171,
   "metadata": {},
   "outputs": [
    {
     "name": "stdout",
     "output_type": "stream",
     "text": [
      "* \r\n",
      "* * \r\n",
      "* * * \r\n",
      "* * * * \r\n",
      "* * * * * \r\n"
     ]
    }
   ],
   "source": [
    "n = 6\n",
    "for i in range(1,n):\n",
    "    for j in range(i):\n",
    "        print ('*'),\n",
    "    print ('\\r')"
   ]
  },
  {
   "cell_type": "code",
   "execution_count": 174,
   "metadata": {},
   "outputs": [
    {
     "name": "stdout",
     "output_type": "stream",
     "text": [
      "* * * * * \r\n",
      "* * * * \r\n",
      "* * * \r\n",
      "* * \r\n",
      "* \r\n"
     ]
    }
   ],
   "source": [
    "n = 6\n",
    "for i in range(1,n):\n",
    "    for j in range(n-i):\n",
    "        print ('*'),\n",
    "    print ('\\r')"
   ]
  },
  {
   "cell_type": "code",
   "execution_count": 175,
   "metadata": {},
   "outputs": [
    {
     "name": "stdout",
     "output_type": "stream",
     "text": [
      "A \r\n",
      "B C \r\n",
      "D E F \r\n",
      "G H I J \r\n",
      "K L M N O \r\n"
     ]
    }
   ],
   "source": [
    "n = 6\n",
    "a = 65\n",
    "for i in range(1,n):\n",
    "    for j in range(i):\n",
    "        print (chr(a)),\n",
    "        a = a + 1\n",
    "    print ('\\r')"
   ]
  },
  {
   "cell_type": "code",
   "execution_count": 176,
   "metadata": {},
   "outputs": [
    {
     "name": "stdout",
     "output_type": "stream",
     "text": [
      "A B C D E \r\n",
      "F G H I \r\n",
      "J K L \r\n",
      "M N \r\n",
      "O \r\n"
     ]
    }
   ],
   "source": [
    "n = 6\n",
    "a = 65\n",
    "for i in range(1,n):\n",
    "    for j in range(n-i):\n",
    "        print (chr(a)),\n",
    "        a = a + 1\n",
    "    print ('\\r')"
   ]
  },
  {
   "cell_type": "code",
   "execution_count": 201,
   "metadata": {},
   "outputs": [
    {
     "name": "stdout",
     "output_type": "stream",
     "text": [
      "A \r\n",
      "A B \r\n",
      "A B C \r\n",
      "A B C D \r\n",
      "A B C D E \r\n"
     ]
    }
   ],
   "source": [
    "n = 6\n",
    "for i in range(2,n+1):\n",
    "    a = 65\n",
    "    for j in range(1,i):\n",
    "        print (chr(a)),\n",
    "        a = a + 1       \n",
    "    print ('\\r')"
   ]
  },
  {
   "cell_type": "code",
   "execution_count": 199,
   "metadata": {},
   "outputs": [
    {
     "name": "stdout",
     "output_type": "stream",
     "text": [
      "A B C D E \r\n",
      "A B C D \r\n",
      "A B C \r\n",
      "A B \r\n",
      "A \r\n"
     ]
    }
   ],
   "source": [
    "n = 6\n",
    "for i in range(1,n):\n",
    "    a = 65\n",
    "    for j in range(n-i):\n",
    "        print (chr(a)),\n",
    "        a = a + 1       \n",
    "    print ('\\r')"
   ]
  },
  {
   "cell_type": "code",
   "execution_count": 178,
   "metadata": {},
   "outputs": [
    {
     "name": "stdout",
     "output_type": "stream",
     "text": [
      "A \r\n",
      "B B \r\n",
      "C C C \r\n",
      "D D D D \r\n",
      "E E E E E \r\n"
     ]
    }
   ],
   "source": [
    "n = 6\n",
    "a = 65\n",
    "for i in range(1,n):\n",
    "    for j in range(i):\n",
    "        print (chr(a)),\n",
    "    a = a + 1\n",
    "    print ('\\r')"
   ]
  },
  {
   "cell_type": "code",
   "execution_count": 192,
   "metadata": {},
   "outputs": [
    {
     "name": "stdout",
     "output_type": "stream",
     "text": [
      "A A A A A \r\n",
      "B B B B \r\n",
      "C C C \r\n",
      "D D \r\n",
      "E \r\n"
     ]
    }
   ],
   "source": [
    "n = 6\n",
    "a = 65\n",
    "for i in range(1,n):\n",
    "    for j in range(n-i):\n",
    "        print (chr(a)),\n",
    "    a = a + 1\n",
    "    print ('\\r')"
   ]
  },
  {
   "cell_type": "markdown",
   "metadata": {},
   "source": [
    "-----------------------============================------------------======================---------------------"
   ]
  }
 ],
 "metadata": {
  "kernelspec": {
   "display_name": "Python 2",
   "language": "python",
   "name": "python2"
  },
  "language_info": {
   "codemirror_mode": {
    "name": "ipython",
    "version": 2
   },
   "file_extension": ".py",
   "mimetype": "text/x-python",
   "name": "python",
   "nbconvert_exporter": "python",
   "pygments_lexer": "ipython2",
   "version": "2.7.13"
  }
 },
 "nbformat": 4,
 "nbformat_minor": 2
}
