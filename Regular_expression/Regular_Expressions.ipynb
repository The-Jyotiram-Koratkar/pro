{
 "cells": [
  {
   "cell_type": "markdown",
   "metadata": {
    "collapsed": true
   },
   "source": [
    "# Problem statement: Write a python script using regular expression for extracting the date, time and email address from a text.\n"
   ]
  },
  {
   "cell_type": "markdown",
   "metadata": {},
   "source": [
    "Importing re library for Regular expressions"
   ]
  },
  {
   "cell_type": "code",
   "execution_count": 3,
   "metadata": {
    "collapsed": true
   },
   "outputs": [],
   "source": [
    "import re"
   ]
  },
  {
   "cell_type": "markdown",
   "metadata": {},
   "source": [
    "1. Reading text file\n",
    "2. Replacing new line and spaces\n",
    "3. Creating a string using for loop"
   ]
  },
  {
   "cell_type": "code",
   "execution_count": 4,
   "metadata": {},
   "outputs": [
    {
     "name": "stdout",
     "output_type": "stream",
     "text": [
      "Date pattern should consider valid name of months, number of days (1 to 31), number of months (1 to 12) and different styles of writing date patterns.         Correct date patterns:         24th April 1973         15 November 1989         October 2013         16/11/2016         16.11.2016         16-11-2016         2016-11-16,         9.9.1994 6.02.2006          Incorrect date patterns: 02-29-2011  ---- (months should be between 1 to 12) 32-12-2011  ---- (day should be between 1 to 31) 01@11@2011  ---- (we don't use special symbols like @,#,$,%,^,&,*,*! for writing date pattern) Cricket 2013 ---- (cricket is not a month name here)   Time pattern should consider valid hours, minutes, seconds and different styles of writing patterns.       Correct time patterns:         7 am 6 pm 04:30 pm 8:30 am 00:59 am 12:00 pm 12:30:45 pm     Incorrect time patterns: 305 pm....... (hours should be between 1 to 12)          41:30 pm ... (hours should be between 0 to 12) 04:70 am.... (minutes should be between 0 to 60) 04:30.70 am...(seconds should be between 0 to 60)       Email pattern should consider which letters/special characters are used.      Correct email patterns:         sachin@gmail.com    sachin.1973@gmail.com    sachin.r.t@yahoo.com     Sachin.r.t.73@yahoo.com    sachin_1973@yahoo.co.in       Incorrect email patterns: sachin@gmail @sachin.com sachin.at.yahoo.com s#@%^%#$@#$@#.com .sachin@gmail.com sachin@-gmail.com sachin@1973@yahoo.com\n"
     ]
    }
   ],
   "source": [
    "with open('D://suhas doc//text.txt') as myfile:\n",
    "    data = myfile.readlines()\n",
    "data = [x.replace('\\n',' ').replace('\\t','') for x in data]\n",
    "l = \"\"\n",
    "for i in range(len(data)):\n",
    "    l = l +''.join(data[i])\n",
    "    \n",
    "print l"
   ]
  },
  {
   "cell_type": "code",
   "execution_count": 5,
   "metadata": {},
   "outputs": [
    {
     "data": {
      "text/plain": [
       "str"
      ]
     },
     "execution_count": 5,
     "metadata": {},
     "output_type": "execute_result"
    }
   ],
   "source": [
    "type(l)"
   ]
  },
  {
   "cell_type": "markdown",
   "metadata": {},
   "source": [
    "Task 1: Extracting valid Email patterns"
   ]
  },
  {
   "cell_type": "code",
   "execution_count": 6,
   "metadata": {},
   "outputs": [
    {
     "data": {
      "text/plain": [
       "['sachin@gmail.com',\n",
       " 'sachin.1973@gmail.com',\n",
       " 'sachin.r.t@yahoo.com',\n",
       " 'Sachin.r.t.73@yahoo.com',\n",
       " 'sachin_1973@yahoo.co.in',\n",
       " 'sachin@gmail.com']"
      ]
     },
     "execution_count": 6,
     "metadata": {},
     "output_type": "execute_result"
    }
   ],
   "source": [
    "re.findall(\"[^\\.|\\\\s|0-9|@][A-Za-z|_|.|0-9]+@[\\w]+\\.[\\w]+\\.*[\\w]+\",l)"
   ]
  },
  {
   "cell_type": "markdown",
   "metadata": {},
   "source": [
    "Task 2: Extracting valid Date patterns"
   ]
  },
  {
   "cell_type": "code",
   "execution_count": 236,
   "metadata": {},
   "outputs": [
    {
     "data": {
      "text/plain": [
       "['24th April 1973',\n",
       " '15 November 1989',\n",
       " '16/11/2016',\n",
       " '16.11.2016',\n",
       " '16-11-2016',\n",
       " '2016-11-16',\n",
       " '9.9.1994',\n",
       " '6.02.2006']"
      ]
     },
     "execution_count": 236,
     "metadata": {},
     "output_type": "execute_result"
    }
   ],
   "source": [
    "re.findall(\"[0-3][0-9][t|s][h|t]+\\s\\w+\\s\\d+|[0-3][0-9]\\s+[^am|pm]\\w+\\s\\d+|(?=Cricket\\.)\\w+\\s+[2][0-9][0-9][0-9]|[0-3]+[0-9]+/+[0-1]+[0-2]+/+[2]+[0]+[0-9]+[0-9]|[0-3]+[0-9]+\\.+[0-1]+[0-2]+\\.+[1-2]+[0-9]+[0-9]+[0-9]|[0-1][0-9]+-+[0-1][0-9]+-+[1-2][0-9][0-9][0-9]|[1-2][0-9][0-9][0-9]+-+[0-1][0-9]+-+[0-3][0-9]|[0-9]+\\.+[0-9]+\\.+[1-2][0-9][0-9][0-9]\",l)"
   ]
  },
  {
   "cell_type": "markdown",
   "metadata": {},
   "source": [
    "Task 3:Extracting valid Time patterns"
   ]
  },
  {
   "cell_type": "code",
   "execution_count": 7,
   "metadata": {},
   "outputs": [
    {
     "data": {
      "text/plain": [
       "[' 7 am',\n",
       " ' 6 pm',\n",
       " ' 04:30 pm',\n",
       " ' 8:30 am',\n",
       " ' 00:59 am',\n",
       " ' 12:00 pm',\n",
       " ' 12:30:45 pm']"
      ]
     },
     "execution_count": 7,
     "metadata": {},
     "output_type": "execute_result"
    }
   ],
   "source": [
    "re.findall(\"\\s[0-9] [a|p]+m|\\s[0-9]:[0-5][0-9] [a|p]+m|\\s[0-1][0-9]:[0-5][0-9] [a|p]+m|\\s[0-9]:[0-5][0-9][a|p]+m|\\s[0-1][0-9]:[0-6][0-9]:[0-6][0-9] [a|p]+m\",l)"
   ]
  }
 ],
 "metadata": {
  "celltoolbar": "Raw Cell Format",
  "kernelspec": {
   "display_name": "Python 3",
   "language": "python",
   "name": "python3"
  },
  "language_info": {
   "codemirror_mode": {
    "name": "ipython",
    "version": 3
   },
   "file_extension": ".py",
   "mimetype": "text/x-python",
   "name": "python",
   "nbconvert_exporter": "python",
   "pygments_lexer": "ipython3",
   "version": "3.6.3"
  }
 },
 "nbformat": 4,
 "nbformat_minor": 2
}
