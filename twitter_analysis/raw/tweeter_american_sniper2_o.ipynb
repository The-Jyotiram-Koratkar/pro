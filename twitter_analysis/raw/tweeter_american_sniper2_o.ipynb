{
 "cells": [
  {
   "cell_type": "code",
   "execution_count": 155,
   "metadata": {
    "collapsed": true
   },
   "outputs": [],
   "source": [
    "import pandas as pd\n",
    "import re\n",
    "data = pd.read_csv(\"/home/cso/Downloads/as_tweets.txt\",delimiter=\"\\t\")"
   ]
  },
  {
   "cell_type": "code",
   "execution_count": 156,
   "metadata": {},
   "outputs": [
    {
     "data": {
      "text/plain": [
       "99155"
      ]
     },
     "execution_count": 156,
     "metadata": {},
     "output_type": "execute_result"
    }
   ],
   "source": [
    "len(data)"
   ]
  },
  {
   "cell_type": "code",
   "execution_count": 157,
   "metadata": {},
   "outputs": [
    {
     "data": {
      "text/html": [
       "<div>\n",
       "<style>\n",
       "    .dataframe thead tr:only-child th {\n",
       "        text-align: right;\n",
       "    }\n",
       "\n",
       "    .dataframe thead th {\n",
       "        text-align: left;\n",
       "    }\n",
       "\n",
       "    .dataframe tbody tr th {\n",
       "        vertical-align: top;\n",
       "    }\n",
       "</style>\n",
       "<table border=\"1\" class=\"dataframe\">\n",
       "  <thead>\n",
       "    <tr style=\"text-align: right;\">\n",
       "      <th></th>\n",
       "      <th>American Sniper</th>\n",
       "    </tr>\n",
       "  </thead>\n",
       "  <tbody>\n",
       "    <tr>\n",
       "      <th>0</th>\n",
       "      <td>If American Sniper doesn't make you proud to b...</td>\n",
       "    </tr>\n",
       "    <tr>\n",
       "      <th>1</th>\n",
       "      <td>Retweet if you're going to see the movie Ameri...</td>\n",
       "    </tr>\n",
       "    <tr>\n",
       "      <th>2</th>\n",
       "      <td>Retweet if you're going to see the movie Ameri...</td>\n",
       "    </tr>\n",
       "    <tr>\n",
       "      <th>3</th>\n",
       "      <td>Retweet if you're going to see the movie Ameri...</td>\n",
       "    </tr>\n",
       "    <tr>\n",
       "      <th>4</th>\n",
       "      <td>Fav if you're going to see the movie American ...</td>\n",
       "    </tr>\n",
       "    <tr>\n",
       "      <th>5</th>\n",
       "      <td>I just watched American Sniper. You have to se...</td>\n",
       "    </tr>\n",
       "    <tr>\n",
       "      <th>6</th>\n",
       "      <td>Did you know #Jesseventura sued fallen seal es...</td>\n",
       "    </tr>\n",
       "    <tr>\n",
       "      <th>7</th>\n",
       "      <td>American Sniper kind of reminds me of the movi...</td>\n",
       "    </tr>\n",
       "    <tr>\n",
       "      <th>8</th>\n",
       "      <td>Did y’all see \"American Sniper\"? What a powerf...</td>\n",
       "    </tr>\n",
       "    <tr>\n",
       "      <th>9</th>\n",
       "      <td>american sniper قصة حقيقية 2015  1- http://t.c...</td>\n",
       "    </tr>\n",
       "    <tr>\n",
       "      <th>10</th>\n",
       "      <td>Bradley Cooper killed that role in American Sn...</td>\n",
       "    </tr>\n",
       "    <tr>\n",
       "      <th>11</th>\n",
       "      <td>wanna feel old? this is what the american snip...</td>\n",
       "    </tr>\n",
       "    <tr>\n",
       "      <th>12</th>\n",
       "      <td>Ultimate respect for Chris Kyle. (1974-2013) R...</td>\n",
       "    </tr>\n",
       "    <tr>\n",
       "      <th>13</th>\n",
       "      <td>↑↑↓↓ #بإنفرآد ~ فلم #القناصه المنتظر American ...</td>\n",
       "    </tr>\n",
       "    <tr>\n",
       "      <th>14</th>\n",
       "      <td>I thought American Sniper didn't come out unti...</td>\n",
       "    </tr>\n",
       "    <tr>\n",
       "      <th>15</th>\n",
       "      <td>Getting emotional when they see American Snipe...</td>\n",
       "    </tr>\n",
       "    <tr>\n",
       "      <th>16</th>\n",
       "      <td>I thought American Sniper didn't come out unti...</td>\n",
       "    </tr>\n",
       "    <tr>\n",
       "      <th>17</th>\n",
       "      <td>Just saw American Sniper!!!  That movie is so ...</td>\n",
       "    </tr>\n",
       "    <tr>\n",
       "      <th>18</th>\n",
       "      <td>RT if you're going to see American Sniper! htt...</td>\n",
       "    </tr>\n",
       "    <tr>\n",
       "      <th>19</th>\n",
       "      <td>#AmericanSniper Chris Kyle's widow: This movie...</td>\n",
       "    </tr>\n",
       "    <tr>\n",
       "      <th>20</th>\n",
       "      <td>Post got it right . American sniper is a great...</td>\n",
       "    </tr>\n",
       "    <tr>\n",
       "      <th>21</th>\n",
       "      <td>Just saw American Sniper great movie thinking ...</td>\n",
       "    </tr>\n",
       "    <tr>\n",
       "      <th>22</th>\n",
       "      <td>“Well, the only way we beat American Sniper fo...</td>\n",
       "    </tr>\n",
       "    <tr>\n",
       "      <th>23</th>\n",
       "      <td>American Sniper was truly great. I should have...</td>\n",
       "    </tr>\n",
       "    <tr>\n",
       "      <th>24</th>\n",
       "      <td>About to watch American Sniper with my 3 week ...</td>\n",
       "    </tr>\n",
       "    <tr>\n",
       "      <th>25</th>\n",
       "      <td>'American Sniper' wins box office again http:/...</td>\n",
       "    </tr>\n",
       "    <tr>\n",
       "      <th>26</th>\n",
       "      <td>American Sniper was crazz good</td>\n",
       "    </tr>\n",
       "    <tr>\n",
       "      <th>27</th>\n",
       "      <td>Bradley Cooper is awesome in #AmericanSniper S...</td>\n",
       "    </tr>\n",
       "    <tr>\n",
       "      <th>28</th>\n",
       "      <td>Bradley Cooper was fantastic in American Snipe...</td>\n",
       "    </tr>\n",
       "    <tr>\n",
       "      <th>29</th>\n",
       "      <td>'American Sniper' widow speechless as group do...</td>\n",
       "    </tr>\n",
       "    <tr>\n",
       "      <th>...</th>\n",
       "      <td>...</td>\n",
       "    </tr>\n",
       "    <tr>\n",
       "      <th>44</th>\n",
       "      <td>If \"American Sniper\" is (to use Bill Maher's w...</td>\n",
       "    </tr>\n",
       "    <tr>\n",
       "      <th>45</th>\n",
       "      <td>RT \"@Berduu \"American Camper\". Not directed by...</td>\n",
       "    </tr>\n",
       "    <tr>\n",
       "      <th>46</th>\n",
       "      <td>اعلان فيلم american sniper القصة الحقيقية للقن...</td>\n",
       "    </tr>\n",
       "    <tr>\n",
       "      <th>47</th>\n",
       "      <td>i want to see american sniper 🇺🇸</td>\n",
       "    </tr>\n",
       "    <tr>\n",
       "      <th>48</th>\n",
       "      <td>“American Sniper” is now the number one domest...</td>\n",
       "    </tr>\n",
       "    <tr>\n",
       "      <th>49</th>\n",
       "      <td>Box office: #AmericanSniper shatters records w...</td>\n",
       "    </tr>\n",
       "    <tr>\n",
       "      <th>50</th>\n",
       "      <td>Genuinely pleased with American Sniper. Bradle...</td>\n",
       "    </tr>\n",
       "    <tr>\n",
       "      <th>51</th>\n",
       "      <td>American Sniper made $91 million at the box of...</td>\n",
       "    </tr>\n",
       "    <tr>\n",
       "      <th>52</th>\n",
       "      <td>Watching american sniper this guy cant even fu...</td>\n",
       "    </tr>\n",
       "    <tr>\n",
       "      <th>53</th>\n",
       "      <td>Intvd Bradley Cooper, Clint Eastwood, Taya Kyl...</td>\n",
       "    </tr>\n",
       "    <tr>\n",
       "      <th>54</th>\n",
       "      <td>See Bradley Cooper Play a Reluctant Hero in Ne...</td>\n",
       "    </tr>\n",
       "    <tr>\n",
       "      <th>55</th>\n",
       "      <td>#AmericanSniper Chris Kyle's widow: How she's ...</td>\n",
       "    </tr>\n",
       "    <tr>\n",
       "      <th>56</th>\n",
       "      <td>His one mission: To protect his brothers-in-ar...</td>\n",
       "    </tr>\n",
       "    <tr>\n",
       "      <th>57</th>\n",
       "      <td>I'm calling it. Greatest movie of all time, ab...</td>\n",
       "    </tr>\n",
       "    <tr>\n",
       "      <th>58</th>\n",
       "      <td>Box office: American Sniper has a record-break...</td>\n",
       "    </tr>\n",
       "    <tr>\n",
       "      <th>59</th>\n",
       "      <td>For your consideration: Fake Baby from 'Americ...</td>\n",
       "    </tr>\n",
       "    <tr>\n",
       "      <th>60</th>\n",
       "      <td>Bradley Cooper on #AmericanSniper, packing on ...</td>\n",
       "    </tr>\n",
       "    <tr>\n",
       "      <th>61</th>\n",
       "      <td>American Sniper was decent it's just that some...</td>\n",
       "    </tr>\n",
       "    <tr>\n",
       "      <th>62</th>\n",
       "      <td>Please go see #AmericanSniper</td>\n",
       "    </tr>\n",
       "    <tr>\n",
       "      <th>63</th>\n",
       "      <td>Bradley Cooper is brilliant. #AmericanSniper m...</td>\n",
       "    </tr>\n",
       "    <tr>\n",
       "      <th>64</th>\n",
       "      <td>American Sniper ft. Ryan Braun..😂 https://t.co...</td>\n",
       "    </tr>\n",
       "    <tr>\n",
       "      <th>65</th>\n",
       "      <td>American Sniper looks like a must see.</td>\n",
       "    </tr>\n",
       "    <tr>\n",
       "      <th>66</th>\n",
       "      <td>Congratulations to Bradley Cooper on his #Crit...</td>\n",
       "    </tr>\n",
       "    <tr>\n",
       "      <th>67</th>\n",
       "      <td>American Sniper ft. Ryan Braun😂😂 https://t.co/...</td>\n",
       "    </tr>\n",
       "    <tr>\n",
       "      <th>68</th>\n",
       "      <td>Dean Cain on #AmericanSniper Chris Kyle: He'd ...</td>\n",
       "    </tr>\n",
       "    <tr>\n",
       "      <th>69</th>\n",
       "      <td>I just bought 30 tickets for next weeks Americ...</td>\n",
       "    </tr>\n",
       "    <tr>\n",
       "      <th>70</th>\n",
       "      <td>Tonight's Mansion movie is \"American Sniper.\"</td>\n",
       "    </tr>\n",
       "    <tr>\n",
       "      <th>71</th>\n",
       "      <td>The anticipation for \"American Sniper\" is real</td>\n",
       "    </tr>\n",
       "    <tr>\n",
       "      <th>72</th>\n",
       "      <td>#AmericanSniper left me in silence &amp; tears- Go...</td>\n",
       "    </tr>\n",
       "    <tr>\n",
       "      <th>73</th>\n",
       "      <td>This is the kind of respect America shows a he...</td>\n",
       "    </tr>\n",
       "  </tbody>\n",
       "</table>\n",
       "<p>74 rows × 1 columns</p>\n",
       "</div>"
      ],
      "text/plain": [
       "                                      American Sniper\n",
       "0   If American Sniper doesn't make you proud to b...\n",
       "1   Retweet if you're going to see the movie Ameri...\n",
       "2   Retweet if you're going to see the movie Ameri...\n",
       "3   Retweet if you're going to see the movie Ameri...\n",
       "4   Fav if you're going to see the movie American ...\n",
       "5   I just watched American Sniper. You have to se...\n",
       "6   Did you know #Jesseventura sued fallen seal es...\n",
       "7   American Sniper kind of reminds me of the movi...\n",
       "8   Did y’all see \"American Sniper\"? What a powerf...\n",
       "9   american sniper قصة حقيقية 2015  1- http://t.c...\n",
       "10  Bradley Cooper killed that role in American Sn...\n",
       "11  wanna feel old? this is what the american snip...\n",
       "12  Ultimate respect for Chris Kyle. (1974-2013) R...\n",
       "13  ↑↑↓↓ #بإنفرآد ~ فلم #القناصه المنتظر American ...\n",
       "14  I thought American Sniper didn't come out unti...\n",
       "15  Getting emotional when they see American Snipe...\n",
       "16  I thought American Sniper didn't come out unti...\n",
       "17  Just saw American Sniper!!!  That movie is so ...\n",
       "18  RT if you're going to see American Sniper! htt...\n",
       "19  #AmericanSniper Chris Kyle's widow: This movie...\n",
       "20  Post got it right . American sniper is a great...\n",
       "21  Just saw American Sniper great movie thinking ...\n",
       "22  “Well, the only way we beat American Sniper fo...\n",
       "23  American Sniper was truly great. I should have...\n",
       "24  About to watch American Sniper with my 3 week ...\n",
       "25  'American Sniper' wins box office again http:/...\n",
       "26                     American Sniper was crazz good\n",
       "27  Bradley Cooper is awesome in #AmericanSniper S...\n",
       "28  Bradley Cooper was fantastic in American Snipe...\n",
       "29  'American Sniper' widow speechless as group do...\n",
       "..                                                ...\n",
       "44  If \"American Sniper\" is (to use Bill Maher's w...\n",
       "45  RT \"@Berduu \"American Camper\". Not directed by...\n",
       "46  اعلان فيلم american sniper القصة الحقيقية للقن...\n",
       "47                   i want to see american sniper 🇺🇸\n",
       "48  “American Sniper” is now the number one domest...\n",
       "49  Box office: #AmericanSniper shatters records w...\n",
       "50  Genuinely pleased with American Sniper. Bradle...\n",
       "51  American Sniper made $91 million at the box of...\n",
       "52  Watching american sniper this guy cant even fu...\n",
       "53  Intvd Bradley Cooper, Clint Eastwood, Taya Kyl...\n",
       "54  See Bradley Cooper Play a Reluctant Hero in Ne...\n",
       "55  #AmericanSniper Chris Kyle's widow: How she's ...\n",
       "56  His one mission: To protect his brothers-in-ar...\n",
       "57  I'm calling it. Greatest movie of all time, ab...\n",
       "58  Box office: American Sniper has a record-break...\n",
       "59  For your consideration: Fake Baby from 'Americ...\n",
       "60  Bradley Cooper on #AmericanSniper, packing on ...\n",
       "61  American Sniper was decent it's just that some...\n",
       "62                      Please go see #AmericanSniper\n",
       "63  Bradley Cooper is brilliant. #AmericanSniper m...\n",
       "64  American Sniper ft. Ryan Braun..😂 https://t.co...\n",
       "65             American Sniper looks like a must see.\n",
       "66  Congratulations to Bradley Cooper on his #Crit...\n",
       "67  American Sniper ft. Ryan Braun😂😂 https://t.co/...\n",
       "68  Dean Cain on #AmericanSniper Chris Kyle: He'd ...\n",
       "69  I just bought 30 tickets for next weeks Americ...\n",
       "70      Tonight's Mansion movie is \"American Sniper.\"\n",
       "71     The anticipation for \"American Sniper\" is real\n",
       "72  #AmericanSniper left me in silence & tears- Go...\n",
       "73  This is the kind of respect America shows a he...\n",
       "\n",
       "[74 rows x 1 columns]"
      ]
     },
     "metadata": {},
     "output_type": "display_data"
    }
   ],
   "source": [
    "display(data.head(74))"
   ]
  },
  {
   "cell_type": "code",
   "execution_count": 158,
   "metadata": {
    "collapsed": true
   },
   "outputs": [],
   "source": [
    "data = data.rename(columns={'American Sniper': 'tweets'})"
   ]
  },
  {
   "cell_type": "code",
   "execution_count": 159,
   "metadata": {
    "collapsed": true
   },
   "outputs": [],
   "source": [
    "# data['len']  = [len(t) for t in data['tweets']]"
   ]
  },
  {
   "cell_type": "code",
   "execution_count": 160,
   "metadata": {
    "collapsed": true
   },
   "outputs": [],
   "source": [
    "data['hashtags'] = data['tweets'].apply(lambda x: [x for x in x.split() if x.startswith('#')])\n",
    "data['hashtags'] = data['hashtags'].apply(', '.join)\n",
    "data['hashtags'] = data['hashtags'].apply(lambda x: x.replace('#',''))"
   ]
  },
  {
   "cell_type": "code",
   "execution_count": 161,
   "metadata": {
    "collapsed": true
   },
   "outputs": [],
   "source": [
    "data['mentions'] = data['tweets'].apply(lambda x: [x for x in x.split() if x.startswith('@')])\n",
    "data['mentions'] = data['mentions'].apply(', '.join)\n",
    "# data['mentions'] = data['mentions'].apply(lambda x: x.replace('@',''))"
   ]
  },
  {
   "cell_type": "code",
   "execution_count": 162,
   "metadata": {},
   "outputs": [
    {
     "name": "stdout",
     "output_type": "stream",
     "text": [
      "Reading twitter - 1grams ...\n",
      "Reading twitter - 2grams ...\n",
      "Reading english - 1grams ...\n",
      "Reading english - 2grams ...\n"
     ]
    }
   ],
   "source": [
    "# !pip install ekphrasis\n",
    "# !pip install ujson\n",
    "from ekphrasis.classes.segmenter import Segmenter\n",
    "\n",
    "seg_tw = Segmenter(corpus=\"twitter\")\n",
    "\n",
    "seg_eng = Segmenter(corpus=\"english\")"
   ]
  },
  {
   "cell_type": "code",
   "execution_count": 163,
   "metadata": {
    "collapsed": true
   },
   "outputs": [],
   "source": [
    "#data['hashwords'] = \n",
    "data['hashwords'] = data['hashtags'].apply(lambda x: seg_tw.segment(x))  #seg_tw.segment(w)"
   ]
  },
  {
   "cell_type": "code",
   "execution_count": 164,
   "metadata": {
    "collapsed": true
   },
   "outputs": [],
   "source": [
    "data['tweets'] = data['tweets'].apply(lambda x: re.sub('  ', ' ', x))"
   ]
  },
  {
   "cell_type": "code",
   "execution_count": 165,
   "metadata": {
    "collapsed": true
   },
   "outputs": [],
   "source": [
    "#https://stackoverflow.com/questions/8689795/how-can-i-remove-non-ascii-characters-but-leave-periods-and-spaces-using-python\n",
    "\n",
    "# s = \"some\\x00string. wi😂th\\x15فيلم بحكي سيرة القناص الامريكي المثير للجدل كريس كايل # اون لاين funny❤️⚓️💪🎯🔫🏆➡🇺🇸🍔💪😂เหมือนมากแถมเล่นดีจนได้ชิงนำชายออสการ์ characters\"\n",
    "import string\n",
    "printable = set(string.printable)\n",
    "# ''.join(list(filter(lambda x: x in printable, s)))\n",
    "\n",
    "def remove_non_english(x):\n",
    "    return \"\".join(list(filter(lambda x: x in printable, x)))\n",
    "\n",
    "# def remove_hash_mentions(y):\n",
    "#     temp = \" \".join(filter(lambda x:x[0]!='#', y.split()))\n",
    "#     temp = \" \".join(filter(lambda x:x[0]!='@', temp.split()))\n",
    "#     return temp\n",
    "    \n"
   ]
  },
  {
   "cell_type": "code",
   "execution_count": 166,
   "metadata": {
    "collapsed": true
   },
   "outputs": [],
   "source": [
    "data['tweets'] = data['tweets'].apply(remove_non_english)\n",
    "# data['tweets'] = data['tweets'].apply(remove_hash_mentions)"
   ]
  },
  {
   "cell_type": "code",
   "execution_count": 167,
   "metadata": {},
   "outputs": [],
   "source": [
    "#Then write some code to modify your text according to the dictionary, something like this:\n",
    "\n",
    "# text=\"What's the best way to don't this?\"\n",
    "\n",
    "contractions = {\n",
    "\"ain't\": \"am not / are not\",\n",
    "\"aren't\": \"are not / am not\",\n",
    "\"can't\": \"cannot\",\n",
    "\"can't've\": \"cannot have\",\n",
    "\"'cause\": \"because\",\n",
    "\"could've\": \"could have\",\n",
    "\"couldn't\": \"could not\",\n",
    "\"couldn't've\": \"could not have\",\n",
    "\"didn't\": \"did not\",\n",
    "\"doesn't\": \"does not\",\n",
    "\"don't\": \"do not\",\n",
    "\"hadn't\": \"had not\",\n",
    "\"hadn't've\": \"had not have\",\n",
    "\"hasn't\": \"has not\",\n",
    "\"haven't\": \"have not\",\n",
    "\"he'd\": \"he had / he would\",\n",
    "\"he'd've\": \"he would have\",\n",
    "\"he'll\": \"he shall / he will\",\n",
    "\"he'll've\": \"he shall have / he will have\",\n",
    "\"he's\": \"he has / he is\",\n",
    "\"how'd\": \"how did\",\n",
    "\"how'd'y\": \"how do you\",\n",
    "\"how'll\": \"how will\",\n",
    "\"how's\": \"how has / how is\",\n",
    "\"i'd\": \"I had / I would\",\n",
    "\"i'd've\": \"I would have\",\n",
    "\"i'll\": \"I shall / I will\",\n",
    "\"i'll've\": \"I shall have / I will have\",\n",
    "\"i'm\": \"I am\",\n",
    "\"i've\": \"I have\",\n",
    "\"isn't\": \"is not\",\n",
    "\"it'd\": \"it had / it would\",\n",
    "\"it'd've\": \"it would have\",\n",
    "\"it'll\": \"it shall / it will\",\n",
    "\"it'll've\": \"it shall have / it will have\",\n",
    "\"it's\": \"it has / it is\",\n",
    "\"let's\": \"let us\",\n",
    "\"ma'am\": \"madam\",\n",
    "\"mayn't\": \"may not\",\n",
    "\"might've\": \"might have\",\n",
    "\"mightn't\": \"might not\",\n",
    "\"mightn't've\": \"might not have\",\n",
    "\"must've\": \"must have\",\n",
    "\"mustn't\": \"must not\",\n",
    "\"mustn't've\": \"must not have\",\n",
    "\"needn't\": \"need not\",\n",
    "\"needn't've\": \"need not have\",\n",
    "\"o'clock\": \"of the clock\",\n",
    "\"oughtn't\": \"ought not\",\n",
    "\"oughtn't've\": \"ought not have\",\n",
    "\"shan't\": \"shall not\",\n",
    "\"sha'n't\": \"shall not\",\n",
    "\"shan't've\": \"shall not have\",\n",
    "\"she'd\": \"she had / she would\",\n",
    "\"she'd've\": \"she would have\",\n",
    "\"she'll\": \"she shall / she will\",\n",
    "\"she'll've\": \"she shall have / she will have\",\n",
    "\"she's\": \"she has / she is\",\n",
    "\"should've\": \"should have\",\n",
    "\"shouldn't\": \"should not\",\n",
    "\"shouldn't've\": \"should not have\",\n",
    "\"so've\": \"so have\",\n",
    "\"so's\": \"so as / so is\",\n",
    "\"that'd\": \"that would / that had\",\n",
    "\"that'd've\": \"that would have\",\n",
    "\"that's\": \"that has / that is\",\n",
    "\"there'd\": \"there had / there would\",\n",
    "\"there'd've\": \"there would have\",\n",
    "\"there's\": \"there has / there is\",\n",
    "\"they'd\": \"they had / they would\",\n",
    "\"they'd've\": \"they would have\",\n",
    "\"they'll\": \"they shall / they will\",\n",
    "\"they'll've\": \"they shall have / they will have\",\n",
    "\"they're\": \"they are\",\n",
    "\"they've\": \"they have\",\n",
    "\"to've\": \"to have\",\n",
    "\"wasn't\": \"was not\",\n",
    "\"we'd\": \"we had / we would\",\n",
    "\"we'd've\": \"we would have\",\n",
    "\"we'll\": \"we will\",\n",
    "\"we'll've\": \"we will have\",\n",
    "\"we're\": \"we are\",\n",
    "\"we've\": \"we have\",\n",
    "\"weren't\": \"were not\",\n",
    "\"what'll\": \"what shall / what will\",\n",
    "\"what'll've\": \"what shall have / what will have\",\n",
    "\"what're\": \"what are\",\n",
    "\"what's\": \"what has / what is\",\n",
    "\"what've\": \"what have\",\n",
    "\"when's\": \"when has / when is\",\n",
    "\"when've\": \"when have\",\n",
    "\"where'd\": \"where did\",\n",
    "\"where's\": \"where has / where is\",\n",
    "\"who'll\": \"who shall / who will\",\n",
    "\"who'll've\": \"who shall have / who will have\",\n",
    "\"who's\": \"who has / who is\",\n",
    "\"who've\": \"who have\",\n",
    "\"why's\": \"why has / why is\",\n",
    "\"why've\": \"why have\",\n",
    "\"will've\": \"will have\",\n",
    "\"won't\": \"will not\",\n",
    "\"won't've\": \"will not have\",\n",
    "\"would've\": \"would have\",\n",
    "\"wouldn't\": \"would not\",\n",
    "\"wouldn't've\": \"would not have\",\n",
    "\"y'all\": \"you all\",\n",
    "\"yall\": \"you all\",\n",
    "\"y'all'd\": \"you all would\",\n",
    "\"y'all'd've\": \"you all would have\",\n",
    "\"y'all're\": \"you all are\",\n",
    "\"y'all've\": \"you all have\",\n",
    "\"you'd\": \"you had / you would\",\n",
    "\"you'd've\": \"you would have\",\n",
    "\"you'll\": \"you shall / you will\",\n",
    "\"you'll've\": \"you shall have / you will have\",\n",
    "\"you're\": \"you are\",\n",
    "\"you've\": \"you have\"\n",
    "}\n",
    "\n",
    "def appostrophe(text):\n",
    "    for word in text.split():\n",
    "        if word.lower() in contractions:\n",
    "            text = text.replace(word, contractions[word.lower()])\n",
    "    return text\n",
    "    #print(text)\n",
    "\n",
    "######################################################\n",
    "data['tweets'] = data['tweets'].apply(appostrophe)\n",
    "######################################################"
   ]
  },
  {
   "cell_type": "code",
   "execution_count": 168,
   "metadata": {},
   "outputs": [],
   "source": [
    "# !pip install tweet-preprocessor\n",
    "#urls\n",
    "import preprocessor as p\n",
    "\n",
    "data['ptweets'] = data['tweets'].apply(lambda x: p.clean(x))\n",
    "# removing the http links availaible in data\n",
    "# import re\n",
    "# data['ptweets'] = data['tweets'].replace(r'http\\S+','',regex=True).replace(r'https\\S+','',regex=True).replace(r'www\\S+', '', regex=True)"
   ]
  },
  {
   "cell_type": "code",
   "execution_count": 181,
   "metadata": {},
   "outputs": [
    {
     "data": {
      "text/plain": [
       "': movie going see? sure yet.. really wanna see american sniper'"
      ]
     },
     "execution_count": 181,
     "metadata": {},
     "output_type": "execute_result"
    }
   ],
   "source": [
    "data['new_tweets'][31]"
   ]
  },
  {
   "cell_type": "code",
   "execution_count": 170,
   "metadata": {},
   "outputs": [],
   "source": [
    "data['new_tweets'] = data[['ptweets','hashwords','mentions']].apply(lambda x: ' '.join(x), axis=1)"
   ]
  },
  {
   "cell_type": "code",
   "execution_count": 173,
   "metadata": {},
   "outputs": [
    {
     "data": {
      "text/plain": [
       "0    american sniper make proud american, probably ...\n",
       "1              retweet going see movie american sniper\n",
       "2              retweet going see movie american sniper\n",
       "3              retweet going see movie american sniper\n",
       "4                 fav going see movie american sniper!\n",
       "Name: new_tweets, dtype: object"
      ]
     },
     "execution_count": 173,
     "metadata": {},
     "output_type": "execute_result"
    }
   ],
   "source": [
    "#Removing english stopwords\n",
    "import nltk\n",
    "# nltk.download('stopwords')\n",
    "from nltk.corpus import stopwords\n",
    "stop = stopwords.words('english')\n",
    "data['new_tweets'] = [x.lower() for x in data['new_tweets']]\n",
    "data['new_tweets'] = data['new_tweets'].apply(lambda x: \" \".join(x for x in x.split() if x not in stop))\n",
    "data['new_tweets'].head()"
   ]
  },
  {
   "cell_type": "code",
   "execution_count": 174,
   "metadata": {
    "collapsed": true
   },
   "outputs": [],
   "source": [
    "ClintEastwood = data[data['new_tweets'].str.contains(r\"\\bclint\\b|\\beastwood\\b|\\bclinteastwood\\b|\\bclints\\b|\\beastwoods\\b|\\bclinteastwoods\\b\", case = False)]\n",
    "BradleyCooper = data[data['new_tweets'].str.contains(r\"\\bbradley\\b|\\bcooper\\b|\\bbradleycooper\\b|\\bbradleys\\b|\\bcoopers\\b|\\bbradleycoopers\\b\", case = False)]\n",
    "ChrisKyle = data[data['new_tweets'].str.contains(r\"\\bChris\\b|\\bkyle\\b|\\bchriskyle\\b|\\bChris\\b|\\bkyles\\b|\\bchriskyles\\b\", case = False)]\n"
   ]
  },
  {
   "cell_type": "code",
   "execution_count": null,
   "metadata": {
    "collapsed": true
   },
   "outputs": [],
   "source": [
    "Clint_Bradley_Chris"
   ]
  },
  {
   "cell_type": "code",
   "execution_count": 183,
   "metadata": {},
   "outputs": [
    {
     "name": "stderr",
     "output_type": "stream",
     "text": [
      "/home/cso/anaconda3/lib/python3.6/site-packages/ipykernel_launcher.py:6: SettingWithCopyWarning: \n",
      "A value is trying to be set on a copy of a slice from a DataFrame.\n",
      "Try using .loc[row_indexer,col_indexer] = value instead\n",
      "\n",
      "See the caveats in the documentation: http://pandas.pydata.org/pandas-docs/stable/indexing.html#indexing-view-versus-copy\n",
      "  \n"
     ]
    }
   ],
   "source": [
    "import preprocessor as p\n",
    "\n",
    "data['new_tweets'] = data['new_tweets'].apply(lambda x: p.clean(x))\n",
    "ClintEastwood['new_tweets'] = ClintEastwood['new_tweets'].apply(lambda x: p.clean(x))\n",
    "BradleyCooper['new_tweets'] = BradleyCooper['new_tweets'].apply(lambda x: p.clean(x))\n",
    "ChrisKyle['new_tweets'] = ChrisKyle['new_tweets'].apply(lambda x: p.clean(x))"
   ]
  },
  {
   "cell_type": "code",
   "execution_count": 184,
   "metadata": {},
   "outputs": [
    {
     "name": "stderr",
     "output_type": "stream",
     "text": [
      "/home/cso/anaconda3/lib/python3.6/site-packages/ipykernel_launcher.py:5: SettingWithCopyWarning: \n",
      "A value is trying to be set on a copy of a slice from a DataFrame.\n",
      "Try using .loc[row_indexer,col_indexer] = value instead\n",
      "\n",
      "See the caveats in the documentation: http://pandas.pydata.org/pandas-docs/stable/indexing.html#indexing-view-versus-copy\n",
      "  \"\"\"\n",
      "/home/cso/anaconda3/lib/python3.6/site-packages/ipykernel_launcher.py:6: SettingWithCopyWarning: \n",
      "A value is trying to be set on a copy of a slice from a DataFrame.\n",
      "Try using .loc[row_indexer,col_indexer] = value instead\n",
      "\n",
      "See the caveats in the documentation: http://pandas.pydata.org/pandas-docs/stable/indexing.html#indexing-view-versus-copy\n",
      "  \n",
      "/home/cso/anaconda3/lib/python3.6/site-packages/ipykernel_launcher.py:8: SettingWithCopyWarning: \n",
      "A value is trying to be set on a copy of a slice from a DataFrame.\n",
      "Try using .loc[row_indexer,col_indexer] = value instead\n",
      "\n",
      "See the caveats in the documentation: http://pandas.pydata.org/pandas-docs/stable/indexing.html#indexing-view-versus-copy\n",
      "  \n",
      "/home/cso/anaconda3/lib/python3.6/site-packages/ipykernel_launcher.py:9: SettingWithCopyWarning: \n",
      "A value is trying to be set on a copy of a slice from a DataFrame.\n",
      "Try using .loc[row_indexer,col_indexer] = value instead\n",
      "\n",
      "See the caveats in the documentation: http://pandas.pydata.org/pandas-docs/stable/indexing.html#indexing-view-versus-copy\n",
      "  if __name__ == '__main__':\n",
      "/home/cso/anaconda3/lib/python3.6/site-packages/ipykernel_launcher.py:11: SettingWithCopyWarning: \n",
      "A value is trying to be set on a copy of a slice from a DataFrame.\n",
      "Try using .loc[row_indexer,col_indexer] = value instead\n",
      "\n",
      "See the caveats in the documentation: http://pandas.pydata.org/pandas-docs/stable/indexing.html#indexing-view-versus-copy\n",
      "  # This is added back by InteractiveShellApp.init_path()\n",
      "/home/cso/anaconda3/lib/python3.6/site-packages/ipykernel_launcher.py:12: SettingWithCopyWarning: \n",
      "A value is trying to be set on a copy of a slice from a DataFrame.\n",
      "Try using .loc[row_indexer,col_indexer] = value instead\n",
      "\n",
      "See the caveats in the documentation: http://pandas.pydata.org/pandas-docs/stable/indexing.html#indexing-view-versus-copy\n",
      "  if sys.path[0] == '':\n"
     ]
    }
   ],
   "source": [
    "import string\n",
    "data['new_tweets'] = data['new_tweets'].apply(lambda x:\"\".join([i for i in x if i not in string.punctuation]))\n",
    "data['new_tweets'] = data['new_tweets'].apply(lambda x:\"\".join([i for i in x if i not in string.digits]))\n",
    "\n",
    "ClintEastwood['new_tweets'] = ClintEastwood['new_tweets'].apply(lambda x:\"\".join([i for i in x if i not in string.punctuation]))\n",
    "ClintEastwood['new_tweets'] = ClintEastwood['new_tweets'].apply(lambda x:\"\".join([i for i in x if i not in string.digits]))\n",
    "\n",
    "BradleyCooper['new_tweets'] = BradleyCooper['new_tweets'].apply(lambda x:\"\".join([i for i in x if i not in string.punctuation]))\n",
    "BradleyCooper['new_tweets'] = BradleyCooper['new_tweets'].apply(lambda x:\"\".join([i for i in x if i not in string.digits]))\n",
    "\n",
    "ChrisKyle['new_tweets'] = ChrisKyle['new_tweets'].apply(lambda x:\"\".join([i for i in x if i not in string.punctuation]))\n",
    "ChrisKyle['new_tweets'] = ChrisKyle['new_tweets'].apply(lambda x:\"\".join([i for i in x if i not in string.digits]))\n"
   ]
  },
  {
   "cell_type": "code",
   "execution_count": 185,
   "metadata": {},
   "outputs": [
    {
     "name": "stdout",
     "output_type": "stream",
     "text": [
      "4322\n",
      "4889\n",
      "5942\n"
     ]
    }
   ],
   "source": [
    "print (len(ClintEastwood))\n",
    "print (len(BradleyCooper))\n",
    "print (len(ChrisKyle))"
   ]
  },
  {
   "cell_type": "code",
   "execution_count": 97,
   "metadata": {},
   "outputs": [],
   "source": [
    "import sys\n",
    "# sys.setrecursionlimit(1500)"
   ]
  },
  {
   "cell_type": "code",
   "execution_count": null,
   "metadata": {
    "collapsed": true
   },
   "outputs": [],
   "source": [
    "# ClintEastwood['new_tweets'] = ClintEastwood['new_tweets']\n",
    "# BradleyCooper['new_tweets'] = BradleyCooper['new_tweets']\n",
    "# ChrisKyle['new_tweets'] = ChrisKyle['new_tweets']\n",
    "\n"
   ]
  },
  {
   "cell_type": "code",
   "execution_count": 192,
   "metadata": {
    "collapsed": true
   },
   "outputs": [
    {
     "name": "stderr",
     "output_type": "stream",
     "text": [
      "/home/cso/anaconda3/lib/python3.6/site-packages/ipykernel_launcher.py:3: SettingWithCopyWarning: \n",
      "A value is trying to be set on a copy of a slice from a DataFrame.\n",
      "Try using .loc[row_indexer,col_indexer] = value instead\n",
      "\n",
      "See the caveats in the documentation: http://pandas.pydata.org/pandas-docs/stable/indexing.html#indexing-view-versus-copy\n",
      "  This is separate from the ipykernel package so we can avoid doing imports until\n"
     ]
    }
   ],
   "source": [
    "freq = pd.Series(' '.join(ClintEastwood['new_tweets']).split()).value_counts()[:16]\n",
    "freq = list(freq.index)\n",
    "# ClintEastwood['new_tweets'] = ClintEastwood['new_tweets'].apply(lambda x: \" \".join(x for x in x.split() if x not in freq))"
   ]
  },
  {
   "cell_type": "code",
   "execution_count": 209,
   "metadata": {},
   "outputs": [
    {
     "data": {
      "text/plain": [
       "['best',\n",
       " 'director',\n",
       " 'guild',\n",
       " 'war',\n",
       " 'selma',\n",
       " 'navy',\n",
       " 'iraq',\n",
       " 'oscars',\n",
       " 'great',\n",
       " 'good']"
      ]
     },
     "execution_count": 209,
     "metadata": {},
     "output_type": "execute_result"
    }
   ],
   "source": [
    "unwanted_words = ['di','la','box','office','directors','seal','un','il','weekend','e','goes','via','watch','directed','movies','go','one','new']\n",
    "freq = pd.Series(' '.join(ClintEastwood['new_tweets']).split()).value_counts()[:30]\n",
    "freq = list(freq.index)\n",
    "freq\n",
    "ClintEastwood['trends'] = ClintEastwood['new_tweets'].apply(lambda x: \" \".join(x for x in x.split() if x not in unwanted_words))\n",
    "freq = pd.Series(' '.join(ClintEastwood['trends']).split()).value_counts()[:10]\n",
    "freq"
   ]
  },
  {
   "cell_type": "code",
   "execution_count": 223,
   "metadata": {},
   "outputs": [
    {
     "data": {
      "image/png": "[encoded data removed]",
      "text/plain": [
       "<matplotlib.figure.Figure at 0x7f1b1b95dda0>"
      ]
     },
     "metadata": {},
     "output_type": "display_data"
    }
   ],
   "source": [
    "# !pip install wordcloud\n",
    "import matplotlib.pyplot as plt\n",
    "from wordcloud import WordCloud\n",
    "%matplotlib inline\n",
    "words = ' '.join(list(ClintEastwood['trends']))\n",
    "words_wc = WordCloud(width=800,height=400,background_color='black',max_words=6, mode=\"RGBA\").generate(words)\n",
    "plt.figure(figsize=(10,8), facecolor='k')\n",
    "plt.imshow(words_wc)\n",
    "plt.axis('off')\n",
    "plt.tight_layout(pad=0)\n",
    "plt.show()"
   ]
  },
  {
   "cell_type": "code",
   "execution_count": 197,
   "metadata": {
    "collapsed": true
   },
   "outputs": [
    {
     "name": "stderr",
     "output_type": "stream",
     "text": [
      "/home/cso/anaconda3/lib/python3.6/site-packages/ipykernel_launcher.py:3: SettingWithCopyWarning: \n",
      "A value is trying to be set on a copy of a slice from a DataFrame.\n",
      "Try using .loc[row_indexer,col_indexer] = value instead\n",
      "\n",
      "See the caveats in the documentation: http://pandas.pydata.org/pandas-docs/stable/indexing.html#indexing-view-versus-copy\n",
      "  This is separate from the ipykernel package so we can avoid doing imports until\n"
     ]
    }
   ],
   "source": [
    "freq = pd.Series(' '.join(BradleyCooper['new_tweets']).split()).value_counts()[:11]\n",
    "freq = list(freq.index)\n",
    "BradleyCooper['new_tweets'] = BradleyCooper['new_tweets'].apply(lambda x: \" \".join(x for x in x.split() if x not in freq))\n"
   ]
  },
  {
   "cell_type": "code",
   "execution_count": 211,
   "metadata": {},
   "outputs": [
    {
     "name": "stderr",
     "output_type": "stream",
     "text": [
      "/home/cso/anaconda3/lib/python3.6/site-packages/ipykernel_launcher.py:5: SettingWithCopyWarning: \n",
      "A value is trying to be set on a copy of a slice from a DataFrame.\n",
      "Try using .loc[row_indexer,col_indexer] = value instead\n",
      "\n",
      "See the caveats in the documentation: http://pandas.pydata.org/pandas-docs/stable/indexing.html#indexing-view-versus-copy\n",
      "  \"\"\"\n"
     ]
    },
    {
     "data": {
      "text/plain": [
       "best           418\n",
       "oscar          387\n",
       "good           307\n",
       "great          268\n",
       "actor          266\n",
       "oscars         242\n",
       "performance    233\n",
       "amazing        232\n",
       "navy           223\n",
       "seal           211\n",
       "dtype: int64"
      ]
     },
     "execution_count": 211,
     "metadata": {},
     "output_type": "execute_result"
    }
   ],
   "source": [
    "unwanted_words = ['film']\n",
    "freq = pd.Series(' '.join(BradleyCooper['new_tweets']).split()).value_counts()[:30]\n",
    "freq = list(freq.index)\n",
    "freq\n",
    "BradleyCooper['trends'] = BradleyCooper['new_tweets'].apply(lambda x: \" \".join(x for x in x.split() if x not in unwanted_words))\n",
    "freq = pd.Series(' '.join(BradleyCooper['trends']).split()).value_counts()[:10]\n",
    "freq"
   ]
  },
  {
   "cell_type": "code",
   "execution_count": 224,
   "metadata": {},
   "outputs": [
    {
     "data": {
      "image/png": "[encoded data removed]",
      "text/plain": [
       "<matplotlib.figure.Figure at 0x7f1b1c407e80>"
      ]
     },
     "metadata": {},
     "output_type": "display_data"
    }
   ],
   "source": [
    "words = ' '.join(list(BradleyCooper['trends']))\n",
    "words_wc = WordCloud(width=800,height=400,background_color='black',max_words=6, mode=\"RGBA\").generate(words)\n",
    "plt.figure(figsize=(10,8), facecolor='k')\n",
    "plt.imshow(words_wc)\n",
    "plt.axis('off')\n",
    "plt.tight_layout(pad=0)\n",
    "plt.show()"
   ]
  },
  {
   "cell_type": "code",
   "execution_count": 202,
   "metadata": {
    "collapsed": true
   },
   "outputs": [
    {
     "name": "stderr",
     "output_type": "stream",
     "text": [
      "/home/cso/anaconda3/lib/python3.6/site-packages/ipykernel_launcher.py:3: SettingWithCopyWarning: \n",
      "A value is trying to be set on a copy of a slice from a DataFrame.\n",
      "Try using .loc[row_indexer,col_indexer] = value instead\n",
      "\n",
      "See the caveats in the documentation: http://pandas.pydata.org/pandas-docs/stable/indexing.html#indexing-view-versus-copy\n",
      "  This is separate from the ipykernel package so we can avoid doing imports until\n"
     ]
    }
   ],
   "source": [
    "freq = pd.Series(' '.join(ChrisKyle['new_tweets']).split()).value_counts()[:7]\n",
    "freq = list(freq.index)\n",
    "ChrisKyle['new_tweets'] = ChrisKyle['new_tweets'].apply(lambda x: \" \".join(x for x in x.split() if x not in freq))\n"
   ]
  },
  {
   "cell_type": "code",
   "execution_count": 213,
   "metadata": {},
   "outputs": [
    {
     "name": "stderr",
     "output_type": "stream",
     "text": [
      "/home/cso/anaconda3/lib/python3.6/site-packages/ipykernel_launcher.py:5: SettingWithCopyWarning: \n",
      "A value is trying to be set on a copy of a slice from a DataFrame.\n",
      "Try using .loc[row_indexer,col_indexer] = value instead\n",
      "\n",
      "See the caveats in the documentation: http://pandas.pydata.org/pandas-docs/stable/indexing.html#indexing-view-versus-copy\n",
      "  \"\"\"\n"
     ]
    },
    {
     "data": {
      "text/plain": [
       "honor      770\n",
       "hero       699\n",
       "pjnet      314\n",
       "legend     308\n",
       "great      268\n",
       "best       231\n",
       "amazing    195\n",
       "watch      182\n",
       "war        181\n",
       "good       177\n",
       "dtype: int64"
      ]
     },
     "execution_count": 213,
     "metadata": {},
     "output_type": "execute_result"
    }
   ],
   "source": [
    "unwanted_words = ['author','bradley','cooper','see','seal','rip','navy','mcewen','scott','kyles','taya','film','mt','us','widow','clint','story','true','day','military','like','one','go']\n",
    "freq = pd.Series(' '.join(ChrisKyle['new_tweets']).split()).value_counts()[:30]\n",
    "freq = list(freq.index)\n",
    "freq\n",
    "ChrisKyle['trends'] = ChrisKyle['new_tweets'].apply(lambda x: \" \".join(x for x in x.split() if x not in unwanted_words))\n",
    "freq = pd.Series(' '.join(ChrisKyle['trends']).split()).value_counts()[:10]\n",
    "freq"
   ]
  },
  {
   "cell_type": "code",
   "execution_count": 225,
   "metadata": {},
   "outputs": [
    {
     "data": {
      "image/png": "[encoded data removed]",
      "text/plain": [
       "<matplotlib.figure.Figure at 0x7f1b1bfad748>"
      ]
     },
     "metadata": {},
     "output_type": "display_data"
    }
   ],
   "source": [
    "words = ' '.join(list(ChrisKyle['trends']))\n",
    "words_wc = WordCloud(width=800,height=400,background_color='black',max_words=6, mode=\"RGBA\").generate(words)\n",
    "plt.figure(figsize=(10,8), facecolor='k')\n",
    "plt.imshow(words_wc)\n",
    "plt.axis('off')\n",
    "plt.tight_layout(pad=0)\n",
    "plt.show()"
   ]
  },
  {
   "cell_type": "code",
   "execution_count": null,
   "metadata": {
    "collapsed": true
   },
   "outputs": [],
   "source": [
    "# unwanted_words = ['retweet', 'american']\n",
    "# data['ptweets'] = data['ptweets'].apply(lambda x: \" \".join(x for x in x.split() if x not in freq))\n",
    "# data['ptweets'].head()"
   ]
  },
  {
   "cell_type": "code",
   "execution_count": null,
   "metadata": {
    "collapsed": true
   },
   "outputs": [],
   "source": []
  },
  {
   "cell_type": "code",
   "execution_count": null,
   "metadata": {
    "collapsed": true
   },
   "outputs": [],
   "source": []
  },
  {
   "cell_type": "code",
   "execution_count": null,
   "metadata": {
    "collapsed": true
   },
   "outputs": [],
   "source": []
  },
  {
   "cell_type": "code",
   "execution_count": null,
   "metadata": {
    "collapsed": true
   },
   "outputs": [],
   "source": []
  },
  {
   "cell_type": "code",
   "execution_count": null,
   "metadata": {
    "collapsed": true
   },
   "outputs": [],
   "source": []
  },
  {
   "cell_type": "code",
   "execution_count": null,
   "metadata": {
    "collapsed": true
   },
   "outputs": [],
   "source": []
  },
  {
   "cell_type": "code",
   "execution_count": 81,
   "metadata": {},
   "outputs": [
    {
     "data": {
      "text/html": [
       "<div>\n",
       "<style>\n",
       "    .dataframe thead tr:only-child th {\n",
       "        text-align: right;\n",
       "    }\n",
       "\n",
       "    .dataframe thead th {\n",
       "        text-align: left;\n",
       "    }\n",
       "\n",
       "    .dataframe tbody tr th {\n",
       "        vertical-align: top;\n",
       "    }\n",
       "</style>\n",
       "<table border=\"1\" class=\"dataframe\">\n",
       "  <thead>\n",
       "    <tr style=\"text-align: right;\">\n",
       "      <th></th>\n",
       "      <th>a</th>\n",
       "      <th>b</th>\n",
       "      <th>c</th>\n",
       "    </tr>\n",
       "  </thead>\n",
       "  <tbody>\n",
       "    <tr>\n",
       "      <th>0</th>\n",
       "      <td>wi]]/-._:===@3444d             here</td>\n",
       "      <td>He is there</td>\n",
       "      <td>He there</td>\n",
       "    </tr>\n",
       "    <tr>\n",
       "      <th>1</th>\n",
       "      <td>We're o55ne, what's the btw</td>\n",
       "      <td>How are you?</td>\n",
       "      <td>How you?</td>\n",
       "    </tr>\n",
       "  </tbody>\n",
       "</table>\n",
       "</div>"
      ],
      "text/plain": [
       "                                                  a             b         c\n",
       "0  wi]]/-._:===@3444d             here                He is there  He there\n",
       "1                       We're o55ne, what's the btw  How are you?  How you?"
      ]
     },
     "execution_count": 81,
     "metadata": {},
     "output_type": "execute_result"
    }
   ],
   "source": [
    "stopwordsl = ['are','is']\n",
    "\n",
    "dft['c'] = dft['b'].apply(lambda x: \" \".join(x for x in x.split() if x not in stopwordsl))\n",
    "dft\n",
    "\n",
    "# dft['c'].str.replace(, regex=True)\n",
    "# def stopwords(x):\n",
    "#     for word in x.lower().split():\n",
    "#         print (\"1\")\n",
    "#         if word in stopwordsl:\n",
    "#             return ''"
   ]
  },
  {
   "cell_type": "code",
   "execution_count": 146,
   "metadata": {},
   "outputs": [
    {
     "data": {
      "text/html": [
       "<div>\n",
       "<style>\n",
       "    .dataframe thead tr:only-child th {\n",
       "        text-align: right;\n",
       "    }\n",
       "\n",
       "    .dataframe thead th {\n",
       "        text-align: left;\n",
       "    }\n",
       "\n",
       "    .dataframe tbody tr th {\n",
       "        vertical-align: top;\n",
       "    }\n",
       "</style>\n",
       "<table border=\"1\" class=\"dataframe\">\n",
       "  <thead>\n",
       "    <tr style=\"text-align: right;\">\n",
       "      <th></th>\n",
       "      <th>b</th>\n",
       "    </tr>\n",
       "  </thead>\n",
       "  <tbody>\n",
       "    <tr>\n",
       "      <th>0</th>\n",
       "      <td>eastwood is clintthere</td>\n",
       "    </tr>\n",
       "    <tr>\n",
       "      <th>2</th>\n",
       "      <td>hello @clint</td>\n",
       "    </tr>\n",
       "  </tbody>\n",
       "</table>\n",
       "</div>"
      ],
      "text/plain": [
       "                        b\n",
       "0  eastwood is clintthere\n",
       "2            hello @clint"
      ]
     },
     "execution_count": 146,
     "metadata": {},
     "output_type": "execute_result"
    }
   ],
   "source": [
    "aaa = dft[dft['b'].str.contains(r\"\\bclint\\b|\\beastwood\\b|\\bclinteastwood\\b|\\bclints\\b|\\beastwoods\\b|\\bclinteastwoods\\b\", case = False)]\n",
    "aaa"
   ]
  },
  {
   "cell_type": "code",
   "execution_count": 145,
   "metadata": {},
   "outputs": [
    {
     "data": {
      "text/html": [
       "<div>\n",
       "<style>\n",
       "    .dataframe thead tr:only-child th {\n",
       "        text-align: right;\n",
       "    }\n",
       "\n",
       "    .dataframe thead th {\n",
       "        text-align: left;\n",
       "    }\n",
       "\n",
       "    .dataframe tbody tr th {\n",
       "        vertical-align: top;\n",
       "    }\n",
       "</style>\n",
       "<table border=\"1\" class=\"dataframe\">\n",
       "  <thead>\n",
       "    <tr style=\"text-align: right;\">\n",
       "      <th></th>\n",
       "      <th>b</th>\n",
       "    </tr>\n",
       "  </thead>\n",
       "  <tbody>\n",
       "    <tr>\n",
       "      <th>0</th>\n",
       "      <td>eastwood is clintthere</td>\n",
       "    </tr>\n",
       "    <tr>\n",
       "      <th>1</th>\n",
       "      <td>How are you?</td>\n",
       "    </tr>\n",
       "    <tr>\n",
       "      <th>2</th>\n",
       "      <td>hello @clint</td>\n",
       "    </tr>\n",
       "    <tr>\n",
       "      <th>3</th>\n",
       "      <td>ssseastclint</td>\n",
       "    </tr>\n",
       "  </tbody>\n",
       "</table>\n",
       "</div>"
      ],
      "text/plain": [
       "                        b\n",
       "0  eastwood is clintthere\n",
       "1            How are you?\n",
       "2            hello @clint\n",
       "3            ssseastclint"
      ]
     },
     "execution_count": 145,
     "metadata": {},
     "output_type": "execute_result"
    }
   ],
   "source": [
    "#test Dataframe\n",
    "dft = pd.DataFrame()\n",
    "import string\n",
    "# dft['a'] = [\"wi]]/-._:===@3444d             here             \", \"We're o55ne, what's the btw\"] \n",
    "dft['b'] = [\"eastwood is clintthere\",\"How are you?\",\"hello @clint\",'ssseastclint'] \n",
    "# dft['b'] = dft['a'].apply(lambda x: re.sub('[^A-Za-z]+', ' ', x))\n",
    "# dft['b'] = dft['a'].apply(lambda x:\"\".join([i for i in x if i not in string.punctuation]))\n",
    "# dft['b'] = dft['b'].apply(lambda x:\"\".join([i for i in x if i not in string.digits]))\n",
    "# dft['c'] = dft['b'].apply(lambda x: stopwords(x)) \n",
    "\n",
    "\n",
    "dft"
   ]
  },
  {
   "cell_type": "code",
   "execution_count": 115,
   "metadata": {},
   "outputs": [
    {
     "data": {
      "text/html": [
       "<div>\n",
       "<style>\n",
       "    .dataframe thead tr:only-child th {\n",
       "        text-align: right;\n",
       "    }\n",
       "\n",
       "    .dataframe thead th {\n",
       "        text-align: left;\n",
       "    }\n",
       "\n",
       "    .dataframe tbody tr th {\n",
       "        vertical-align: top;\n",
       "    }\n",
       "</style>\n",
       "<table border=\"1\" class=\"dataframe\">\n",
       "  <thead>\n",
       "    <tr style=\"text-align: right;\">\n",
       "      <th></th>\n",
       "      <th>Year</th>\n",
       "      <th>quarter</th>\n",
       "      <th>period</th>\n",
       "    </tr>\n",
       "  </thead>\n",
       "  <tbody>\n",
       "    <tr>\n",
       "      <th>0</th>\n",
       "      <td>2014 sdfg</td>\n",
       "      <td>q1 jk</td>\n",
       "      <td>2014 sdfg q1 jk</td>\n",
       "    </tr>\n",
       "    <tr>\n",
       "      <th>1</th>\n",
       "      <td>2015dfghj</td>\n",
       "      <td>q2sdd</td>\n",
       "      <td>2015dfghj q2sdd</td>\n",
       "    </tr>\n",
       "  </tbody>\n",
       "</table>\n",
       "</div>"
      ],
      "text/plain": [
       "        Year quarter           period\n",
       "0  2014 sdfg   q1 jk  2014 sdfg q1 jk\n",
       "1  2015dfghj   q2sdd  2015dfghj q2sdd"
      ]
     },
     "execution_count": 115,
     "metadata": {},
     "output_type": "execute_result"
    }
   ],
   "source": [
    "df = pd.DataFrame({'Year': ['2014 sdfg', '2015dfghj'], 'quarter': ['q1 jk', 'q2sdd']})\n",
    "df['period'] = df[['Year', 'quarter']].apply(lambda x: ' '.join(x), axis=1)\n",
    "df"
   ]
  },
  {
   "cell_type": "code",
   "execution_count": null,
   "metadata": {
    "collapsed": true
   },
   "outputs": [],
   "source": []
  }
 ],
 "metadata": {
  "kernelspec": {
   "display_name": "Python 3",
   "language": "python",
   "name": "python3"
  },
  "language_info": {
   "codemirror_mode": {
    "name": "ipython",
    "version": 3
   },
   "file_extension": ".py",
   "mimetype": "text/x-python",
   "name": "python",
   "nbconvert_exporter": "python",
   "pygments_lexer": "ipython3",
   "version": "3.6.3"
  }
 },
 "nbformat": 4,
 "nbformat_minor": 2
}
