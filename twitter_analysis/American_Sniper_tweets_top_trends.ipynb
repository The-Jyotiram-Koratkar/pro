{
 "cells": [
  {
   "cell_type": "markdown",
   "metadata": {},
   "source": [
    "### Description :\n",
    "\n",
    "Given file (as_tweets.txt) contains 100,000 tweets about the movie “American Sniper”. These are unprocessed real tweets. As you may know, the movie was directed by Clint Eastwood, starring Bradley Cooper and was based on the life story of Chris Kyle.\n",
    "\n",
    "First task is to break the twitter hashtags into proper words, for example:\n",
    "#goldenglobes -> golden globes,\n",
    "#siennamiller -> sienna miller ... Example 1\n",
    "\n",
    "Your second task is to find out what people have said about these three personalities (Clint Eastwood, Bradley Cooper and Chris Kyle), in other words find out the top trending topics about these people in the current dataset. A trend can be a single word (stunning) or may comprise of multiple words (looks stunning) as shown in Example2 below. Show 5 top trends per person. The tweet count should be in decreasing order."
   ]
  },
  {
   "cell_type": "markdown",
   "metadata": {},
   "source": [
    "### Solution:"
   ]
  },
  {
   "cell_type": "markdown",
   "metadata": {},
   "source": [
    "Importing packages"
   ]
  },
  {
   "cell_type": "code",
   "execution_count": 39,
   "metadata": {},
   "outputs": [],
   "source": [
    "# !pip install ujson \n",
    "# !pip install ekphrasis\n",
    "# !pip install wordcloud\n",
    "# !pip install tweet-preprocessor\n",
    "\n",
    "from ekphrasis.classes.segmenter import Segmenter\n",
    "\n",
    "seg_tw = Segmenter(corpus=\"twitter\")\n",
    "\n",
    "seg_eng = Segmenter(corpus=\"english\")\n",
    "\n",
    "import pandas as pd\n",
    "from textblob import TextBlob\n",
    "import matplotlib.pyplot as plt\n",
    "from wordcloud import WordCloud\n",
    "%matplotlib inline\n",
    "import re\n",
    "import warnings\n",
    "warnings.filterwarnings('ignore')\n",
    "from sklearn.feature_extraction.text import CountVectorizer\n",
    "import string\n",
    "import preprocessor as p\n",
    "from nltk.corpus import stopwords\n",
    "import nltk\n",
    "# nltk.download('stopwords')\n",
    "from nltk.corpus import stopwords"
   ]
  },
  {
   "cell_type": "markdown",
   "metadata": {},
   "source": [
    "Reading tweets from text file"
   ]
  },
  {
   "cell_type": "code",
   "execution_count": 40,
   "metadata": {},
   "outputs": [],
   "source": [
    "data = pd.read_csv(\"C:\\\\Users\\\\Suhas\\\\Downloads\\\\as_tweets\\\\as_tweets.txt\",delimiter=\"\\t\")"
   ]
  },
  {
   "cell_type": "code",
   "execution_count": 119,
   "metadata": {},
   "outputs": [
    {
     "data": {
      "text/plain": [
       "(99155, 5)"
      ]
     },
     "execution_count": 119,
     "metadata": {},
     "output_type": "execute_result"
    }
   ],
   "source": [
    "data.shape"
   ]
  },
  {
   "cell_type": "code",
   "execution_count": 41,
   "metadata": {},
   "outputs": [
    {
     "data": {
      "text/html": [
       "<div>\n",
       "<style scoped>\n",
       "    .dataframe tbody tr th:only-of-type {\n",
       "        vertical-align: middle;\n",
       "    }\n",
       "\n",
       "    .dataframe tbody tr th {\n",
       "        vertical-align: top;\n",
       "    }\n",
       "\n",
       "    .dataframe thead th {\n",
       "        text-align: right;\n",
       "    }\n",
       "</style>\n",
       "<table border=\"1\" class=\"dataframe\">\n",
       "  <thead>\n",
       "    <tr style=\"text-align: right;\">\n",
       "      <th></th>\n",
       "      <th>American Sniper</th>\n",
       "    </tr>\n",
       "  </thead>\n",
       "  <tbody>\n",
       "    <tr>\n",
       "      <th>0</th>\n",
       "      <td>If American Sniper doesn't make you proud to b...</td>\n",
       "    </tr>\n",
       "    <tr>\n",
       "      <th>1</th>\n",
       "      <td>Retweet if you're going to see the movie Ameri...</td>\n",
       "    </tr>\n",
       "    <tr>\n",
       "      <th>2</th>\n",
       "      <td>Retweet if you're going to see the movie Ameri...</td>\n",
       "    </tr>\n",
       "    <tr>\n",
       "      <th>3</th>\n",
       "      <td>Retweet if you're going to see the movie Ameri...</td>\n",
       "    </tr>\n",
       "    <tr>\n",
       "      <th>4</th>\n",
       "      <td>Fav if you're going to see the movie American ...</td>\n",
       "    </tr>\n",
       "  </tbody>\n",
       "</table>\n",
       "</div>"
      ],
      "text/plain": [
       "                                     American Sniper\n",
       "0  If American Sniper doesn't make you proud to b...\n",
       "1  Retweet if you're going to see the movie Ameri...\n",
       "2  Retweet if you're going to see the movie Ameri...\n",
       "3  Retweet if you're going to see the movie Ameri...\n",
       "4  Fav if you're going to see the movie American ..."
      ]
     },
     "metadata": {},
     "output_type": "display_data"
    }
   ],
   "source": [
    "display(data.head())"
   ]
  },
  {
   "cell_type": "code",
   "execution_count": 42,
   "metadata": {},
   "outputs": [],
   "source": [
    "data = data.rename(columns={'American Sniper': 'tweets'})"
   ]
  },
  {
   "cell_type": "markdown",
   "metadata": {},
   "source": [
    "Analyzing the text data"
   ]
  },
  {
   "cell_type": "code",
   "execution_count": 43,
   "metadata": {},
   "outputs": [],
   "source": [
    "# Count number of words in each row\n",
    "data['word_count'] = data['tweets'].apply(lambda x: len(str(x).split(\" \")))\n",
    "\n",
    "# Count Number of characters in each row\n",
    "# this also includes spaces\n",
    "data['chr_count'] = data['tweets'].str.len() ## this also includes spaces"
   ]
  },
  {
   "cell_type": "code",
   "execution_count": 44,
   "metadata": {
    "scrolled": true
   },
   "outputs": [
    {
     "data": {
      "text/html": [
       "<div>\n",
       "<style scoped>\n",
       "    .dataframe tbody tr th:only-of-type {\n",
       "        vertical-align: middle;\n",
       "    }\n",
       "\n",
       "    .dataframe tbody tr th {\n",
       "        vertical-align: top;\n",
       "    }\n",
       "\n",
       "    .dataframe thead th {\n",
       "        text-align: right;\n",
       "    }\n",
       "</style>\n",
       "<table border=\"1\" class=\"dataframe\">\n",
       "  <thead>\n",
       "    <tr style=\"text-align: right;\">\n",
       "      <th></th>\n",
       "      <th>tweets</th>\n",
       "      <th>word_count</th>\n",
       "      <th>chr_count</th>\n",
       "    </tr>\n",
       "  </thead>\n",
       "  <tbody>\n",
       "    <tr>\n",
       "      <th>0</th>\n",
       "      <td>If American Sniper doesn't make you proud to b...</td>\n",
       "      <td>20</td>\n",
       "      <td>130</td>\n",
       "    </tr>\n",
       "    <tr>\n",
       "      <th>1</th>\n",
       "      <td>Retweet if you're going to see the movie Ameri...</td>\n",
       "      <td>11</td>\n",
       "      <td>79</td>\n",
       "    </tr>\n",
       "    <tr>\n",
       "      <th>2</th>\n",
       "      <td>Retweet if you're going to see the movie Ameri...</td>\n",
       "      <td>11</td>\n",
       "      <td>79</td>\n",
       "    </tr>\n",
       "    <tr>\n",
       "      <th>3</th>\n",
       "      <td>Retweet if you're going to see the movie Ameri...</td>\n",
       "      <td>11</td>\n",
       "      <td>79</td>\n",
       "    </tr>\n",
       "    <tr>\n",
       "      <th>4</th>\n",
       "      <td>Fav if you're going to see the movie American ...</td>\n",
       "      <td>11</td>\n",
       "      <td>76</td>\n",
       "    </tr>\n",
       "  </tbody>\n",
       "</table>\n",
       "</div>"
      ],
      "text/plain": [
       "                                              tweets  word_count  chr_count\n",
       "0  If American Sniper doesn't make you proud to b...          20        130\n",
       "1  Retweet if you're going to see the movie Ameri...          11         79\n",
       "2  Retweet if you're going to see the movie Ameri...          11         79\n",
       "3  Retweet if you're going to see the movie Ameri...          11         79\n",
       "4  Fav if you're going to see the movie American ...          11         76"
      ]
     },
     "execution_count": 44,
     "metadata": {},
     "output_type": "execute_result"
    }
   ],
   "source": [
    "data.head(5)"
   ]
  },
  {
   "cell_type": "markdown",
   "metadata": {},
   "source": [
    "#### Task 1: To break the twitter hashtags into proper words"
   ]
  },
  {
   "cell_type": "code",
   "execution_count": 45,
   "metadata": {},
   "outputs": [],
   "source": [
    "data['hashtags'] = data['tweets'].apply(lambda x: [x for x in x.split() if x.startswith('#')])\n",
    "data['hashtags'] = data['hashtags'].apply(', '.join)\n",
    "data['hashtags'] = data['hashtags'].apply(lambda x: x.replace('#',''))"
   ]
  },
  {
   "cell_type": "code",
   "execution_count": 46,
   "metadata": {},
   "outputs": [],
   "source": [
    "#data['hashwords']\n",
    "data['hashwords'] = data['hashtags'].apply(lambda x: seg_tw.segment(x)) \n",
    "data['hashwords'] = data['hashtags'].apply(lambda x: seg_eng.segment(x))"
   ]
  },
  {
   "cell_type": "markdown",
   "metadata": {},
   "source": [
    "#### Task 2: Show 5 top trends per person"
   ]
  },
  {
   "cell_type": "code",
   "execution_count": 47,
   "metadata": {},
   "outputs": [],
   "source": [
    "ast_df = data[data['tweets'].str.contains(\"clint|eastwood|bradley|cooper|coops|chris|kyle\",case=False, flags=re.IGNORECASE, regex=True)]\n",
    "ast_df = ast_df.reset_index(drop=True)"
   ]
  },
  {
   "cell_type": "code",
   "execution_count": 48,
   "metadata": {
    "scrolled": true
   },
   "outputs": [
    {
     "data": {
      "text/html": [
       "<div>\n",
       "<style scoped>\n",
       "    .dataframe tbody tr th:only-of-type {\n",
       "        vertical-align: middle;\n",
       "    }\n",
       "\n",
       "    .dataframe tbody tr th {\n",
       "        vertical-align: top;\n",
       "    }\n",
       "\n",
       "    .dataframe thead th {\n",
       "        text-align: right;\n",
       "    }\n",
       "</style>\n",
       "<table border=\"1\" class=\"dataframe\">\n",
       "  <thead>\n",
       "    <tr style=\"text-align: right;\">\n",
       "      <th></th>\n",
       "      <th>tweets</th>\n",
       "      <th>word_count</th>\n",
       "      <th>chr_count</th>\n",
       "      <th>hashtags</th>\n",
       "      <th>hashwords</th>\n",
       "    </tr>\n",
       "  </thead>\n",
       "  <tbody>\n",
       "    <tr>\n",
       "      <th>0</th>\n",
       "      <td>I just watched American Sniper. You have to se...</td>\n",
       "      <td>21</td>\n",
       "      <td>118</td>\n",
       "      <td></td>\n",
       "      <td></td>\n",
       "    </tr>\n",
       "    <tr>\n",
       "      <th>1</th>\n",
       "      <td>Did y’all see \"American Sniper\"? What a powerf...</td>\n",
       "      <td>18</td>\n",
       "      <td>106</td>\n",
       "      <td></td>\n",
       "      <td></td>\n",
       "    </tr>\n",
       "    <tr>\n",
       "      <th>2</th>\n",
       "      <td>Bradley Cooper killed that role in American Sn...</td>\n",
       "      <td>10</td>\n",
       "      <td>64</td>\n",
       "      <td></td>\n",
       "      <td></td>\n",
       "    </tr>\n",
       "    <tr>\n",
       "      <th>3</th>\n",
       "      <td>Ultimate respect for Chris Kyle. (1974-2013) R...</td>\n",
       "      <td>11</td>\n",
       "      <td>98</td>\n",
       "      <td>AmericanSniper</td>\n",
       "      <td>american sniper</td>\n",
       "    </tr>\n",
       "    <tr>\n",
       "      <th>4</th>\n",
       "      <td>#AmericanSniper Chris Kyle's widow: This movie...</td>\n",
       "      <td>16</td>\n",
       "      <td>133</td>\n",
       "      <td>AmericanSniper</td>\n",
       "      <td>american sniper</td>\n",
       "    </tr>\n",
       "  </tbody>\n",
       "</table>\n",
       "</div>"
      ],
      "text/plain": [
       "                                              tweets  word_count  chr_count  \\\n",
       "0  I just watched American Sniper. You have to se...          21        118   \n",
       "1  Did y’all see \"American Sniper\"? What a powerf...          18        106   \n",
       "2  Bradley Cooper killed that role in American Sn...          10         64   \n",
       "3  Ultimate respect for Chris Kyle. (1974-2013) R...          11         98   \n",
       "4  #AmericanSniper Chris Kyle's widow: This movie...          16        133   \n",
       "\n",
       "         hashtags        hashwords  \n",
       "0                                   \n",
       "1                                   \n",
       "2                                   \n",
       "3  AmericanSniper  american sniper  \n",
       "4  AmericanSniper  american sniper  "
      ]
     },
     "execution_count": 48,
     "metadata": {},
     "output_type": "execute_result"
    }
   ],
   "source": [
    "ast_df.head()"
   ]
  },
  {
   "cell_type": "code",
   "execution_count": 49,
   "metadata": {},
   "outputs": [],
   "source": [
    "ast_df['mentions'] = ast_df['tweets'].apply(lambda x: [x for x in x.split() if x.startswith('@')])\n",
    "ast_df['mentions'] = ast_df['mentions'].apply(', '.join)\n",
    "# data['mentions'] = data['mentions'].apply(lambda x: x.replace('@',''))"
   ]
  },
  {
   "cell_type": "markdown",
   "metadata": {},
   "source": [
    "Removing extra spaces"
   ]
  },
  {
   "cell_type": "code",
   "execution_count": 50,
   "metadata": {},
   "outputs": [],
   "source": [
    "ast_df['ptweets'] = ast_df['tweets'].apply(lambda x: re.sub('  ', ' ', x))"
   ]
  },
  {
   "cell_type": "markdown",
   "metadata": {},
   "source": [
    "Removing Non-English characters"
   ]
  },
  {
   "cell_type": "code",
   "execution_count": 51,
   "metadata": {},
   "outputs": [],
   "source": [
    "# s = \"some\\x00string. wi😂th\\x15فيلم بحكي سيرة القناص الامريكي المثير للجدل كريس كايل # اون لاين funny❤️⚓️💪🎯🔫🏆➡🇺🇸🍔💪😂เหมือนมากแถมเล่นดีจนได้ชิงนำชายออสการ์ characters\"\n",
    "import string\n",
    "printable = set(string.printable)\n",
    "\n",
    "def remove_non_english(x):\n",
    "    return \"\".join(list(filter(lambda x: x in printable, x)))"
   ]
  },
  {
   "cell_type": "code",
   "execution_count": 52,
   "metadata": {},
   "outputs": [],
   "source": [
    "ast_df['ptweets'] = ast_df['ptweets'].apply(remove_non_english)"
   ]
  },
  {
   "cell_type": "markdown",
   "metadata": {},
   "source": [
    "Replacing Apostrophes/short words"
   ]
  },
  {
   "cell_type": "code",
   "execution_count": 53,
   "metadata": {},
   "outputs": [],
   "source": [
    "# text=\"What's the best way to do this?\"\n",
    "\n",
    "contractions = {\n",
    "\"ain't\": \"am not / are not\",\n",
    "\"aren't\": \"are not / am not\",\n",
    "\"can't\": \"cannot\",\n",
    "\"can't've\": \"cannot have\",\n",
    "\"'cause\": \"because\",\n",
    "\"could've\": \"could have\",\n",
    "\"couldn't\": \"could not\",\n",
    "\"couldn't've\": \"could not have\",\n",
    "\"didn't\": \"did not\",\n",
    "\"doesn't\": \"does not\",\n",
    "\"don't\": \"do not\",\n",
    "\"hadn't\": \"had not\",\n",
    "\"hadn't've\": \"had not have\",\n",
    "\"hasn't\": \"has not\",\n",
    "\"haven't\": \"have not\",\n",
    "\"he'd\": \"he had / he would\",\n",
    "\"he'd've\": \"he would have\",\n",
    "\"he'll\": \"he shall / he will\",\n",
    "\"he'll've\": \"he shall have / he will have\",\n",
    "\"he's\": \"he has / he is\",\n",
    "\"how'd\": \"how did\",\n",
    "\"how'd'y\": \"how do you\",\n",
    "\"how'll\": \"how will\",\n",
    "\"how's\": \"how has / how is\",\n",
    "\"i'd\": \"I had / I would\",\n",
    "\"i'd've\": \"I would have\",\n",
    "\"i'll\": \"I shall / I will\",\n",
    "\"i'll've\": \"I shall have / I will have\",\n",
    "\"i'm\": \"I am\",\n",
    "\"i've\": \"I have\",\n",
    "\"isn't\": \"is not\",\n",
    "\"it'd\": \"it had / it would\",\n",
    "\"it'd've\": \"it would have\",\n",
    "\"it'll\": \"it shall / it will\",\n",
    "\"it'll've\": \"it shall have / it will have\",\n",
    "\"it's\": \"it has / it is\",\n",
    "\"let's\": \"let us\",\n",
    "\"ma'am\": \"madam\",\n",
    "\"mayn't\": \"may not\",\n",
    "\"might've\": \"might have\",\n",
    "\"mightn't\": \"might not\",\n",
    "\"mightn't've\": \"might not have\",\n",
    "\"must've\": \"must have\",\n",
    "\"mustn't\": \"must not\",\n",
    "\"mustn't've\": \"must not have\",\n",
    "\"needn't\": \"need not\",\n",
    "\"needn't've\": \"need not have\",\n",
    "\"o'clock\": \"of the clock\",\n",
    "\"oughtn't\": \"ought not\",\n",
    "\"oughtn't've\": \"ought not have\",\n",
    "\"shan't\": \"shall not\",\n",
    "\"sha'n't\": \"shall not\",\n",
    "\"shan't've\": \"shall not have\",\n",
    "\"she'd\": \"she had / she would\",\n",
    "\"she'd've\": \"she would have\",\n",
    "\"she'll\": \"she shall / she will\",\n",
    "\"she'll've\": \"she shall have / she will have\",\n",
    "\"she's\": \"she has / she is\",\n",
    "\"should've\": \"should have\",\n",
    "\"shouldn't\": \"should not\",\n",
    "\"shouldn't've\": \"should not have\",\n",
    "\"so've\": \"so have\",\n",
    "\"so's\": \"so as / so is\",\n",
    "\"that'd\": \"that would / that had\",\n",
    "\"that'd've\": \"that would have\",\n",
    "\"that's\": \"that has / that is\",\n",
    "\"there'd\": \"there had / there would\",\n",
    "\"there'd've\": \"there would have\",\n",
    "\"there's\": \"there has / there is\",\n",
    "\"they'd\": \"they had / they would\",\n",
    "\"they'd've\": \"they would have\",\n",
    "\"they'll\": \"they shall / they will\",\n",
    "\"they'll've\": \"they shall have / they will have\",\n",
    "\"they're\": \"they are\",\n",
    "\"they've\": \"they have\",\n",
    "\"to've\": \"to have\",\n",
    "\"wasn't\": \"was not\",\n",
    "\"we'd\": \"we had / we would\",\n",
    "\"we'd've\": \"we would have\",\n",
    "\"we'll\": \"we will\",\n",
    "\"we'll've\": \"we will have\",\n",
    "\"we're\": \"we are\",\n",
    "\"we've\": \"we have\",\n",
    "\"weren't\": \"were not\",\n",
    "\"what'll\": \"what shall / what will\",\n",
    "\"what'll've\": \"what shall have / what will have\",\n",
    "\"what're\": \"what are\",\n",
    "\"what's\": \"what has / what is\",\n",
    "\"what've\": \"what have\",\n",
    "\"when's\": \"when has / when is\",\n",
    "\"when've\": \"when have\",\n",
    "\"where'd\": \"where did\",\n",
    "\"where's\": \"where has / where is\",\n",
    "\"who'll\": \"who shall / who will\",\n",
    "\"who'll've\": \"who shall have / who will have\",\n",
    "\"who's\": \"who has / who is\",\n",
    "\"who've\": \"who have\",\n",
    "\"why's\": \"why has / why is\",\n",
    "\"why've\": \"why have\",\n",
    "\"will've\": \"will have\",\n",
    "\"won't\": \"will not\",\n",
    "\"won't've\": \"will not have\",\n",
    "\"would've\": \"would have\",\n",
    "\"wouldn't\": \"would not\",\n",
    "\"wouldn't've\": \"would not have\",\n",
    "\"y'all\": \"you all\",\n",
    "\"yall\": \"you all\",\n",
    "\"y'all'd\": \"you all would\",\n",
    "\"y'all'd've\": \"you all would have\",\n",
    "\"y'all're\": \"you all are\",\n",
    "\"y'all've\": \"you all have\",\n",
    "\"you'd\": \"you had / you would\",\n",
    "\"you'd've\": \"you would have\",\n",
    "\"you'll\": \"you shall / you will\",\n",
    "\"you'll've\": \"you shall have / you will have\",\n",
    "\"you're\": \"you are\",\n",
    "\"you've\": \"you have\",\n",
    "\"luv\":\"love\",\n",
    "\"awsm\":\"awesome\"\n",
    "}\n",
    "\n",
    "def appostrophe(text):\n",
    "    for word in text.split():\n",
    "        if word.lower() in contractions:\n",
    "            text = text.replace(word, contractions[word.lower()])\n",
    "    return text\n",
    "    #print(text)\n",
    "\n",
    "######################################################\n",
    "ast_df['ptweets'] = ast_df['ptweets'].apply(appostrophe)\n",
    "######################################################"
   ]
  },
  {
   "cell_type": "code",
   "execution_count": 54,
   "metadata": {},
   "outputs": [],
   "source": [
    "#Removing urls, mentions, hashtags etc.\n",
    "\n",
    "ast_df['ptweets'] = ast_df['ptweets'].apply(lambda x: p.clean(x))"
   ]
  },
  {
   "cell_type": "code",
   "execution_count": 55,
   "metadata": {},
   "outputs": [
    {
     "data": {
      "text/plain": [
       "0    watched american sniper. see bradley cooper mo...\n",
       "1    see \"american sniper\"? powerful movie. bradley...\n",
       "2    bradley cooper killed role american sniper. ma...\n",
       "3    ultimate respect chris kyle. (1974-2013) rip s...\n",
       "4    chris kyle's widow: movie \"how kids remember dad\"\n",
       "Name: ptweets, dtype: object"
      ]
     },
     "execution_count": 55,
     "metadata": {},
     "output_type": "execute_result"
    }
   ],
   "source": [
    "#Removing english stopwords\n",
    "\n",
    "stop = stopwords.words('english')\n",
    "ast_df['ptweets'] = [x.lower() for x in ast_df['ptweets']]\n",
    "ast_df['ptweets'] = ast_df['ptweets'].apply(lambda x: \" \".join(x for x in x.split() if x not in stop))\n",
    "ast_df['ptweets'].head()"
   ]
  },
  {
   "cell_type": "markdown",
   "metadata": {},
   "source": [
    "Removing Punctuations and digits"
   ]
  },
  {
   "cell_type": "code",
   "execution_count": 56,
   "metadata": {},
   "outputs": [],
   "source": [
    "ast_df['ptweets'] = ast_df['ptweets'].apply(lambda x:\"\".join([i for i in x if i not in string.punctuation]))\n",
    "ast_df['ptweets'] = ast_df['ptweets'].apply(lambda x:\"\".join([i for i in x if i not in string.digits]))"
   ]
  },
  {
   "cell_type": "markdown",
   "metadata": {},
   "source": [
    "Removing leading, trailing and repetitive whitespaces"
   ]
  },
  {
   "cell_type": "code",
   "execution_count": 57,
   "metadata": {},
   "outputs": [],
   "source": [
    "def whitespaces(x):\n",
    "    w = re.sub(' +', ' ',x)\n",
    "    w = w.strip()\n",
    "    return w"
   ]
  },
  {
   "cell_type": "code",
   "execution_count": 58,
   "metadata": {},
   "outputs": [],
   "source": [
    "ast_df['ptweets'] = ast_df['ptweets'].apply(lambda x: whitespaces(x))"
   ]
  },
  {
   "cell_type": "markdown",
   "metadata": {},
   "source": [
    "Slang Correction"
   ]
  },
  {
   "cell_type": "code",
   "execution_count": 59,
   "metadata": {},
   "outputs": [],
   "source": [
    "def slang(x):\n",
    "    import requests\n",
    "    import time\n",
    "    headers = {'User-Agent': 'Mozilla/5.0 (Macintosh; Intel Mac OS X 10_10_1) AppleWebKit/537.36 (KHTML, like Gecko) Chrome/39.0.2171.95 Safari/537.36'}\n",
    "    prefixStr = '<div class=\"translation-text\">'\n",
    "    postfixStr = '</div'\n",
    "\n",
    "    slangText = x\n",
    "\n",
    "    r = requests.post('https://www.noslang.com/', {'action': 'translate', 'p': slangText, 'noswear': 'noswear', 'submit': 'Translate'},headers = headers)\n",
    "    startIndex = r.text.find(prefixStr)+len(prefixStr)\n",
    "    endIndex = startIndex + r.text[startIndex:].find(postfixStr)\n",
    "    return (r.text[startIndex:endIndex])"
   ]
  },
  {
   "cell_type": "code",
   "execution_count": 60,
   "metadata": {},
   "outputs": [],
   "source": [
    "ast_df['ptweets'] = ast_df['ptweets'].apply(slang)"
   ]
  },
  {
   "cell_type": "markdown",
   "metadata": {},
   "source": [
    "Spell correction"
   ]
  },
  {
   "cell_type": "code",
   "execution_count": 61,
   "metadata": {},
   "outputs": [],
   "source": [
    "ast_df['ptweets'].apply(lambda x: str(TextBlob(x).correct()))"
   ]
  },
  {
   "cell_type": "markdown",
   "metadata": {},
   "source": [
    "Creating dataframes for each Person"
   ]
  },
  {
   "cell_type": "code",
   "execution_count": 62,
   "metadata": {},
   "outputs": [],
   "source": [
    "ast_df['ptweets'] = ast_df[['ptweets','hashwords','mentions']].apply(lambda x: ' '.join(x), axis=1)"
   ]
  },
  {
   "cell_type": "code",
   "execution_count": 63,
   "metadata": {},
   "outputs": [],
   "source": [
    "noise = {'directors':'director','good ':'great','best':'great','actors':'actor','oscars':'oscar'}\n",
    "ast_df['ptweets'].replace(noise,regex=True,inplace=True)"
   ]
  },
  {
   "cell_type": "code",
   "execution_count": 64,
   "metadata": {},
   "outputs": [],
   "source": [
    "clint_eastwood = ast_df[ast_df['ptweets'].str.contains(\"clint|eastwood\",case=False, flags=re.IGNORECASE, regex=True)]\n",
    "bradley_cooper = ast_df[ast_df['ptweets'].str.contains(\"bradley|cooper|coops\",case=False, flags=re.IGNORECASE, regex=True)]\n",
    "chris_kyle = ast_df[ast_df['ptweets'].str.contains(\"chris|kyle\",case=False, flags=re.IGNORECASE, regex=True)]"
   ]
  },
  {
   "cell_type": "code",
   "execution_count": 65,
   "metadata": {},
   "outputs": [],
   "source": [
    "ast_df['ptweets'] = ast_df['ptweets'].apply(lambda x: p.clean(x))\n",
    "clint_eastwood['ptweets'] = clint_eastwood['ptweets'].apply(lambda x: p.clean(x))\n",
    "bradley_cooper['ptweets'] = bradley_cooper['ptweets'].apply(lambda x: p.clean(x))\n",
    "chris_kyle['ptweets'] = chris_kyle['ptweets'].apply(lambda x: p.clean(x))\n",
    "\n",
    "clint_eastwood['ptweets'] = [x.lower() for x in clint_eastwood['ptweets']]\n",
    "clint_eastwood['ptweets'] = clint_eastwood['ptweets'].apply(lambda x: \" \".join(x for x in x.split() if x not in stop))\n",
    "\n",
    "bradley_cooper['ptweets'] = [x.lower() for x in bradley_cooper['ptweets']]\n",
    "bradley_cooper['ptweets'] = bradley_cooper['ptweets'].apply(lambda x: \" \".join(x for x in x.split() if x not in stop))\n",
    "\n",
    "chris_kyle['ptweets'] = [x.lower() for x in chris_kyle['ptweets']]\n",
    "chris_kyle['ptweets'] = chris_kyle['ptweets'].apply(lambda x: \" \".join(x for x in x.split() if x not in stop))"
   ]
  },
  {
   "cell_type": "code",
   "execution_count": 66,
   "metadata": {},
   "outputs": [
    {
     "name": "stdout",
     "output_type": "stream",
     "text": [
      "14562\n",
      "4360\n",
      "5092\n",
      "6601\n"
     ]
    }
   ],
   "source": [
    "print (len(ast_df))\n",
    "print (len(clint_eastwood))\n",
    "print (len(bradley_cooper))\n",
    "print (len(chris_kyle))"
   ]
  },
  {
   "cell_type": "code",
   "execution_count": 67,
   "metadata": {},
   "outputs": [],
   "source": [
    "ast_df['ptweets'] = ast_df['ptweets'].apply(lambda x:\"\".join([i for i in x if i not in string.punctuation]))\n",
    "ast_df['ptweets'] = ast_df['ptweets'].apply(lambda x:\"\".join([i for i in x if i not in string.digits]))\n",
    "ast_df['ptweets'] = ast_df['ptweets'].apply(lambda x: whitespaces(x))\n",
    "\n",
    "clint_eastwood['ptweets'] = clint_eastwood['ptweets'].apply(lambda x:\"\".join([i for i in x if i not in string.punctuation]))\n",
    "clint_eastwood['ptweets'] = clint_eastwood['ptweets'].apply(lambda x:\"\".join([i for i in x if i not in string.digits]))\n",
    "clint_eastwood['ptweets'] = clint_eastwood['ptweets'].apply(lambda x: whitespaces(x))\n",
    "\n",
    "bradley_cooper['ptweets'] = bradley_cooper['ptweets'].apply(lambda x:\"\".join([i for i in x if i not in string.punctuation]))\n",
    "bradley_cooper['ptweets'] = bradley_cooper['ptweets'].apply(lambda x:\"\".join([i for i in x if i not in string.digits]))\n",
    "bradley_cooper['ptweets'] = bradley_cooper['ptweets'].apply(lambda x: whitespaces(x))\n",
    "\n",
    "chris_kyle['ptweets'] = chris_kyle['ptweets'].apply(lambda x:\"\".join([i for i in x if i not in string.punctuation]))\n",
    "chris_kyle['ptweets'] = chris_kyle['ptweets'].apply(lambda x:\"\".join([i for i in x if i not in string.digits]))\n",
    "chris_kyle['ptweets'] = chris_kyle['ptweets'].apply(lambda x: whitespaces(x))"
   ]
  },
  {
   "cell_type": "code",
   "execution_count": 68,
   "metadata": {},
   "outputs": [],
   "source": [
    "#Removing noise\n",
    "\n",
    "unwanted_words = ['rt','dm','retweet','american','sniper','americansniper','cannot','wait','coopers','clint','de','di','la','see','movie','review','film','goes','eastwood','bradley','cooper','coops','chris','kyle','eastwoods','bythebook','isnt']\n",
    "ast_df['ptweets'] = ast_df['ptweets'].apply(lambda x: \" \".join(x for x in x.split() if x not in unwanted_words))\n",
    "clint_eastwood['ptweets'] = clint_eastwood['ptweets'].apply(lambda x: \" \".join(x for x in x.split() if x not in unwanted_words))\n",
    "bradley_cooper['ptweets'] = bradley_cooper['ptweets'].apply(lambda x: \" \".join(x for x in x.split() if x not in unwanted_words))\n",
    "chris_kyle['ptweets'] = chris_kyle['ptweets'].apply(lambda x: \" \".join(x for x in x.split() if x not in unwanted_words))\n"
   ]
  },
  {
   "cell_type": "markdown",
   "metadata": {},
   "source": [
    "## Creating unigrams and bigrams to find out top treds per person"
   ]
  },
  {
   "cell_type": "markdown",
   "metadata": {},
   "source": [
    "## Clint Eastwood"
   ]
  },
  {
   "cell_type": "markdown",
   "metadata": {},
   "source": [
    "### Top 5 trends using Unigram"
   ]
  },
  {
   "cell_type": "code",
   "execution_count": 104,
   "metadata": {},
   "outputs": [
    {
     "data": {
      "text/html": [
       "<div>\n",
       "<style scoped>\n",
       "    .dataframe tbody tr th:only-of-type {\n",
       "        vertical-align: middle;\n",
       "    }\n",
       "\n",
       "    .dataframe tbody tr th {\n",
       "        vertical-align: top;\n",
       "    }\n",
       "\n",
       "    .dataframe thead th {\n",
       "        text-align: right;\n",
       "    }\n",
       "</style>\n",
       "<table border=\"1\" class=\"dataframe\">\n",
       "  <thead>\n",
       "    <tr style=\"text-align: right;\">\n",
       "      <th></th>\n",
       "      <th>frequency</th>\n",
       "    </tr>\n",
       "  </thead>\n",
       "  <tbody>\n",
       "    <tr>\n",
       "      <th>interpretation</th>\n",
       "      <td>1364</td>\n",
       "    </tr>\n",
       "    <tr>\n",
       "      <th>great</th>\n",
       "      <td>333</td>\n",
       "    </tr>\n",
       "    <tr>\n",
       "      <th>director</th>\n",
       "      <td>280</td>\n",
       "    </tr>\n",
       "    <tr>\n",
       "      <th>oscar</th>\n",
       "      <td>224</td>\n",
       "    </tr>\n",
       "    <tr>\n",
       "      <th>box</th>\n",
       "      <td>163</td>\n",
       "    </tr>\n",
       "  </tbody>\n",
       "</table>\n",
       "</div>"
      ],
      "text/plain": [
       "                frequency\n",
       "interpretation       1364\n",
       "great                 333\n",
       "director              280\n",
       "oscar                 224\n",
       "box                   163"
      ]
     },
     "execution_count": 104,
     "metadata": {},
     "output_type": "execute_result"
    }
   ],
   "source": [
    "word_vectorizer = CountVectorizer(ngram_range=(1,1), analyzer='word')\n",
    "sparse_matrix = word_vectorizer.fit_transform(clint_eastwood['ptweets'])\n",
    "frequencies = sum(sparse_matrix).toarray()[0]\n",
    "uni_df = pd.DataFrame(frequencies, index=word_vectorizer.get_feature_names(), columns=['frequency'])\n",
    "uni_df.sort_values(\"frequency\", inplace=True, ascending=False)\n",
    "uni_df.head(5)"
   ]
  },
  {
   "cell_type": "code",
   "execution_count": 105,
   "metadata": {
    "scrolled": false
   },
   "outputs": [
    {
     "name": "stdout",
     "output_type": "stream",
     "text": [
      "Clint Eastwood\r\n",
      "*************\r\n",
      "interpretation (1364tweets)\r\n",
      "great (333tweets)\r\n",
      "director (280tweets)\r\n",
      "oscar (224tweets)\r\n",
      "box (163tweets)\r\n",
      "office (152tweets)\r\n"
     ]
    }
   ],
   "source": [
    "print (\"Clint Eastwood\\r\")\n",
    "print (\"*************\\r\")\n",
    "for i in (range(6)):\n",
    "    print (str(uni_df.index[i]) + \" (\" + str(uni_df.frequency[i]) + \"tweets)\\r\")"
   ]
  },
  {
   "cell_type": "code",
   "execution_count": 106,
   "metadata": {},
   "outputs": [
    {
     "data": {
      "image/png": "[encoded data removed]",
      "text/plain": [
       "<Figure size 720x576 with 1 Axes>"
      ]
     },
     "metadata": {},
     "output_type": "display_data"
    }
   ],
   "source": [
    "words = ' '.join(list(uni_df.index[:5]))\n",
    "words_wc = WordCloud(width=800,height=400,background_color='black',max_words=6, mode=\"RGBA\").generate(words)\n",
    "plt.figure(figsize=(10,8), facecolor='k')\n",
    "plt.imshow(words_wc)\n",
    "plt.axis('off')\n",
    "plt.tight_layout(pad=0)\n",
    "plt.show()"
   ]
  },
  {
   "cell_type": "markdown",
   "metadata": {},
   "source": [
    "### Top 5 trends using Bigram"
   ]
  },
  {
   "cell_type": "code",
   "execution_count": 107,
   "metadata": {},
   "outputs": [
    {
     "data": {
      "text/html": [
       "<div>\n",
       "<style scoped>\n",
       "    .dataframe tbody tr th:only-of-type {\n",
       "        vertical-align: middle;\n",
       "    }\n",
       "\n",
       "    .dataframe tbody tr th {\n",
       "        vertical-align: top;\n",
       "    }\n",
       "\n",
       "    .dataframe thead th {\n",
       "        text-align: right;\n",
       "    }\n",
       "</style>\n",
       "<table border=\"1\" class=\"dataframe\">\n",
       "  <thead>\n",
       "    <tr style=\"text-align: right;\">\n",
       "      <th></th>\n",
       "      <th>frequency</th>\n",
       "    </tr>\n",
       "  </thead>\n",
       "  <tbody>\n",
       "    <tr>\n",
       "      <th>box office</th>\n",
       "      <td>151</td>\n",
       "    </tr>\n",
       "    <tr>\n",
       "      <th>director guild</th>\n",
       "      <td>128</td>\n",
       "    </tr>\n",
       "    <tr>\n",
       "      <th>navy seal</th>\n",
       "      <td>113</td>\n",
       "    </tr>\n",
       "    <tr>\n",
       "      <th>guild selma</th>\n",
       "      <td>96</td>\n",
       "    </tr>\n",
       "    <tr>\n",
       "      <th>ignores history</th>\n",
       "      <td>62</td>\n",
       "    </tr>\n",
       "  </tbody>\n",
       "</table>\n",
       "</div>"
      ],
      "text/plain": [
       "                 frequency\n",
       "box office             151\n",
       "director guild         128\n",
       "navy seal              113\n",
       "guild selma             96\n",
       "ignores history         62"
      ]
     },
     "execution_count": 107,
     "metadata": {},
     "output_type": "execute_result"
    }
   ],
   "source": [
    "word_vectorizer = CountVectorizer(ngram_range=(2,2), analyzer='word')\n",
    "sparse_matrix = word_vectorizer.fit_transform(clint_eastwood['ptweets'])\n",
    "frequencies = sum(sparse_matrix).toarray()[0]\n",
    "bi_df = pd.DataFrame(frequencies, index=word_vectorizer.get_feature_names(), columns=['frequency'])\n",
    "\n",
    "bi_df.sort_values(\"frequency\", inplace=True, ascending=False)\n",
    "\n",
    "bi_df.head(5)"
   ]
  },
  {
   "cell_type": "code",
   "execution_count": 108,
   "metadata": {
    "scrolled": false
   },
   "outputs": [
    {
     "name": "stdout",
     "output_type": "stream",
     "text": [
      "Clint Eastwood\r\n",
      "*************\r\n",
      "box office (151tweets)\r\n",
      "director guild (128tweets)\r\n",
      "navy seal (113tweets)\r\n",
      "guild selma (96tweets)\r\n",
      "ignores history (62tweets)\r\n",
      "sienna miller (51tweets)\r\n"
     ]
    }
   ],
   "source": [
    "print (\"Clint Eastwood\\r\")\n",
    "print (\"*************\\r\")\n",
    "for i in (range(6)):\n",
    "    print (str(bi_df.index[i]) + \" (\" + str(bi_df.frequency[i]) + \"tweets)\\r\")"
   ]
  },
  {
   "cell_type": "markdown",
   "metadata": {},
   "source": [
    "## Bradley Cooper"
   ]
  },
  {
   "cell_type": "markdown",
   "metadata": {},
   "source": [
    "### Top 5 trends using Unigram"
   ]
  },
  {
   "cell_type": "code",
   "execution_count": 109,
   "metadata": {},
   "outputs": [
    {
     "data": {
      "text/html": [
       "<div>\n",
       "<style scoped>\n",
       "    .dataframe tbody tr th:only-of-type {\n",
       "        vertical-align: middle;\n",
       "    }\n",
       "\n",
       "    .dataframe tbody tr th {\n",
       "        vertical-align: top;\n",
       "    }\n",
       "\n",
       "    .dataframe thead th {\n",
       "        text-align: right;\n",
       "    }\n",
       "</style>\n",
       "<table border=\"1\" class=\"dataframe\">\n",
       "  <thead>\n",
       "    <tr style=\"text-align: right;\">\n",
       "      <th></th>\n",
       "      <th>frequency</th>\n",
       "    </tr>\n",
       "  </thead>\n",
       "  <tbody>\n",
       "    <tr>\n",
       "      <th>great</th>\n",
       "      <td>735</td>\n",
       "    </tr>\n",
       "    <tr>\n",
       "      <th>oscar</th>\n",
       "      <td>650</td>\n",
       "    </tr>\n",
       "    <tr>\n",
       "      <th>actor</th>\n",
       "      <td>284</td>\n",
       "    </tr>\n",
       "    <tr>\n",
       "      <th>amazing</th>\n",
       "      <td>250</td>\n",
       "    </tr>\n",
       "    <tr>\n",
       "      <th>performance</th>\n",
       "      <td>240</td>\n",
       "    </tr>\n",
       "  </tbody>\n",
       "</table>\n",
       "</div>"
      ],
      "text/plain": [
       "             frequency\n",
       "great              735\n",
       "oscar              650\n",
       "actor              284\n",
       "amazing            250\n",
       "performance        240"
      ]
     },
     "execution_count": 109,
     "metadata": {},
     "output_type": "execute_result"
    }
   ],
   "source": [
    "word_vectorizer = CountVectorizer(ngram_range=(1,1), analyzer='word')\n",
    "sparse_matrix = word_vectorizer.fit_transform(bradley_cooper['ptweets'])\n",
    "frequencies = sum(sparse_matrix).toarray()[0]\n",
    "uni_df = pd.DataFrame(frequencies, index=word_vectorizer.get_feature_names(), columns=['frequency'])\n",
    "\n",
    "uni_df.sort_values(\"frequency\", inplace=True, ascending=False)\n",
    "\n",
    "uni_df.head(5)"
   ]
  },
  {
   "cell_type": "code",
   "execution_count": 110,
   "metadata": {
    "scrolled": false
   },
   "outputs": [
    {
     "name": "stdout",
     "output_type": "stream",
     "text": [
      "Bradley Cooper\r\n",
      "*************\r\n",
      "great (735tweets)\r\n",
      "oscar (650tweets)\r\n",
      "actor (284tweets)\r\n",
      "amazing (250tweets)\r\n",
      "performance (240tweets)\r\n",
      "navy (225tweets)\r\n"
     ]
    }
   ],
   "source": [
    "print (\"Bradley Cooper\\r\")\n",
    "print (\"*************\\r\")\n",
    "for i in (range(6)):\n",
    "    print (str(uni_df.index[i]) + \" (\" + str(uni_df.frequency[i]) + \"tweets)\\r\")"
   ]
  },
  {
   "cell_type": "code",
   "execution_count": 111,
   "metadata": {},
   "outputs": [
    {
     "data": {
      "image/png": "[encoded data removed]",
      "text/plain": [
       "<Figure size 720x576 with 1 Axes>"
      ]
     },
     "metadata": {},
     "output_type": "display_data"
    }
   ],
   "source": [
    "words = ' '.join(list(uni_df.index[:5]))\n",
    "words_wc = WordCloud(width=800,height=400,background_color='black',max_words=6, mode=\"RGBA\").generate(words)\n",
    "plt.figure(figsize=(10,8), facecolor='k')\n",
    "plt.imshow(words_wc)\n",
    "plt.axis('off')\n",
    "plt.tight_layout(pad=0)\n",
    "plt.show()"
   ]
  },
  {
   "cell_type": "markdown",
   "metadata": {},
   "source": [
    "### Top 5 trends using Bigram"
   ]
  },
  {
   "cell_type": "code",
   "execution_count": 112,
   "metadata": {
    "scrolled": true
   },
   "outputs": [
    {
     "data": {
      "text/html": [
       "<div>\n",
       "<style scoped>\n",
       "    .dataframe tbody tr th:only-of-type {\n",
       "        vertical-align: middle;\n",
       "    }\n",
       "\n",
       "    .dataframe tbody tr th {\n",
       "        vertical-align: top;\n",
       "    }\n",
       "\n",
       "    .dataframe thead th {\n",
       "        text-align: right;\n",
       "    }\n",
       "</style>\n",
       "<table border=\"1\" class=\"dataframe\">\n",
       "  <thead>\n",
       "    <tr style=\"text-align: right;\">\n",
       "      <th></th>\n",
       "      <th>frequency</th>\n",
       "    </tr>\n",
       "  </thead>\n",
       "  <tbody>\n",
       "    <tr>\n",
       "      <th>navy seal</th>\n",
       "      <td>192</td>\n",
       "    </tr>\n",
       "    <tr>\n",
       "      <th>great actor</th>\n",
       "      <td>163</td>\n",
       "    </tr>\n",
       "    <tr>\n",
       "      <th>sensational portrayal</th>\n",
       "      <td>147</td>\n",
       "    </tr>\n",
       "    <tr>\n",
       "      <th>portrayal navy</th>\n",
       "      <td>141</td>\n",
       "    </tr>\n",
       "    <tr>\n",
       "      <th>sienna miller</th>\n",
       "      <td>122</td>\n",
       "    </tr>\n",
       "  </tbody>\n",
       "</table>\n",
       "</div>"
      ],
      "text/plain": [
       "                       frequency\n",
       "navy seal                    192\n",
       "great actor                  163\n",
       "sensational portrayal        147\n",
       "portrayal navy               141\n",
       "sienna miller                122"
      ]
     },
     "execution_count": 112,
     "metadata": {},
     "output_type": "execute_result"
    }
   ],
   "source": [
    "word_vectorizer = CountVectorizer(ngram_range=(2,2), analyzer='word')\n",
    "sparse_matrix = word_vectorizer.fit_transform(bradley_cooper['ptweets'])\n",
    "frequencies = sum(sparse_matrix).toarray()[0]\n",
    "bi_df = pd.DataFrame(frequencies, index=word_vectorizer.get_feature_names(), columns=['frequency'])\n",
    "\n",
    "bi_df.sort_values(\"frequency\", inplace=True, ascending=False)\n",
    "\n",
    "bi_df.head(5)"
   ]
  },
  {
   "cell_type": "code",
   "execution_count": 113,
   "metadata": {
    "scrolled": false
   },
   "outputs": [
    {
     "name": "stdout",
     "output_type": "stream",
     "text": [
      "Bradley Cooper\r\n",
      "*************\r\n",
      "navy seal (192tweets)\r\n",
      "great actor (163tweets)\r\n",
      "sensational portrayal (147tweets)\r\n",
      "portrayal navy (141tweets)\r\n",
      "sienna miller (122tweets)\r\n",
      "oscar noms (118tweets)\r\n"
     ]
    }
   ],
   "source": [
    "print (\"Bradley Cooper\\r\")\n",
    "print (\"*************\\r\")\n",
    "for i in (range(6)):\n",
    "    print (str(bi_df.index[i]) + \" (\" + str(bi_df.frequency[i]) + \"tweets)\\r\")"
   ]
  },
  {
   "cell_type": "markdown",
   "metadata": {},
   "source": [
    "## Chris Kyle"
   ]
  },
  {
   "cell_type": "markdown",
   "metadata": {},
   "source": [
    "### Top 5 trends using Unigram"
   ]
  },
  {
   "cell_type": "code",
   "execution_count": 114,
   "metadata": {
    "scrolled": true
   },
   "outputs": [
    {
     "data": {
      "text/html": [
       "<div>\n",
       "<style scoped>\n",
       "    .dataframe tbody tr th:only-of-type {\n",
       "        vertical-align: middle;\n",
       "    }\n",
       "\n",
       "    .dataframe tbody tr th {\n",
       "        vertical-align: top;\n",
       "    }\n",
       "\n",
       "    .dataframe thead th {\n",
       "        text-align: right;\n",
       "    }\n",
       "</style>\n",
       "<table border=\"1\" class=\"dataframe\">\n",
       "  <thead>\n",
       "    <tr style=\"text-align: right;\">\n",
       "      <th></th>\n",
       "      <th>frequency</th>\n",
       "    </tr>\n",
       "  </thead>\n",
       "  <tbody>\n",
       "    <tr>\n",
       "      <th>memorial</th>\n",
       "      <td>862</td>\n",
       "    </tr>\n",
       "    <tr>\n",
       "      <th>edition</th>\n",
       "      <td>845</td>\n",
       "    </tr>\n",
       "    <tr>\n",
       "      <th>author</th>\n",
       "      <td>803</td>\n",
       "    </tr>\n",
       "    <tr>\n",
       "      <th>honor</th>\n",
       "      <td>786</td>\n",
       "    </tr>\n",
       "    <tr>\n",
       "      <th>hero</th>\n",
       "      <td>743</td>\n",
       "    </tr>\n",
       "  </tbody>\n",
       "</table>\n",
       "</div>"
      ],
      "text/plain": [
       "          frequency\n",
       "memorial        862\n",
       "edition         845\n",
       "author          803\n",
       "honor           786\n",
       "hero            743"
      ]
     },
     "execution_count": 114,
     "metadata": {},
     "output_type": "execute_result"
    }
   ],
   "source": [
    "\n",
    "word_vectorizer = CountVectorizer(ngram_range=(1,1), analyzer='word')\n",
    "sparse_matrix = word_vectorizer.fit_transform(chris_kyle['ptweets'])\n",
    "frequencies = sum(sparse_matrix).toarray()[0]\n",
    "uni_df = pd.DataFrame(frequencies, index=word_vectorizer.get_feature_names(), columns=['frequency'])\n",
    "\n",
    "uni_df.sort_values(\"frequency\", inplace=True, ascending=False)\n",
    "\n",
    "uni_df.head(5)"
   ]
  },
  {
   "cell_type": "code",
   "execution_count": 115,
   "metadata": {
    "scrolled": false
   },
   "outputs": [
    {
     "name": "stdout",
     "output_type": "stream",
     "text": [
      "Chris Kyle\r\n",
      "*************\r\n",
      "memorial (862tweets)\r\n",
      "edition (845tweets)\r\n",
      "author (803tweets)\r\n",
      "honor (786tweets)\r\n",
      "hero (743tweets)\r\n",
      "great (567tweets)\r\n"
     ]
    }
   ],
   "source": [
    "print (\"Chris Kyle\\r\")\n",
    "print (\"*************\\r\")\n",
    "for i in (range(6)):\n",
    "    print (str(uni_df.index[i]) + \" (\" + str(uni_df.frequency[i]) + \"tweets)\\r\")"
   ]
  },
  {
   "cell_type": "code",
   "execution_count": 116,
   "metadata": {},
   "outputs": [
    {
     "data": {
      "image/png": "[encoded data removed]",
      "text/plain": [
       "<Figure size 720x576 with 1 Axes>"
      ]
     },
     "metadata": {},
     "output_type": "display_data"
    }
   ],
   "source": [
    "words = ' '.join(list(uni_df.index[:5]))\n",
    "words_wc = WordCloud(width=800,height=400,background_color='black',max_words=6, mode=\"RGBA\").generate(words)\n",
    "plt.figure(figsize=(10,8), facecolor='k')\n",
    "plt.imshow(words_wc)\n",
    "plt.axis('off')\n",
    "plt.tight_layout(pad=0)\n",
    "plt.show()"
   ]
  },
  {
   "cell_type": "markdown",
   "metadata": {},
   "source": [
    "### Top 5 trends using Bigram"
   ]
  },
  {
   "cell_type": "code",
   "execution_count": 117,
   "metadata": {
    "scrolled": true
   },
   "outputs": [
    {
     "data": {
      "text/html": [
       "<div>\n",
       "<style scoped>\n",
       "    .dataframe tbody tr th:only-of-type {\n",
       "        vertical-align: middle;\n",
       "    }\n",
       "\n",
       "    .dataframe tbody tr th {\n",
       "        vertical-align: top;\n",
       "    }\n",
       "\n",
       "    .dataframe thead th {\n",
       "        text-align: right;\n",
       "    }\n",
       "</style>\n",
       "<table border=\"1\" class=\"dataframe\">\n",
       "  <thead>\n",
       "    <tr style=\"text-align: right;\">\n",
       "      <th></th>\n",
       "      <th>frequency</th>\n",
       "    </tr>\n",
       "  </thead>\n",
       "  <tbody>\n",
       "    <tr>\n",
       "      <th>memorial edition</th>\n",
       "      <td>829</td>\n",
       "    </tr>\n",
       "    <tr>\n",
       "      <th>scott mcewen</th>\n",
       "      <td>427</td>\n",
       "    </tr>\n",
       "    <tr>\n",
       "      <th>navy seal</th>\n",
       "      <td>413</td>\n",
       "    </tr>\n",
       "    <tr>\n",
       "      <th>author scott</th>\n",
       "      <td>401</td>\n",
       "    </tr>\n",
       "    <tr>\n",
       "      <th>edition author</th>\n",
       "      <td>400</td>\n",
       "    </tr>\n",
       "  </tbody>\n",
       "</table>\n",
       "</div>"
      ],
      "text/plain": [
       "                  frequency\n",
       "memorial edition        829\n",
       "scott mcewen            427\n",
       "navy seal               413\n",
       "author scott            401\n",
       "edition author          400"
      ]
     },
     "execution_count": 117,
     "metadata": {},
     "output_type": "execute_result"
    }
   ],
   "source": [
    "word_vectorizer = CountVectorizer(ngram_range=(2,2), analyzer='word')\n",
    "sparse_matrix = word_vectorizer.fit_transform(chris_kyle['ptweets'])\n",
    "frequencies = sum(sparse_matrix).toarray()[0]\n",
    "bi_df = pd.DataFrame(frequencies, index=word_vectorizer.get_feature_names(), columns=['frequency'])\n",
    "\n",
    "bi_df.sort_values(\"frequency\", inplace=True, ascending=False)\n",
    "\n",
    "bi_df.head(5)"
   ]
  },
  {
   "cell_type": "code",
   "execution_count": 118,
   "metadata": {
    "scrolled": true
   },
   "outputs": [
    {
     "name": "stdout",
     "output_type": "stream",
     "text": [
      "Chris Kyle\r\n",
      "*************\r\n",
      "memorial edition (829tweets)\r\n",
      "scott mcewen (427tweets)\r\n",
      "navy seal (413tweets)\r\n",
      "author scott (401tweets)\r\n",
      "edition author (400tweets)\r\n",
      "edition memorial (381tweets)\r\n"
     ]
    }
   ],
   "source": [
    "print (\"Chris Kyle\\r\")\n",
    "print (\"*************\\r\")\n",
    "for i in (range(6)):\n",
    "    print (str(bi_df.index[i]) + \" (\" + str(bi_df.frequency[i]) + \"tweets)\\r\")"
   ]
  },
  {
   "cell_type": "markdown",
   "metadata": {},
   "source": [
    "#### ======================================================================================"
   ]
  }
 ],
 "metadata": {
  "kernelspec": {
   "display_name": "Python 3",
   "language": "python",
   "name": "python3"
  },
  "language_info": {
   "codemirror_mode": {
    "name": "ipython",
    "version": 3
   },
   "file_extension": ".py",
   "mimetype": "text/x-python",
   "name": "python",
   "nbconvert_exporter": "python",
   "pygments_lexer": "ipython3",
   "version": "3.6.5"
  }
 },
 "nbformat": 4,
 "nbformat_minor": 2
}
