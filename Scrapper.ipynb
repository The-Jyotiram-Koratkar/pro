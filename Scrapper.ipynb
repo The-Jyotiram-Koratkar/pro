{
 "cells": [
  {
   "cell_type": "markdown",
   "metadata": {},
   "source": [
    "# START"
   ]
  },
  {
   "cell_type": "code",
   "execution_count": null,
   "metadata": {
    "collapsed": true
   },
   "outputs": [],
   "source": [
    "#!pip install selenium\n",
    "import csv\n",
    "import time\n",
    "import selenium\n",
    "from selenium import webdriver\n",
    "from selenium.common.exceptions import TimeoutException, NoSuchElementException\n",
    "import unicodedata\n",
    "import re\n",
    "import pandas as pd\n",
    "from selenium.webdriver.support.ui import WebDriverWait\n",
    "from selenium.webdriver.support import expected_conditions as EC\n",
    "from selenium.webdriver.common.by import By"
   ]
  },
  {
   "cell_type": "code",
   "execution_count": null,
   "metadata": {
    "collapsed": true
   },
   "outputs": [],
   "source": [
    "driver = webdriver.Chrome(\"C:\\\\Users\\\\Suhas\\\\Downloads\\\\chromedriver.exe\")\n",
    "\n",
    "driver.set_window_size(1024, 600)\n",
    "driver.maximize_window()\n",
    "#e = driver.get('https://www.jeevansathi.com/search/partnermatches/892348744/1?useHeaderCaching=0&timestamp=1528556954490?useHeaderCaching=0&timestamp=1528556954490?useHeaderCaching=0&timestamp=1528556954490?useHeaderCaching=0&timestamp=1528556954490')\n",
    "#driver.get('https://www.jeevansathi.com/search/partnermatches/892348744/1')\n",
    "driver.get('https://www.jeevansathi.com/jsmb/login_home.php')"
   ]
  },
  {
   "cell_type": "code",
   "execution_count": null,
   "metadata": {
    "collapsed": true
   },
   "outputs": [],
   "source": [
    "username = driver.find_element_by_id(\"email\")\n",
    "password = driver.find_element_by_id(\"password\")\n",
    "\n",
    "username.send_keys(\"****4@gmail.com\")\n",
    "password.send_keys(\"********\")\n",
    "\n",
    "driver.find_element_by_id(\"jspcLoginLayerButton\").click()"
   ]
  },
  {
   "cell_type": "code",
   "execution_count": null,
   "metadata": {},
   "outputs": [],
   "source": [
    "for i in range(1,12):\n",
    "    url = 'https://www.jeevansathi.com/search/partnermatches/892348744/'+str(i)\n",
    "    print url"
   ]
  },
  {
   "cell_type": "code",
   "execution_count": null,
   "metadata": {
    "collapsed": true
   },
   "outputs": [],
   "source": [
    "ids = []\n",
    "for i in range(1,12):\n",
    "    url = 'https://www.jeevansathi.com/search/partnermatches/892348744/'+str(i)\n",
    "    driver.get(url)\n",
    "    s = driver.page_source\n",
    "    ll = s.lstrip()\n",
    "    l = unicodedata.normalize('NFKD', ll).encode('ascii','ignore')\n",
    "    data = [x.replace('\\n',' ').replace('\\t','') for x in l]\n",
    "    l = \"\"\n",
    "    for i in range(len(data)):\n",
    "        l = l +''.join(data[i])\n",
    "    lf = re.findall('data-pcchat=\"+[\\w][\\w][\\w][\\w]+[0-9][0-9][0-9][0-9],',l)\n",
    "    id_l = [x.replace('data-pcchat=\"','').replace(',','') for x in lf]\n",
    "    ids.append(id_l)"
   ]
  },
  {
   "cell_type": "code",
   "execution_count": null,
   "metadata": {},
   "outputs": [],
   "source": [
    "ids= [item for sublist in id_l for item in sublist]\n",
    "len(ids)\n",
    "ids"
   ]
  },
  {
   "cell_type": "code",
   "execution_count": null,
   "metadata": {},
   "outputs": [],
   "source": [
    "ids2 = ['YY****',\n",
    "        'Y******',\n",
    "        'Z******']\n",
    "len(ids2)\n",
    "ids2[0]"
   ]
  },
  {
   "cell_type": "code",
   "execution_count": null,
   "metadata": {},
   "outputs": [],
   "source": [
    "# sss = driver.find_element_by_xpath('//*[@id=\"mainContent\"]/div[14]/div').text\n",
    "# type(sss)\n",
    "# lll = unicodedata.normalize('NFKD', sss).encode('ascii','ignore')\n",
    "# type(lll)\n",
    "# lll\n",
    "# data = [x.replace('\\n',' ').replace(\"\\'\",\" \") for x in lll]\n",
    "# l = \"\"\n",
    "# for i in range(len(data)):\n",
    "#     l = l +''.join(data[i])\n",
    "details"
   ]
  },
  {
   "cell_type": "code",
   "execution_count": null,
   "metadata": {},
   "outputs": [],
   "source": [
    "x =len(ids2)\n",
    "profile_id = driver.find_element_by_id(\"advSearchProId\")\n",
    "profile_id.send_keys(ids2[0])\n",
    "dir(driver)"
   ]
  },
  {
   "cell_type": "code",
   "execution_count": null,
   "metadata": {
    "scrolled": true
   },
   "outputs": [],
   "source": [
    "appended_data = []\n",
    "for i in range(len(ids2)):\n",
    "    driver.get(\"https://www.jeevansathi.com/search/AdvancedSearch\")\n",
    "    driver.implicitly_wait(2)\n",
    "    driver.find_element_by_id('searchByIdSection').click()#//*[@id=\"searchByIdSection\"]\n",
    "    driver.implicitly_wait(2)\n",
    "    profile_id = driver.find_element_by_id(\"advSearchProId\")\n",
    "    driver.implicitly_wait(2)\n",
    "    profile_id.send_keys(ids2[i])\n",
    "    driver.find_element_by_id(\"advsearchByIdBtn\").click()\n",
    "    info1 = driver.find_element_by_xpath('//*[@id=\"detailsContactCompleteDiv\"]/div[1]/div')\n",
    "    info2 = driver.find_element_by_xpath('//*[@id=\"section-about\"]')\n",
    "    info3 = driver.find_element_by_xpath('//*[@id=\"section-horoscope\"]/div[2]')\n",
    "    info4 = driver.find_element_by_xpath('//*[@id=\"section-career\"]')\n",
    "    info5 = driver.find_element_by_xpath('//*[@id=\"section-family\"]')\n",
    "    info6 = driver.find_element_by_xpath('//*[@id=\"section-lifestyle\"]')\n",
    "    id_ = info1.find_element_by_css_selector(\".f15.vertSuper\").text\n",
    "    id_ = [unicodedata.normalize('NFKD', id_).encode('ascii','ignore')]\n",
    "\n",
    "    name = info1.find_element_by_css_selector(\".disp_ib.fixWidthOverflow.f24\").text\n",
    "    name = [unicodedata.normalize('NFKD', name).encode('ascii','ignore')]\n",
    "\n",
    "    age_height = info1.find_elements_by_tag_name(\"li\")[0].text\n",
    "    age_height = [unicodedata.normalize('NFKD', age_height).encode('ascii','ignore')]\n",
    "\n",
    "    education = info1.find_elements_by_tag_name(\"li\")[1].text\n",
    "    education = [unicodedata.normalize('NFKD', education).encode('ascii','ignore')]\n",
    "\n",
    "    location = info1.find_elements_by_tag_name(\"li\")[2].text\n",
    "    location = [unicodedata.normalize('NFKD', location).encode('ascii','ignore')]\n",
    "\n",
    "    designation = info1.find_elements_by_tag_name(\"li\")[3].text\n",
    "    designation = [unicodedata.normalize('NFKD', designation).encode('ascii','ignore')]\n",
    "\n",
    "    caste = info1.find_elements_by_tag_name(\"li\")[4].text\n",
    "    caste = [unicodedata.normalize('NFKD', caste).encode('ascii','ignore')]\n",
    "\n",
    "    income = info1.find_elements_by_tag_name(\"li\")[5].text\n",
    "    income = [unicodedata.normalize('NFKD', income).encode('ascii','ignore')]\n",
    "\n",
    "    mother_toung = info1.find_elements_by_tag_name(\"li\")[6].text\n",
    "    mother_toung = [unicodedata.normalize('NFKD', mother_toung).encode('ascii','ignore')]\n",
    "\n",
    "    m_status = info1.find_elements_by_tag_name(\"li\")[7].text\n",
    "    m_status = [unicodedata.normalize('NFKD', m_status).encode('ascii','ignore')]\n",
    "    \n",
    "    about = info2.find_element_by_tag_name(\"pre\").text\n",
    "    about = [unicodedata.normalize('NFKD', about).encode('ascii','ignore')]\n",
    "\n",
    "    hh = []\n",
    "    vv = []\n",
    "    for i in range(7):\n",
    "        if(i%2==0):\n",
    "            h = info3.find_elements_by_tag_name(\"p\")[i].text\n",
    "            h = unicodedata.normalize('NFKD', h).encode('ascii','ignore')\n",
    "            h = [h]\n",
    "            hh.append(h)\n",
    "        else:\n",
    "            v = info3.find_elements_by_tag_name(\"p\")[i].text\n",
    "            v = unicodedata.normalize('NFKD', v).encode('ascii','ignore')\n",
    "            v = [v]\n",
    "            vv.append(v)\n",
    "        \n",
    "    for i in range(7,15):\n",
    "        if(i%2!=0):\n",
    "            h = info3.find_elements_by_tag_name(\"p\")[i].text\n",
    "            h = unicodedata.normalize('NFKD', h).encode('ascii','ignore')\n",
    "            h = [h]\n",
    "            hh.append(h)\n",
    "        else:\n",
    "            v = info3.find_elements_by_tag_name(\"p\")[i].text\n",
    "            v = unicodedata.normalize('NFKD', v).encode('ascii','ignore')\n",
    "            v = [v]\n",
    "            vv.append(v)\n",
    "    \n",
    "    organization = info4.find_elements_by_tag_name(\"p\")[13].text\n",
    "    organization = [unicodedata.normalize('NFKD', organization).encode('ascii','ignore')]\n",
    "    \n",
    "    m_occu=info5.find_elements_by_tag_name(\"p\")[1].text\n",
    "    m_occu=[unicodedata.normalize('NFKD', m_occu).encode('ascii','ignore')]\n",
    "\n",
    "    f_occu = info5.find_elements_by_tag_name(\"p\")[3].text\n",
    "    f_occu = [unicodedata.normalize('NFKD', f_occu).encode('ascii','ignore')]\n",
    "\n",
    "    sis = info5.find_elements_by_tag_name(\"p\")[5].text\n",
    "    sis = [unicodedata.normalize('NFKD', sis).encode('ascii','ignore')]\n",
    "\n",
    "    bro = info5.find_elements_by_tag_name(\"p\")[7].text\n",
    "    bro = [unicodedata.normalize('NFKD', bro).encode('ascii','ignore')]\n",
    "\n",
    "    fmly_status = info5.find_elements_by_tag_name(\"p\")[15].text\n",
    "    fmly_status = [unicodedata.normalize('NFKD', fmly_status).encode('ascii','ignore')]\n",
    "\n",
    "    fmly_income = info5.find_elements_by_tag_name(\"p\")[17].text\n",
    "    fmly_income = [unicodedata.normalize('NFKD', fmly_income).encode('ascii','ignore')]\n",
    "\n",
    "    fmly_type = info5.find_elements_by_tag_name(\"p\")[19].text\n",
    "    fmly_type = [unicodedata.normalize('NFKD', fmly_type).encode('ascii','ignore')]\n",
    "\n",
    "    fmly_values = info5.find_elements_by_tag_name(\"p\")[21].text\n",
    "    fmly_values = [unicodedata.normalize('NFKD', fmly_values).encode('ascii','ignore')]\n",
    "\n",
    "    fmly_based = info5.find_elements_by_tag_name(\"p\")[23].text\n",
    "    fmly_based = [unicodedata.normalize('NFKD', fmly_based).encode('ascii','ignore')]\n",
    "    \n",
    "    appearance=info6.find_elements_by_tag_name(\"p\")[1].text\n",
    "    appearance=[unicodedata.normalize('NFKD', appearance).encode('ascii','ignore')]\n",
    "    \n",
    "    details1 = pd.DataFrame(\n",
    "    {'id_':id_,\n",
    "     'name': name,\n",
    "     'age_height': age_height,\n",
    "     'education': education,\n",
    "     'location' : location,\n",
    "     'm_occu':m_occu,\n",
    "     'f_occu':f_occu,\n",
    "     'sis':sis,\n",
    "     'bro':bro,\n",
    "     'fmly_status':fmly_status,\n",
    "     'fmly_income':fmly_income,\n",
    "     'fmly_type':fmly_type,\n",
    "     'fmly_values':fmly_values,\n",
    "     'fmly_based':fmly_based,\n",
    "     #'with_parents':with_parents,\n",
    "     'designation':designation,\n",
    "     'income':income,\n",
    "     'mother_toung': mother_toung,\n",
    "     'm_status':m_status,\n",
    "     #'work_m': work_m,\n",
    "     #'abroad':abroad,\n",
    "     'organization':organization,\n",
    "     'caste': caste,\n",
    "     'about':about,\n",
    "     'Place of Birth': vv[0],\n",
    "     'Date of Birth': vv[1],\n",
    "     'Time of Birth': vv[2],\n",
    "     'Sun sign': vv[3],\n",
    "     'Rashi/Moon Sign': vv[4],\n",
    "     'Nakshatra': vv[5],\n",
    "     'Manglik' : vv[6],\n",
    "     'appearance':appearance,\n",
    "     #'pets':pets\n",
    "    })\n",
    "    \n",
    "    appended_data.append(details1)\n",
    "    \n",
    "details = pd.concat(appended_data, axis=0)\n",
    "print \"==\"\n",
    "details.head()"
   ]
  },
  {
   "cell_type": "code",
   "execution_count": null,
   "metadata": {
    "collapsed": true
   },
   "outputs": [],
   "source": [
    "details.to_csv('details.csv',encoding='utf-8')"
   ]
  },
  {
   "cell_type": "markdown",
   "metadata": {},
   "source": [
    "# END"
   ]
  },
  {
   "cell_type": "markdown",
   "metadata": {},
   "source": [
    "#============================================================================================\n",
    "#Raw"
   ]
  },
  {
   "cell_type": "code",
   "execution_count": null,
   "metadata": {
    "collapsed": true
   },
   "outputs": [],
   "source": [
    "info1 = driver.find_element_by_xpath('//*[@id=\"detailsContactCompleteDiv\"]/div[1]/div')\n",
    "info2 = driver.find_element_by_xpath('//*[@id=\"section-about\"]')\n",
    "info3 = driver.find_element_by_xpath('//*[@id=\"section-horoscope\"]/div[2]')\n",
    "info4 = driver.find_element_by_xpath('//*[@id=\"section-career\"]')\n",
    "info5 = driver.find_element_by_xpath('//*[@id=\"section-family\"]')\n",
    "info6 = driver.find_element_by_xpath('//*[@id=\"section-lifestyle\"]')\n",
    "\n",
    "# type(sss)\n",
    "# lll = unicodedata.normalize('NFKD', sss).encode('ascii','ignore')\n",
    "# type(lll)\n",
    "# lll\n",
    "# data = [x.replace('\\n',' ').replace(\"\\'\",\" \") for x in lll]\n",
    "# l = \"\"\n",
    "# for i in range(len(data)):\n",
    "#     l = l +''.join(data[i])\n",
    "#info1.rfind('Amravati')"
   ]
  },
  {
   "cell_type": "code",
   "execution_count": null,
   "metadata": {
    "collapsed": true
   },
   "outputs": [],
   "source": [
    "id_ = info1.find_element_by_css_selector(\".f15.vertSuper\").text\n",
    "id_ = [unicodedata.normalize('NFKD', id_).encode('ascii','ignore')]\n",
    "\n",
    "name = info1.find_element_by_css_selector(\".disp_ib.fixWidthOverflow.f24\").text\n",
    "name = [unicodedata.normalize('NFKD', name).encode('ascii','ignore')]\n",
    "\n",
    "age_height = info1.find_elements_by_tag_name(\"li\")[0].text\n",
    "age_height = [unicodedata.normalize('NFKD', age_height).encode('ascii','ignore')]\n",
    "\n",
    "education = info1.find_elements_by_tag_name(\"li\")[1].text\n",
    "education = [unicodedata.normalize('NFKD', education).encode('ascii','ignore')]\n",
    "\n",
    "location = info1.find_elements_by_tag_name(\"li\")[2].text\n",
    "location = [unicodedata.normalize('NFKD', location).encode('ascii','ignore')]\n",
    "\n",
    "designation = info1.find_elements_by_tag_name(\"li\")[3].text\n",
    "designation = [unicodedata.normalize('NFKD', designation).encode('ascii','ignore')]\n",
    "\n",
    "caste = info1.find_elements_by_tag_name(\"li\")[4].text\n",
    "caste = [unicodedata.normalize('NFKD', caste).encode('ascii','ignore')]\n",
    "\n",
    "income = info1.find_elements_by_tag_name(\"li\")[5].text\n",
    "income = [unicodedata.normalize('NFKD', income).encode('ascii','ignore')]\n",
    "\n",
    "mother_toung = info1.find_elements_by_tag_name(\"li\")[6].text\n",
    "mother_toung = [unicodedata.normalize('NFKD', mother_toung).encode('ascii','ignore')]\n",
    "\n",
    "m_status = info1.find_elements_by_tag_name(\"li\")[7].text\n",
    "m_status = [unicodedata.normalize('NFKD', m_status).encode('ascii','ignore')]\n",
    "\n",
    "#t = kk.text\n",
    "# e = info3.find_elements_by_css_selector(\".color11.pt6\")[0]\n",
    "# Birthdate = e.text\n",
    "# Birthdate"
   ]
  },
  {
   "cell_type": "code",
   "execution_count": null,
   "metadata": {
    "collapsed": true
   },
   "outputs": [],
   "source": [
    "about = info2.find_element_by_tag_name(\"pre\").text\n",
    "about = [unicodedata.normalize('NFKD', about).encode('ascii','ignore')]"
   ]
  },
  {
   "cell_type": "code",
   "execution_count": null,
   "metadata": {
    "collapsed": true
   },
   "outputs": [],
   "source": [
    "import pandas as pd\n",
    "hh = []\n",
    "vv = []"
   ]
  },
  {
   "cell_type": "code",
   "execution_count": null,
   "metadata": {
    "collapsed": true
   },
   "outputs": [],
   "source": [
    "for i in range(7):\n",
    "    if(i%2==0):\n",
    "        h = info3.find_elements_by_tag_name(\"p\")[i].text\n",
    "        h = unicodedata.normalize('NFKD', h).encode('ascii','ignore')\n",
    "        h = [h]\n",
    "        hh.append(h)\n",
    "    else:\n",
    "        v = info3.find_elements_by_tag_name(\"p\")[i].text\n",
    "        v = unicodedata.normalize('NFKD', v).encode('ascii','ignore')\n",
    "        v = [v]\n",
    "        vv.append(v)\n",
    "        \n",
    "for i in range(7,15):\n",
    "    if(i%2!=0):\n",
    "        h = info3.find_elements_by_tag_name(\"p\")[i].text\n",
    "        h = unicodedata.normalize('NFKD', h).encode('ascii','ignore')\n",
    "        h = [h]\n",
    "        hh.append(h)\n",
    "    else:\n",
    "        v = info3.find_elements_by_tag_name(\"p\")[i].text\n",
    "        v = unicodedata.normalize('NFKD', v).encode('ascii','ignore')\n",
    "        v = [v]\n",
    "        vv.append(v)"
   ]
  },
  {
   "cell_type": "code",
   "execution_count": null,
   "metadata": {},
   "outputs": [],
   "source": [
    "vv\n",
    "# for i in range(14):\n",
    "#     if(i%2==0):\n",
    "#         print(i)"
   ]
  },
  {
   "cell_type": "code",
   "execution_count": null,
   "metadata": {
    "collapsed": true
   },
   "outputs": [],
   "source": [
    "#info4\n",
    "# work_m = info4.find_elements_by_tag_name(\"li\")[9].text\n",
    "# work_m = [unicodedata.normalize('NFKD', work_m).encode('ascii','ignore')]\n",
    "# abroad = info4.find_elements_by_tag_name(\"li\")[8].text\n",
    "# abroad = [unicodedata.normalize('NFKD', abroad).encode('ascii','ignore')]\n",
    "organization = info4.find_elements_by_tag_name(\"p\")[13].text\n",
    "organization = [unicodedata.normalize('NFKD', organization).encode('ascii','ignore')]"
   ]
  },
  {
   "cell_type": "code",
   "execution_count": null,
   "metadata": {
    "collapsed": true
   },
   "outputs": [],
   "source": [
    "#info5\n",
    "m_occu=info5.find_elements_by_tag_name(\"p\")[1].text\n",
    "m_occu=[unicodedata.normalize('NFKD', m_occu).encode('ascii','ignore')]\n",
    "\n",
    "f_occu = info5.find_elements_by_tag_name(\"p\")[3].text\n",
    "f_occu = [unicodedata.normalize('NFKD', f_occu).encode('ascii','ignore')]\n",
    "\n",
    "sis = info5.find_elements_by_tag_name(\"p\")[5].text\n",
    "sis = [unicodedata.normalize('NFKD', sis).encode('ascii','ignore')]\n",
    "\n",
    "bro = info5.find_elements_by_tag_name(\"p\")[7].text\n",
    "bro = [unicodedata.normalize('NFKD', bro).encode('ascii','ignore')]\n",
    "\n",
    "fmly_status = info5.find_elements_by_tag_name(\"p\")[15].text\n",
    "fmly_status = [unicodedata.normalize('NFKD', fmly_status).encode('ascii','ignore')]\n",
    "\n",
    "fmly_income = info5.find_elements_by_tag_name(\"p\")[17].text\n",
    "fmly_income = [unicodedata.normalize('NFKD', fmly_income).encode('ascii','ignore')]\n",
    "\n",
    "fmly_type = info5.find_elements_by_tag_name(\"p\")[19].text\n",
    "fmly_type = [unicodedata.normalize('NFKD', fmly_type).encode('ascii','ignore')]\n",
    "\n",
    "fmly_values = info5.find_elements_by_tag_name(\"p\")[21].text\n",
    "fmly_values = [unicodedata.normalize('NFKD', fmly_values).encode('ascii','ignore')]\n",
    "\n",
    "fmly_based = info5.find_elements_by_tag_name(\"p\")[23].text\n",
    "fmly_based = [unicodedata.normalize('NFKD', fmly_based).encode('ascii','ignore')]\n",
    "\n",
    "# with_parents = info5.find_elements_by_tag_name(\"li\")[12].text\n",
    "# with_parents = [unicodedata.normalize('NFKD', with_parents).encode('ascii','ignore')]"
   ]
  },
  {
   "cell_type": "code",
   "execution_count": null,
   "metadata": {
    "collapsed": true
   },
   "outputs": [],
   "source": [
    "#info6\n",
    "appearance=info6.find_elements_by_tag_name(\"p\")[1].text\n",
    "appearance=[unicodedata.normalize('NFKD', appearance).encode('ascii','ignore')]\n",
    "\n",
    "# pets=info6.find_elements_by_tag_name(\"li\")[7].text\n",
    "# pets=[unicodedata.normalize('NFKD', pets).encode('ascii','ignore')]"
   ]
  },
  {
   "cell_type": "code",
   "execution_count": null,
   "metadata": {
    "collapsed": true
   },
   "outputs": [],
   "source": [
    "details = pd.DataFrame(\n",
    "    {'id_':id_,\n",
    "     'name': name,\n",
    "     'age_height': age_height,\n",
    "     'education': education,\n",
    "     'location' : location,\n",
    "     'm_occu':m_occu,\n",
    "     'f_occu':f_occu,\n",
    "     'sis':sis,\n",
    "     'bro':bro,\n",
    "     'fmly_status':fmly_status,\n",
    "     'fmly_income':fmly_income,\n",
    "     'fmly_type':fmly_type,\n",
    "     'fmly_values':fmly_values,\n",
    "     'fmly_based':fmly_based,\n",
    "     'with_parents':with_parents,\n",
    "     'designation':designation,\n",
    "     'income':income,\n",
    "     'mother_toung': mother_toung,\n",
    "     'm_status':m_status,\n",
    "     'work_m': work_m,\n",
    "     'abroad':abroad,\n",
    "     'organization':organization,\n",
    "     'caste': caste,\n",
    "     'about':about,\n",
    "     'Place of Birth': vv[0],\n",
    "     'Date of Birth': vv[1],\n",
    "     'Time of Birth': vv[2],\n",
    "     'Sun sign': vv[3],\n",
    "     'Rashi/Moon Sign': vv[4],\n",
    "     'Nakshatra': vv[5],\n",
    "     'Manglik' : vv[6],\n",
    "     'appearance':appearance,\n",
    "     'pets':pets\n",
    "    })\n"
   ]
  },
  {
   "cell_type": "code",
   "execution_count": null,
   "metadata": {
    "collapsed": true
   },
   "outputs": [],
   "source": [
    "details1 = details"
   ]
  },
  {
   "cell_type": "code",
   "execution_count": null,
   "metadata": {},
   "outputs": [],
   "source": [
    "details.head()"
   ]
  },
  {
   "cell_type": "code",
   "execution_count": null,
   "metadata": {
    "collapsed": true
   },
   "outputs": [],
   "source": [
    "# def uni_list(x):\n",
    "#     x = [unicodedata.normalize('NFKD', x).encode('ascii','ignore')]\n",
    "#     return x"
   ]
  },
  {
   "cell_type": "code",
   "execution_count": null,
   "metadata": {},
   "outputs": [],
   "source": [
    "l"
   ]
  },
  {
   "cell_type": "code",
   "execution_count": null,
   "metadata": {
    "collapsed": true
   },
   "outputs": [],
   "source": []
  },
  {
   "cell_type": "code",
   "execution_count": null,
   "metadata": {
    "collapsed": true
   },
   "outputs": [],
   "source": []
  }
 ],
 "metadata": {
  "kernelspec": {
   "display_name": "Python 2",
   "language": "python",
   "name": "python2"
  },
  "language_info": {
   "codemirror_mode": {
    "name": "ipython",
    "version": 2
   },
   "file_extension": ".py",
   "mimetype": "text/x-python",
   "name": "python",
   "nbconvert_exporter": "python",
   "pygments_lexer": "ipython2",
   "version": "2.7.13"
  }
 },
 "nbformat": 4,
 "nbformat_minor": 2
}
