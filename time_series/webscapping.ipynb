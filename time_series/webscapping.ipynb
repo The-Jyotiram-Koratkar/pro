{
 "cells": [
  {
   "cell_type": "code",
   "execution_count": 45,
   "metadata": {},
   "outputs": [],
   "source": [
    "#https://pythonprogramminglanguage.com/web-scraping-with-pandas-and-beautifulsoup/\n",
    "\n",
    "import pandas as pd\n",
    "import requests\n",
    "# !pip install bs4\n",
    "# !pip install tabulate\n",
    "from bs4 import BeautifulSoup\n",
    "from tabulate import tabulate"
   ]
  },
  {
   "cell_type": "code",
   "execution_count": 54,
   "metadata": {},
   "outputs": [
    {
     "name": "stdout",
     "output_type": "stream",
     "text": [
      "+-----+----------------------------+---------+\n",
      "|   0 | Data for this Date Range   |     nan |\n",
      "|-----+----------------------------+---------|\n",
      "|   1 | Feb. 1, 2019               | 94006.8 |\n",
      "|   2 | Jan. 31, 2019              | 94109.5 |\n",
      "|   3 | Jan. 30, 2019              | 93262.9 |\n",
      "|   4 | Jan. 29, 2019              | 92979.9 |\n",
      "|   5 | Jan. 28, 2019              | 92636.2 |\n",
      "|   6 | Jan. 25, 2019              | 92164.5 |\n",
      "|   7 | Jan. 24, 2019              | 91360.9 |\n",
      "|   8 | Jan. 23, 2019              | 91307.3 |\n",
      "|   9 | Jan. 22, 2019              | 91572.4 |\n",
      "|  10 | Jan. 21, 2019              | 91121.5 |\n",
      "|  11 | Jan. 18, 2019              | 91348.3 |\n",
      "|  12 | Jan. 17, 2019              | 91646.1 |\n",
      "|  13 | Jan. 16, 2019              | 92018.2 |\n",
      "|  14 | Jan. 15, 2019              | 91921.8 |\n",
      "|  15 | Jan. 14, 2019              | 91546.1 |\n",
      "|  16 | Jan. 11, 2019              | 90842   |\n",
      "|  17 | Jan. 10, 2019              | 91020.8 |\n",
      "|  18 | Jan. 9, 2019               | 90878.5 |\n",
      "|  19 | Jan. 8, 2019               | 90299.1 |\n",
      "|  20 | Jan. 7, 2019               | 90046.9 |\n",
      "|  21 | Jan. 4, 2019               | 89263.4 |\n",
      "|  22 | Jan. 3, 2019               | 90454.1 |\n",
      "|  23 | Jan. 2, 2019               | 89960.1 |\n",
      "|  24 | Jan. 1, 2019               | 89293.4 |\n",
      "|  25 | Dec. 31, 2018              | 89293.4 |\n",
      "+-----+----------------------------+---------+\n"
     ]
    }
   ],
   "source": [
    "\n",
    "res = requests.get(\"https://ycharts.com/indicators/gold_price_in_indian_rupee\")\n",
    "soup = BeautifulSoup(res.content,'lxml')\n",
    "table = soup.find_all('table')[0] \n",
    "df = pd.read_html(str(table))\n",
    "print( tabulate(df[0], headers='firstrow', tablefmt='psql') )\n",
    "\n",
    "\n",
    "# with open(\"C:\\\\Users\\\\11175\\\\Downloads\\\\test.tsv\", \"w\") as f:\n",
    "#     f.write(tabulate(df[0], headers='firstrow', tablefmt='tsv'))"
   ]
  },
  {
   "cell_type": "code",
   "execution_count": null,
   "metadata": {},
   "outputs": [],
   "source": []
  },
  {
   "cell_type": "code",
   "execution_count": null,
   "metadata": {},
   "outputs": [],
   "source": []
  },
  {
   "cell_type": "code",
   "execution_count": 164,
   "metadata": {},
   "outputs": [],
   "source": [
    "\n",
    "# !pip install selenium\n",
    "import warnings\n",
    "warnings.filterwarnings(\"ignore\")\n",
    "import csv\n",
    "import time\n",
    "import selenium\n",
    "from selenium import webdriver\n",
    "from selenium.common.exceptions import TimeoutException, NoSuchElementException\n",
    "import unicodedata\n",
    "import re\n",
    "import pandas as pd\n",
    "from selenium.webdriver.support.ui import WebDriverWait\n",
    "from selenium.webdriver.support import expected_conditions as EC\n",
    "from selenium.webdriver.common.by import By"
   ]
  },
  {
   "cell_type": "code",
   "execution_count": 165,
   "metadata": {},
   "outputs": [],
   "source": [
    "driver = webdriver.Chrome(\"C:\\\\Users\\\\11175\\\\Downloads\\\\chromedriver_win32\\\\chromedriver.exe\")\n",
    "\n",
    "driver.set_window_size(1024, 600)\n",
    "driver.maximize_window()\n"
   ]
  },
  {
   "cell_type": "code",
   "execution_count": 166,
   "metadata": {},
   "outputs": [],
   "source": [
    "driver.get('https://ycharts.com/indicators/gold_price_in_indian_rupee')"
   ]
  },
  {
   "cell_type": "code",
   "execution_count": 168,
   "metadata": {},
   "outputs": [],
   "source": [
    "driver.find_element_by_class_name(\"nextBtn\").click()"
   ]
  },
  {
   "cell_type": "code",
   "execution_count": null,
   "metadata": {
    "scrolled": true
   },
   "outputs": [],
   "source": [
    "for i in range(208):\n",
    "    driver.find_element_by_class_name(\"nextBtn\").click()\n",
    "    try:\n",
    "        tabl_1 = driver.find_elements_by_xpath('//*[@id=\"dataTableBox\"]/div[4]/div[1]/div/table/tbody/tr')\n",
    "                                             \n",
    "        tabl_2 = driver.find_elements_by_xpath('//*[@id=\"dataTableBox\"]/div[4]/div[2]/div/table/tbody/tr')\n",
    "\n",
    "        # tb = []\n",
    "        for i in range(1,len(tabl_1)):\n",
    "            tb.append(tabl_1[i].text)\n",
    "\n",
    "        for i in range(1,len(tabl_2)):\n",
    "            tb.append(tabl_2[i].text)\n",
    "    except:\n",
    "        tabl_1 = driver.find_elements_by_xpath('//*[@id=\"dataTableBox\"]/div[4]/div[1]/div/table/tbody/tr')\n",
    "\n",
    "        tabl_2 = driver.find_elements_by_xpath('//*[@id=\"dataTableBox\"]/div[4]/div[2]/div/table/tbody/tr')\n",
    "\n",
    "        # tb = []\n",
    "        for i in range(1,len(tabl_1)):\n",
    "            tb.append(tabl_1[i].text)\n",
    "\n",
    "        for i in range(1,len(tabl_2)):\n",
    "            tb.append(tabl_2[i].text)"
   ]
  },
  {
   "cell_type": "code",
   "execution_count": 191,
   "metadata": {},
   "outputs": [],
   "source": [
    "data = {'data': tb}\n",
    "ddf = pd.DataFrame(data)"
   ]
  },
  {
   "cell_type": "code",
   "execution_count": 286,
   "metadata": {},
   "outputs": [],
   "source": [
    "data2 = {'data': tk}\n",
    "ddf2 = pd.DataFrame(data2)"
   ]
  },
  {
   "cell_type": "code",
   "execution_count": 290,
   "metadata": {},
   "outputs": [],
   "source": [
    "data0 = {'data': ta}\n",
    "ddf0 = pd.DataFrame(data0)"
   ]
  },
  {
   "cell_type": "code",
   "execution_count": 327,
   "metadata": {},
   "outputs": [],
   "source": [
    "ygold_final.to_excel(\"C:\\\\Users\\\\11175\\\\Downloads\\\\ychart_gold_final.xls\")"
   ]
  },
  {
   "cell_type": "code",
   "execution_count": 293,
   "metadata": {},
   "outputs": [
    {
     "data": {
      "text/html": [
       "<div>\n",
       "<style scoped>\n",
       "    .dataframe tbody tr th:only-of-type {\n",
       "        vertical-align: middle;\n",
       "    }\n",
       "\n",
       "    .dataframe tbody tr th {\n",
       "        vertical-align: top;\n",
       "    }\n",
       "\n",
       "    .dataframe thead th {\n",
       "        text-align: right;\n",
       "    }\n",
       "</style>\n",
       "<table border=\"1\" class=\"dataframe\">\n",
       "  <thead>\n",
       "    <tr style=\"text-align: right;\">\n",
       "      <th></th>\n",
       "      <th>Unnamed: 0</th>\n",
       "      <th>data0</th>\n",
       "    </tr>\n",
       "  </thead>\n",
       "  <tbody>\n",
       "    <tr>\n",
       "      <th>0</th>\n",
       "      <td>0</td>\n",
       "      <td>Feb. 1, 2019 94006.81</td>\n",
       "    </tr>\n",
       "    <tr>\n",
       "      <th>1</th>\n",
       "      <td>1</td>\n",
       "      <td>Jan. 31, 2019 94109.53</td>\n",
       "    </tr>\n",
       "    <tr>\n",
       "      <th>2</th>\n",
       "      <td>2</td>\n",
       "      <td>Jan. 30, 2019 93262.85</td>\n",
       "    </tr>\n",
       "    <tr>\n",
       "      <th>3</th>\n",
       "      <td>3</td>\n",
       "      <td>Jan. 29, 2019 92979.85</td>\n",
       "    </tr>\n",
       "    <tr>\n",
       "      <th>4</th>\n",
       "      <td>4</td>\n",
       "      <td>Jan. 28, 2019 92636.23</td>\n",
       "    </tr>\n",
       "  </tbody>\n",
       "</table>\n",
       "</div>"
      ],
      "text/plain": [
       "   Unnamed: 0                   data0\n",
       "0           0   Feb. 1, 2019 94006.81\n",
       "1           1  Jan. 31, 2019 94109.53\n",
       "2           2  Jan. 30, 2019 93262.85\n",
       "3           3  Jan. 29, 2019 92979.85\n",
       "4           4  Jan. 28, 2019 92636.23"
      ]
     },
     "execution_count": 293,
     "metadata": {},
     "output_type": "execute_result"
    }
   ],
   "source": [
    "ygold = pd.read_csv(\"C:\\\\Users\\\\11175\\\\Downloads\\\\ychart_gold_0.csv\",sep=\",\")\n",
    "ygold.head()"
   ]
  },
  {
   "cell_type": "code",
   "execution_count": 308,
   "metadata": {},
   "outputs": [
    {
     "data": {
      "text/html": [
       "<div>\n",
       "<style scoped>\n",
       "    .dataframe tbody tr th:only-of-type {\n",
       "        vertical-align: middle;\n",
       "    }\n",
       "\n",
       "    .dataframe tbody tr th {\n",
       "        vertical-align: top;\n",
       "    }\n",
       "\n",
       "    .dataframe thead th {\n",
       "        text-align: right;\n",
       "    }\n",
       "</style>\n",
       "<table border=\"1\" class=\"dataframe\">\n",
       "  <thead>\n",
       "    <tr style=\"text-align: right;\">\n",
       "      <th></th>\n",
       "      <th>data</th>\n",
       "    </tr>\n",
       "  </thead>\n",
       "  <tbody>\n",
       "    <tr>\n",
       "      <th>0</th>\n",
       "      <td>Feb. 1, 2019 94006.81</td>\n",
       "    </tr>\n",
       "    <tr>\n",
       "      <th>1</th>\n",
       "      <td>Jan. 31, 2019 94109.53</td>\n",
       "    </tr>\n",
       "    <tr>\n",
       "      <th>2</th>\n",
       "      <td>Jan. 30, 2019 93262.85</td>\n",
       "    </tr>\n",
       "    <tr>\n",
       "      <th>3</th>\n",
       "      <td>Jan. 29, 2019 92979.85</td>\n",
       "    </tr>\n",
       "    <tr>\n",
       "      <th>4</th>\n",
       "      <td>Jan. 28, 2019 92636.23</td>\n",
       "    </tr>\n",
       "  </tbody>\n",
       "</table>\n",
       "</div>"
      ],
      "text/plain": [
       "                     data\n",
       "0   Feb. 1, 2019 94006.81\n",
       "1  Jan. 31, 2019 94109.53\n",
       "2  Jan. 30, 2019 93262.85\n",
       "3  Jan. 29, 2019 92979.85\n",
       "4  Jan. 28, 2019 92636.23"
      ]
     },
     "execution_count": 308,
     "metadata": {},
     "output_type": "execute_result"
    }
   ],
   "source": [
    "del ygold['Unnamed: 0']\n",
    "\n",
    "ygold.head()"
   ]
  },
  {
   "cell_type": "code",
   "execution_count": 296,
   "metadata": {},
   "outputs": [
    {
     "data": {
      "text/html": [
       "<div>\n",
       "<style scoped>\n",
       "    .dataframe tbody tr th:only-of-type {\n",
       "        vertical-align: middle;\n",
       "    }\n",
       "\n",
       "    .dataframe tbody tr th {\n",
       "        vertical-align: top;\n",
       "    }\n",
       "\n",
       "    .dataframe thead th {\n",
       "        text-align: right;\n",
       "    }\n",
       "</style>\n",
       "<table border=\"1\" class=\"dataframe\">\n",
       "  <thead>\n",
       "    <tr style=\"text-align: right;\">\n",
       "      <th></th>\n",
       "      <th>Unnamed: 0</th>\n",
       "      <th>data</th>\n",
       "    </tr>\n",
       "  </thead>\n",
       "  <tbody>\n",
       "    <tr>\n",
       "      <th>0</th>\n",
       "      <td>0</td>\n",
       "      <td>Nov. 23, 2018 86799.60</td>\n",
       "    </tr>\n",
       "    <tr>\n",
       "      <th>1</th>\n",
       "      <td>1</td>\n",
       "      <td>Nov. 22, 2018 87040.77</td>\n",
       "    </tr>\n",
       "    <tr>\n",
       "      <th>2</th>\n",
       "      <td>2</td>\n",
       "      <td>Nov. 21, 2018 87647.73</td>\n",
       "    </tr>\n",
       "    <tr>\n",
       "      <th>3</th>\n",
       "      <td>3</td>\n",
       "      <td>Nov. 20, 2018 87426.14</td>\n",
       "    </tr>\n",
       "    <tr>\n",
       "      <th>4</th>\n",
       "      <td>4</td>\n",
       "      <td>Nov. 19, 2018 87463.48</td>\n",
       "    </tr>\n",
       "  </tbody>\n",
       "</table>\n",
       "</div>"
      ],
      "text/plain": [
       "   Unnamed: 0                    data\n",
       "0           0  Nov. 23, 2018 86799.60\n",
       "1           1  Nov. 22, 2018 87040.77\n",
       "2           2  Nov. 21, 2018 87647.73\n",
       "3           3  Nov. 20, 2018 87426.14\n",
       "4           4  Nov. 19, 2018 87463.48"
      ]
     },
     "execution_count": 296,
     "metadata": {},
     "output_type": "execute_result"
    }
   ],
   "source": [
    "ygold1 = pd.read_csv(\"C:\\\\Users\\\\11175\\\\Downloads\\\\ychart_gold_1.csv\",sep=\",\")\n",
    "ygold1.head()"
   ]
  },
  {
   "cell_type": "code",
   "execution_count": 307,
   "metadata": {},
   "outputs": [
    {
     "data": {
      "text/html": [
       "<div>\n",
       "<style scoped>\n",
       "    .dataframe tbody tr th:only-of-type {\n",
       "        vertical-align: middle;\n",
       "    }\n",
       "\n",
       "    .dataframe tbody tr th {\n",
       "        vertical-align: top;\n",
       "    }\n",
       "\n",
       "    .dataframe thead th {\n",
       "        text-align: right;\n",
       "    }\n",
       "</style>\n",
       "<table border=\"1\" class=\"dataframe\">\n",
       "  <thead>\n",
       "    <tr style=\"text-align: right;\">\n",
       "      <th></th>\n",
       "      <th>data</th>\n",
       "    </tr>\n",
       "  </thead>\n",
       "  <tbody>\n",
       "    <tr>\n",
       "      <th>0</th>\n",
       "      <td>Nov. 23, 2018 86799.60</td>\n",
       "    </tr>\n",
       "    <tr>\n",
       "      <th>1</th>\n",
       "      <td>Nov. 22, 2018 87040.77</td>\n",
       "    </tr>\n",
       "    <tr>\n",
       "      <th>2</th>\n",
       "      <td>Nov. 21, 2018 87647.73</td>\n",
       "    </tr>\n",
       "    <tr>\n",
       "      <th>3</th>\n",
       "      <td>Nov. 20, 2018 87426.14</td>\n",
       "    </tr>\n",
       "    <tr>\n",
       "      <th>4</th>\n",
       "      <td>Nov. 19, 2018 87463.48</td>\n",
       "    </tr>\n",
       "  </tbody>\n",
       "</table>\n",
       "</div>"
      ],
      "text/plain": [
       "                     data\n",
       "0  Nov. 23, 2018 86799.60\n",
       "1  Nov. 22, 2018 87040.77\n",
       "2  Nov. 21, 2018 87647.73\n",
       "3  Nov. 20, 2018 87426.14\n",
       "4  Nov. 19, 2018 87463.48"
      ]
     },
     "execution_count": 307,
     "metadata": {},
     "output_type": "execute_result"
    }
   ],
   "source": [
    "del ygold1['Unnamed: 0']\n",
    "\n",
    "ygold1.head()"
   ]
  },
  {
   "cell_type": "code",
   "execution_count": 303,
   "metadata": {},
   "outputs": [
    {
     "data": {
      "text/html": [
       "<div>\n",
       "<style scoped>\n",
       "    .dataframe tbody tr th:only-of-type {\n",
       "        vertical-align: middle;\n",
       "    }\n",
       "\n",
       "    .dataframe tbody tr th {\n",
       "        vertical-align: top;\n",
       "    }\n",
       "\n",
       "    .dataframe thead th {\n",
       "        text-align: right;\n",
       "    }\n",
       "</style>\n",
       "<table border=\"1\" class=\"dataframe\">\n",
       "  <thead>\n",
       "    <tr style=\"text-align: right;\">\n",
       "      <th></th>\n",
       "      <th>Unnamed: 0</th>\n",
       "      <th>data2</th>\n",
       "    </tr>\n",
       "  </thead>\n",
       "  <tbody>\n",
       "    <tr>\n",
       "      <th>0</th>\n",
       "      <td>0</td>\n",
       "      <td>NaN</td>\n",
       "    </tr>\n",
       "    <tr>\n",
       "      <th>1</th>\n",
       "      <td>1</td>\n",
       "      <td>NaN</td>\n",
       "    </tr>\n",
       "    <tr>\n",
       "      <th>2</th>\n",
       "      <td>2</td>\n",
       "      <td>NaN</td>\n",
       "    </tr>\n",
       "    <tr>\n",
       "      <th>3</th>\n",
       "      <td>3</td>\n",
       "      <td>NaN</td>\n",
       "    </tr>\n",
       "    <tr>\n",
       "      <th>4</th>\n",
       "      <td>4</td>\n",
       "      <td>NaN</td>\n",
       "    </tr>\n",
       "  </tbody>\n",
       "</table>\n",
       "</div>"
      ],
      "text/plain": [
       "   Unnamed: 0 data2\n",
       "0           0   NaN\n",
       "1           1   NaN\n",
       "2           2   NaN\n",
       "3           3   NaN\n",
       "4           4   NaN"
      ]
     },
     "execution_count": 303,
     "metadata": {},
     "output_type": "execute_result"
    }
   ],
   "source": [
    "ygold2 = pd.read_csv(\"C:\\\\Users\\\\11175\\\\Downloads\\\\ychart_gold_2.csv\",sep=\",\")\n",
    "ygold2.head()\n"
   ]
  },
  {
   "cell_type": "code",
   "execution_count": 304,
   "metadata": {},
   "outputs": [],
   "source": [
    "\n",
    "del ygold2['Unnamed: 0']\n",
    "\n",
    "ygold2.head()"
   ]
  },
  {
   "cell_type": "code",
   "execution_count": 309,
   "metadata": {},
   "outputs": [
    {
     "name": "stdout",
     "output_type": "stream",
     "text": [
      "50\n",
      "7439\n",
      "5924\n"
     ]
    }
   ],
   "source": [
    "print (len(ygold))\n",
    "print (len(ygold1))\n",
    "print (len(ygold2))"
   ]
  },
  {
   "cell_type": "code",
   "execution_count": 310,
   "metadata": {},
   "outputs": [],
   "source": [
    "ygold_final = ygold.append([ygold1, ygold2], ignore_index=True)"
   ]
  },
  {
   "cell_type": "code",
   "execution_count": 316,
   "metadata": {},
   "outputs": [
    {
     "data": {
      "text/plain": [
       "10419"
      ]
     },
     "execution_count": 316,
     "metadata": {},
     "output_type": "execute_result"
    }
   ],
   "source": [
    "len(ygold_final)\n",
    "# 13413\n",
    "# 10419"
   ]
  },
  {
   "cell_type": "code",
   "execution_count": 315,
   "metadata": {},
   "outputs": [],
   "source": [
    "ygold_final.dropna(inplace=True)"
   ]
  },
  {
   "cell_type": "code",
   "execution_count": 325,
   "metadata": {},
   "outputs": [
    {
     "data": {
      "text/html": [
       "<div>\n",
       "<style scoped>\n",
       "    .dataframe tbody tr th:only-of-type {\n",
       "        vertical-align: middle;\n",
       "    }\n",
       "\n",
       "    .dataframe tbody tr th {\n",
       "        vertical-align: top;\n",
       "    }\n",
       "\n",
       "    .dataframe thead th {\n",
       "        text-align: right;\n",
       "    }\n",
       "</style>\n",
       "<table border=\"1\" class=\"dataframe\">\n",
       "  <thead>\n",
       "    <tr style=\"text-align: right;\">\n",
       "      <th></th>\n",
       "      <th>data</th>\n",
       "      <th>date</th>\n",
       "    </tr>\n",
       "  </thead>\n",
       "  <tbody>\n",
       "    <tr>\n",
       "      <th>0</th>\n",
       "      <td>Feb. 1, 2019 94006.81</td>\n",
       "      <td>Feb. 1</td>\n",
       "    </tr>\n",
       "    <tr>\n",
       "      <th>1</th>\n",
       "      <td>Jan. 31, 2019 94109.53</td>\n",
       "      <td>Jan. 31</td>\n",
       "    </tr>\n",
       "    <tr>\n",
       "      <th>2</th>\n",
       "      <td>Jan. 30, 2019 93262.85</td>\n",
       "      <td>Jan. 30</td>\n",
       "    </tr>\n",
       "    <tr>\n",
       "      <th>3</th>\n",
       "      <td>Jan. 29, 2019 92979.85</td>\n",
       "      <td>Jan. 29</td>\n",
       "    </tr>\n",
       "    <tr>\n",
       "      <th>4</th>\n",
       "      <td>Jan. 28, 2019 92636.23</td>\n",
       "      <td>Jan. 28</td>\n",
       "    </tr>\n",
       "  </tbody>\n",
       "</table>\n",
       "</div>"
      ],
      "text/plain": [
       "                     data     date\n",
       "0   Feb. 1, 2019 94006.81   Feb. 1\n",
       "1  Jan. 31, 2019 94109.53  Jan. 31\n",
       "2  Jan. 30, 2019 93262.85  Jan. 30\n",
       "3  Jan. 29, 2019 92979.85  Jan. 29\n",
       "4  Jan. 28, 2019 92636.23  Jan. 28"
      ]
     },
     "execution_count": 325,
     "metadata": {},
     "output_type": "execute_result"
    }
   ],
   "source": [
    "ygold_final.head()"
   ]
  },
  {
   "cell_type": "code",
   "execution_count": null,
   "metadata": {},
   "outputs": [],
   "source": []
  }
 ],
 "metadata": {
  "kernelspec": {
   "display_name": "Python 3",
   "language": "python",
   "name": "python3"
  },
  "language_info": {
   "codemirror_mode": {
    "name": "ipython",
    "version": 3
   },
   "file_extension": ".py",
   "mimetype": "text/x-python",
   "name": "python",
   "nbconvert_exporter": "python",
   "pygments_lexer": "ipython3",
   "version": "3.6.5"
  }
 },
 "nbformat": 4,
 "nbformat_minor": 2
}
