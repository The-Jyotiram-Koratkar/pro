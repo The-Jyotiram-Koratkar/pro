{
 "cells": [
  {
   "cell_type": "code",
   "execution_count": 7,
   "metadata": {
    "collapsed": true,
    "scrolled": true
   },
   "outputs": [],
   "source": [
    "from selenium import webdriver\n",
    "from selenium.webdriver.common.keys import Keys\n",
    "\n",
    "#browser = webdriver.Chrome('C:\\\\chromedriver_win32\\\\chromedriver.exe')\n",
    "browser = webdriver.Firefox()\n",
    "# browser.set_window_size(1024, 600)\n",
    "browser.maximize_window()\n",
    "browser.implicitly_wait(3)"
   ]
  },
  {
   "cell_type": "code",
   "execution_count": 8,
   "metadata": {
    "collapsed": true
   },
   "outputs": [],
   "source": [
    "\n",
    "browser.get('https://www.hbs.edu/mba/find-answers/Pages/default.aspx')\n"
   ]
  },
  {
   "cell_type": "code",
   "execution_count": 9,
   "metadata": {
    "collapsed": true
   },
   "outputs": [],
   "source": [
    "count = len(browser.find_elements_by_tag_name(\"dt\"))"
   ]
  },
  {
   "cell_type": "code",
   "execution_count": 10,
   "metadata": {},
   "outputs": [
    {
     "data": {
      "text/plain": [
       "75"
      ]
     },
     "execution_count": 10,
     "metadata": {},
     "output_type": "execute_result"
    }
   ],
   "source": [
    "count"
   ]
  },
  {
   "cell_type": "code",
   "execution_count": 11,
   "metadata": {
    "collapsed": true
   },
   "outputs": [],
   "source": [
    "#element = browser.find_elements_by_tag_name(\"dt\")[5]"
   ]
  },
  {
   "cell_type": "code",
   "execution_count": 12,
   "metadata": {
    "collapsed": true
   },
   "outputs": [],
   "source": [
    "#browser.execute_script(\"arguments[0].click();\", element)\n",
    "\n",
    "qa = []"
   ]
  },
  {
   "cell_type": "code",
   "execution_count": 13,
   "metadata": {},
   "outputs": [],
   "source": [
    "\n",
    "for i in range(count):\n",
    "    element = browser.find_elements_by_tag_name(\"dt\")[i]\n",
    "    ques = element.text\n",
    "    browser.execute_script(\"arguments[0].click();\", element)\n",
    "    answer = browser.find_elements_by_tag_name(\"dd\")[i].text\n",
    "    qa.append((ques,answer))\n",
    "    #print(\"###################################################end######################################\")\n",
    "    \n",
    "    "
   ]
  },
  {
   "cell_type": "code",
   "execution_count": 14,
   "metadata": {},
   "outputs": [
    {
     "data": {
      "text/plain": [
       "[(u'+What is the timeline for applying?', u'View application deadlines.'),\n",
       " (u'+How will my application be evaluated?',\n",
       "  u'Each application received is reviewed in depth by the Admissions Board.  When selecting students we put an emphasis on leadership potential, strong academic ability, and personal qualities and characteristics.  Find out more.'),\n",
       " (u'+In which part of the application may I enter additional information, including special circumstances?',\n",
       "  u'Please enter important information that you want the Board to know in the Additional Information section of the application.'),\n",
       " (u'+How do I add new information if I have already submitted my application?',\n",
       "  u'Once the application has been submitted, the Admissions Board is unable to accept application updates other than contact updates.  If invited to interview, applicants may inform the Board of updates at that time.'),\n",
       " (u'+Does the reputation/history of my undergraduate institution or company affect my chances of being accepted?',\n",
       "  u'Our goal is to admit a class that offers a variety of perspectives. Therefore, we carefully consider individuals from a wide spectrum of academic and work experiences.'),\n",
       " (u'+When I print the application in PDF format, parts of the application appear truncated, unclear and/or do not appear at all. Are these parts seen by the Admissions Board?',\n",
       "  u'The Admissions Office receives the entire application in appropriate format and all fields are viewed clearly by the Board. The document that the applicant can view is an unformatted version of the final document.'),\n",
       " (u'+What is the desired length of work experience you wish to see in candidates?',\n",
       "  u'The HBS MBA Program is designed for students who have full-time work experience before matriculation. College seniors are encouraged to apply through the 2+2 online application in the expectation that they will be offered \"deferred admission\", i.e. an offer of admission to a future class conditional upon acquiring full-time work experience, as a positive outcome. It is important for candidates to assess their own readiness when deciding to apply: there is no universal \"right\" time.'),\n",
       " (u'+What constitutes work experience?',\n",
       "  u'Work experience includes opportunities in which students have been able to develop their professional and leadership skills.'),\n",
       " (u'+Are there specific types of work experience that will make me a more attractive candidate?',\n",
       "  u\"Rather than focus on specific categories of work experiences, applicants should focus on their roles, responsibilities, and what they have learned from the types of work experiences that they have been involved in. The Admissions Board will look at the nature of the applicant's work experience when evaluating the applicants' ability to handle the academic rigor of our MBA program.\"),\n",
       " (u'+Who should recommendations come from?',\n",
       "  u\"The Admissions Board suggests that one recommendation should come from a current or recent supervisor, if possible. Recommenders should be individuals who know the candidate well and who can attest to the candidate's leadership ability.\"),\n",
       " (u'+What is the process for recommenders?',\n",
       "  u\"Candidates enter recommenders' names and email addresses into their online application. Recommenders then receive an email with a link to their recommendation. The recommendations are submitted separately from the candidates' application and will automatically be included in the application upon submission. Applicants should not wait for recommenders to submit their recommendations before submitting their applications.\"),\n",
       " (u'+Is the recommendation deadline the same as the application deadline?',\n",
       "  u\"Applicants should submit their applications as soon as they feel ready. Recommendations are submitted separately by the recommenders. Please bear in mind that it is the applicant's responsibility to ensure that all recommendations are submitted online by the deadline date for the round in which the applicant is applying.\"),\n",
       " (u'+When should I expect an invitation for an interview?',\n",
       "  u'Interview invitations are extended on a rolling basis. The timing of your interview does not imply anything about the status of your application nor does it impact your candidacy. Invitations to interview are a positive indicator no matter when you receive them.'),\n",
       " (u'+What should I expect for my interview?',\n",
       "  u'Your interview will last approximately 30 minutes and will be conducted by a member of the MBA Admissions Board.  Interviews may take place in-person or via Skype.'),\n",
       " (u'+How can I best prepare?',\n",
       "  u'The purpose of the interview is to better understand you as an MBA candidate for our program.  We encourage candidates to relax and be ready to talk about themselves.'),\n",
       " (u'+How can I learn more about the Post Interview Reflection?',\n",
       "  u'Details for the Post Interview Reflection will be emailed to candidates who participate in the interview process. Candidates must submit their essay via our online application. Essays must be submitted within 24 hours of interview completion.'),\n",
       " (u'+Who should I contact if I have a question regarding my application status?',\n",
       "  u'Any questions you have should be submitted to us via our online form at the top of this FAQ page.'),\n",
       " (u'+When and how can I expect to hear back from HBS?',\n",
       "  u'Notification dates are set according to each round. View dates.'),\n",
       " (u'+Will HBS provide feedback for applicants who have been rejected?',\n",
       "  u'Due to the large number of applications we receive each year, we cannot accommodate requests for personalized feedback on your application.  We receive over 8,000 applications for approximately 900 places in the class, and therefore have to deny admission to many exceptional individuals.  Also, please understand that the decision of the Admissions Board is final, and we cannot advise you on whether or not you should reapply in the future. '),\n",
       " (u'+How long can I defer my acceptance?',\n",
       "  u'Candidates should submit applications only for the year they plan to enter the MBA program. Postponements and deferrals are granted rarely and are considered on a case-by-case basis.'),\n",
       " (u'+What is the application fee?',\n",
       "  u'The application fee for the 2+2 Program application is $100. All active duty military applicants do not have to pay the application fee.'),\n",
       " (u'+Am I eligible to apply to the 2+2 Program?',\n",
       "  u'To be considered for admission to the 2+2 Program Class of 2022 (entering fall 2020), you must graduate from your program between October 1, 2017 and September 30, 2018. For more information on applying to the 2+2 Program, please see the 2+2 Application page.'),\n",
       " (u'+What Round should I apply in for 2+2?',\n",
       "  u'You can only apply in the designated 2+2 Round.'),\n",
       " (u'+I am in the process of getting a master\\u2019s degree. Am I eligible for the 2+2 program?',\n",
       "  u'Yes. Candidates in the process of completing a master\\u2019s degree are eligible for the 2+2 program, as long as you did not take a full-time job in between your undergraduate and master\\u2019s degree programs.'),\n",
       " (u'+Are international students eligible to apply to the 2+2 Program?',\n",
       "  u'Yes. Domestic and international students alike are welcome to apply. '),\n",
       " (u'+Is an interview required for admission to the 2+2 Program? If so, what should I expect from the interview process?',\n",
       "  u'Yes. Interviews are conducted by invitation only and at the discretion of the MBA Admissions Board. If you are invited to interview, you must participate in order to complete the application process. We do not admit anyone to HBS without an interview; however, we do not interview all applicants. '),\n",
       " (u'+How many seats are available in the 2+2 program?',\n",
       "  u'We expect the 2+2 cohort size to be in the 100-125 range. Roughly half of each cohort will be students coming from engineering and science backgrounds while the other half will represent a wide range of undergraduate studies. For more information about the size and composition of the 2+2 Class, please see the 2+2 Program page.'),\n",
       " (u'+Which standardized tests does the 2+2 Program accept?',\n",
       "  u'The 2+2 Program accepts either the GMAT or the GRE as part of the application process. We do not have a preference for either test.'),\n",
       " (u'+When is the latest I can take the GMAT or GRE?',\n",
       "  u'You must take the GMAT or GRE by April 10, 2018. Unofficial scores are acceptable at the time of application, but every applicant must request to have their official score submitted to HBS. You do not need to have the results of the AWA section of the GMAT or GRE in order to apply; however, we do expect you to complete this portion of the exam and we will require an AWA score for anyone admitted to the program.'),\n",
       " (u'+My undergraduate concentration is in a business-related field, and I have had a lot of business exposure. Is 2+2 the right program for me?',\n",
       "  u'When the 2+2 Program was originally created it primarily targeted students who were not already on a business track (i.e. students studying the liberal arts, sciences, engineering, etc.). However, we are now encouraging students from all undergraduate majors to apply; that includes those with concentrations and experiences in business-related fields.'),\n",
       " (u'+Can I apply to the 2+2 Program if I am interested in pursuing a joint degree (MBA/MPP or MPA-ID, MBA/JD, MBA/MD, MBA/DMD, etc.)?',\n",
       "  u'Applicants to the 2+2 Program who are considering a joint degree should contact our partner schools (Harvard Kennedy School, Harvard Law School, Harvard Medical School, Harvard School of Dental Medicine) for more information about the degrees offered. To be eligible for a joint degree program, you must be admitted separately to both Harvard schools. We cannot counsel applicants about the suitability of a particular joint degree program or how it may impact your future career goals. If you are admitted to the 2+2 Program and wish to pursue a joint degree program, we will work with you to determine how your plans can meet the 2+2 work experience expectations. More details will be offered after you are admitted.\\n\\nFor more information about the joint degree programs offered by HBS, go to the Joint Degree Programs section on the HBS website.'),\n",
       " (u'+How many letters of recommendation are required?',\n",
       "  u'We require two letters of recommendation as part of the 2+2 Program application process.'),\n",
       " (u'+Who should my recommendations come from?',\n",
       "  u'Recommenders should be individuals who know you well and who can relate specific and relevant details about your abilities and performance. We believe that supervisors from an internship or part-time work experience, professors, advisors, and mentors can all serve as equally good recommenders. The Admissions Board discourages recommendations from peers.'),\n",
       " (u\"+If I apply to the 2+2 Program and I'm not admitted, will it negatively affect my chances of acceptance to Harvard Business School in the future?\",\n",
       "  u'No. If you have applied to the 2+2 Program, you will be at neither an advantage nor disadvantage in comparison to other applicants.'),\n",
       " (u'+If admitted, am I expected to pay a tuition deposit?',\n",
       "  u'Yes. Admitted students pay a non-refundable tuition deposit of $1000 to hold their place in the class.'),\n",
       " (u'+Will the 2+2 program guarantee me a job after graduation?',\n",
       "  u'No. You are responsible for securing employment for at least two years after graduating from your undergraduate institution. You are expected to leverage the career services offered at your undergraduate institution as a primary resource.'),\n",
       " (u'+Is there a list of approved or recommended companies to work for during the required pre-MBA work experience?',\n",
       "  u'No. Admitted 2+2 students have the flexibility to explore career options in a multitude of industries including traditional companies to start-ups as long as their positions help develop their professional and leadership skills. Historically, the variety of full-time positions admitted 2+2 students pursue have been similar to the diversity of industries and function areas that are represented in the MBA program.'),\n",
       " (u\"+My bachelor's degree program did not follow a traditional four year timeline (i.e. it was shorter or longer), am I still eligible to apply to HBS through the 2+2 process?\",\n",
       "  u\"Yes. You can apply to HBS through the 2+2 program as long as you are in your final year of undergraduate study. There are no minimum or maximum requirements for the length of time spent working toward your bachelor's degree.\"),\n",
       " (u'+Will HBS sponsor a work permit or visa in the United States during the two years of pre-MBA work experience?',\n",
       "  u'No. HBS is unable to sponsor a work permit or visa during this time. You are welcome to pursue job opportunities in any country.'),\n",
       " (u'+If admitted, am I limited to two years of deferral?',\n",
       "  u'You are not limited to two years of deferral. In many cases, we allow 2+2 admits to defer for three or four years in an HBS-approved professional opportunity before matriculating to HBS. Approvals are offered on a case-by-case basis.'),\n",
       " (u'+When I come to HBS, will I (and the other 2+2 admitted students) be part of a separate program?',\n",
       "  u'No. Once 2+2 students begin their MBA experience on-campus, they will be integrated into the HBS community with all other students in the MBA Program.'),\n",
       " (u'+What is the latest date test scores will be accepted?',\n",
       "  u'When submitting your application, you may report the unofficial GMAT or GRE score given on the day of the test, or your official score if you have received it. These are the only scores that the Admissions Board acknowledges. Your official score report may arrive from Pearson (for the GMAT) or ETS (for the GRE) after the deadline dates, and this score will be used for verification purposes. GMAT and GRE scores are valid for five years. Please be advised that in order to apply for admission to the Class of 2020, you must have taken the test in the timeframes on the table below.\\nIf you are applying in\\u2026 Your GMAT or GRE test date must fall on or between\\nRound 1 September 6, 2012 and September 6, 2017\\nRound 2 January 3, 2013 and January 3, 2018\\nRound 3 April 2, 2013 and April 2, 2018\\n2+2 Round April 10, 2013 and April 10, 2018'),\n",
       " (u'+What is the HBS GMAT code?',\n",
       "  u'Please note that the HBS code for the GMAT is HRLX892. For more information on the GMAT, please visit www.gmac.com. If you have applied to HBS in the past and decide to reapply, report your scores on your application. However, you will NOT need to have the testing services resend your official scores to us if the ones we have are still valid.'),\n",
       " (u'+What is the HBS GRE code?',\n",
       "  u'The HBS code for the GRE is 4064. For more information about the GRE, please visit www.ets.org/gre. If you have applied to HBS in the past and decide to reapply, report your scores on your application. However, you will NOT need to have the testing services resend your official scores to us if the ones we have are still valid.'),\n",
       " (u'+Is there a minimum GMAT or GRE score required to apply?',\n",
       "  u'No. We accept applicants with a wide range of test scores.'),\n",
       " (u'+What is the range of GMAT/GRE scores for accepted students?',\n",
       "  u'The Admissions Board hopes that all applicants will recognize the following:  the full range of GMAT/GRE scores is very broad, that there is no \"minimum\" score requirement, and that the GMAT/GRE is just one piece of data among the many used to evaluate an application.'),\n",
       " (u'+Can I list only my best GMAT or GRE score?',\n",
       "  u'Yes.  We consider only the score from a single test sitting that you present in your application.'),\n",
       " (u'+Do I need to complete the AWA section of the GMAT or GRE?',\n",
       "  u'Yes. You do not need to have the results of the AWA section of the GMAT or GRE in order to submit your application; however, we do require you to complete this portion of the exam and we will require an AWA score for anyone applying to the program.'),\n",
       " (u'+Do I need to complete the Integrated Reasoning Component of the GMAT?',\n",
       "  u'Yes. Anyone who takes the GMAT on or after June 5, 2012 will be required to take the Integrated Reasoning portion of the GMAT exam'),\n",
       " (u'+Who is required to take an English Language test?',\n",
       "  u'If you only have a degree (or degrees) from a university where English was NOT the sole language of instruction, you must take an English Language test (either the TOEFL iBT, IELTS or PTE).'),\n",
       " (u'+What if I have lived and worked in an English speaking country for many years?',\n",
       "  u'Again, if you only have a degree (or degrees) from a university where English was NOT the sole language of instruction, you must take an English Language test (either the TOEFL iBT, IELTS or PTE).'),\n",
       " (u\"+What if part of my bachelor's degree was part in English and part not in English?\",\n",
       "  u'In this case, you are still required to take an English Language test.'),\n",
       " (u\"+What if my undergraduate degree was not in English, but I received a graduate degree (Master's or PhD degree) from a university program where English was the sole language of instruction?\",\n",
       "  u'Though it is not required as part of your initial written application, we strongly recommend you take an English language test even if you have a graduate degree from a university program where the sole language was English.'),\n",
       " (u'+What is the latest date English test scores will be accepted?',\n",
       "  u'TOEFL, IELTS, and Pearson Test of English (PTE) scores are valid for two years. These tests must be dated January 1, 2016 or more recently to be valid. Please note that HBS only accepts the Internet-based (IBT) version of the TOEFL.'),\n",
       " (u'+ What is the HBS TOEFL code?',\n",
       "  u'Please note that the HBS code for the TOEFL is 3444.'),\n",
       " (u'+Is there a minimum TOEFL/IELTS/PTE test score HBS will consider?',\n",
       "  u'HBS does not have a minimum test score to apply, however, the MBA Admissions Board discourages any candidate with a TOEFL score lower than 109 on the IBT, an IELTS score lower than 7.5, or a PTE score lower than 75 from applying.'),\n",
       " (u'+How can I submit my transcript?',\n",
       "  u'Transcripts must be scanned and uploaded to the application. Please do not mail a hard copy of your transcript.  You may upload an \"unofficial\" or student copy of your transcript; however, we will request an official copy for verification purposes should you be admitted to HBS.'),\n",
       " (u'+Is there a minimum GPA requirement to apply?',\n",
       "  u'No. Although our students often have competitive undergraduate GPAs, there are many other equally important components of the application. GPA is just one factor the Admissions Board uses to evaluate a candidate. '),\n",
       " (u'+What is the average GPA of accepted students?',\n",
       "  u'Because we recognize that different schools use various grading criteria, it is difficult to determine an average GPA for the class. GPA is only one of many factors that the Admissions Board uses in evaluating an applicant. Check out our Class Profile page for statistics on our first-year class.'),\n",
       " (u'+Do you accept transfer credits from another college or university?',\n",
       "  u'No, we do no accept transfer credits of any kind. All students are expected to complete the full HBS MBA Program.'),\n",
       " (u'+Financial Aid: What is the estimated cost for one year at HBS?',\n",
       "  u'While living expenses vary from student to student, the Financial Aid and Fellowship Board uses the standard student budget in determining financial aid awards. This budget assumes a moderate student lifestyle. Please refer to the cost summary page.'),\n",
       " (u'+Financial Aid: What are some options for financing my HBS education?',\n",
       "  u'HBS is committed to making the MBA Program accessible to students with a demonstrated financial need. Although students are encouraged to draw on personal resources wherever possible to minimize debt, approximately two thirds of Harvard Business School students receive some form of financial assistance, which is composed of a combination of fellowships and loans. Nearly 50% of the class receives an average $35,000 per year in need-based HBS Fellowships.'),\n",
       " (u'+Case Method: What makes the HBS case method successful?',\n",
       "  u'The case method prepares students for the challenges of leadership in the real world. Through the demanding, engaging, and proactive learning environment, it develops the knowledge, skills, and confidence to face the variety of difficult decisions that students will undoubtedly face throughout their careers. To learn more, you can watch Inside the HBS Case Method, read about the HBS Case Method in Action or schedule a class visit.'),\n",
       " (u'+Sections: How is the curriculum structured?',\n",
       "  u'Students spend their first two terms completing the Required Curriculum with a \"section\" of 90 students to which they are assigned. This group of students takes all their first-year classes together and becomes an intellectual and social circle. During the second year, students choose up to five courses per semester from a list of course offerings to build their elective curriculum of choice.'),\n",
       " (u'+Academic Environment: Is it possible to cross register with other universities?',\n",
       "  u'Yes. HBS students are able to cross register at Sloan School of Business at MIT, Fletcher school of Law and Diplomacy at Tufts University, and any of the other Harvard University graduate programs. During your second year you are able to cross-register for up to two courses toward your MBA degree or may choose to cross-register for an extra course for enrichment only such as a language class.'),\n",
       " (u'+ Program Offerings: Does HBS offer an online MBA?',\n",
       "  u\"Harvard Business School does not offer an online MBA. However HBX (Harvard's online education initiative) does offer a Credential of Readiness for those interested in honing their business skills.\"),\n",
       " (u'+Program Offerings: Does HBS offer a part-time or executive MBA program?',\n",
       "  u'HBS has one MBA program, and it is offered only on a full-time basis. If you wish to pursue a part-time or executive-level program, you might be interested in exploring the Program for Leadership Development at HBS.'),\n",
       " (u'+What are the extracurricular activities available?',\n",
       "  u\"Harvard Business School is home to over 70 industry, regional, sports, and other student interest clubs. The Student Association offers over 200 leadership positions through which students can serve as liaisons between the MBA student body and the faculty and administration. Additionally, students have access to over 300 speaker events, 26 conferences, multiple career treks, and various social activities (including International Week, Newport Ball, Holidazzle, Section Olympics, the Dean's Fall Community Party, Restaurant Associates Movie Nights, and the HBS Show) scheduled throughout the school year.\"),\n",
       " (u'+What percentage of students lives on campus?',\n",
       "  u'Over 80% of HBS students live in HBS dorms or Harvard affiliated housing. These residence halls range from dorm rooms to three-bedroom apartments. Because of the very high demand for residence halls, on-campus housing is assigned through a lottery.'),\n",
       " (u'+What are my transportation options?',\n",
       "  u'The HBS campus is accessible via either car or public transportation. It is not necessary to own a car while living in the Cambridge/Boston area because of the convenient subway and bus systems.'),\n",
       " (u'+What social opportunities do Harvard Square and Cambridge/Boston offer?',\n",
       "  u'Harvard Square and the neighboring Cambridge and Boston areas offer ample opportunities for students to take part in social and entertainment activities.'),\n",
       " (u'+How can I sign up for a campus tour?',\n",
       "  u'There is no need to sign up for a campus tour. You can find the tour schedule on our visit page. '),\n",
       " (u'+How can I sign up for a classroom visit and is there a limit to how many I can attend?',\n",
       "  u'To schedule a class visit please refer to the visit page on of our website at least one to two weeks prior to your expected arrival date. Due to the high volume of class visit requests, you may only schedule one class visit. '),\n",
       " (u'+What events are held for accepted students?',\n",
       "  u'We hold Admitted Student Welcome events on campus in February and April. We also will host regional events in many cities throughout the world. '),\n",
       " (u'+As a student, will I have the opportunity to network with alumni through organized events?',\n",
       "  u'Absolutely. HBS has many networking events and networking tools available to it students. For example, many student clubs organize treks to economic hot spots throughout the world, giving students unparalleled opportunities to network and learn about internship and job possibilities. Also, student clubs hold career-related events for specific areas of interest. Finally, students have the opportunity to network with the more than 40,000 HBS alumni have made themselves available to current students to help them explore career opportunities. To learn more about our networking offerings visit Your Career.')]"
      ]
     },
     "execution_count": 14,
     "metadata": {},
     "output_type": "execute_result"
    }
   ],
   "source": [
    "qa"
   ]
  },
  {
   "cell_type": "code",
   "execution_count": 15,
   "metadata": {},
   "outputs": [
    {
     "data": {
      "text/plain": [
       "list"
      ]
     },
     "execution_count": 15,
     "metadata": {},
     "output_type": "execute_result"
    }
   ],
   "source": [
    "type(qa)"
   ]
  },
  {
   "cell_type": "code",
   "execution_count": 16,
   "metadata": {},
   "outputs": [],
   "source": [
    "import pandas as pd"
   ]
  },
  {
   "cell_type": "code",
   "execution_count": 30,
   "metadata": {
    "collapsed": true
   },
   "outputs": [],
   "source": [
    "#print pd.DataFrame(list(qa))\n",
    "df= pd.DataFrame(list(qa))\n",
    "#df2=pd.DataFrame(list(qa2), columns=['Questions','Answers'])\n",
    "#print pd.DataFrame(list(qa), columns=['Questions','Answers'])"
   ]
  },
  {
   "cell_type": "code",
   "execution_count": 18,
   "metadata": {
    "collapsed": true
   },
   "outputs": [],
   "source": [
    "df.to_csv('qa.csv',encoding='utf-8')"
   ]
  },
  {
   "cell_type": "code",
   "execution_count": null,
   "metadata": {},
   "outputs": [],
   "source": [
    "print df"
   ]
  },
  {
   "cell_type": "code",
   "execution_count": null,
   "metadata": {
    "collapsed": true
   },
   "outputs": [],
   "source": [
    "#df2 = pd.DataFrame(list(qa))"
   ]
  },
  {
   "cell_type": "code",
   "execution_count": 31,
   "metadata": {
    "collapsed": true
   },
   "outputs": [],
   "source": [
    "df_question=df[0]\n",
    "df_ans=df[1]"
   ]
  },
  {
   "cell_type": "code",
   "execution_count": 28,
   "metadata": {},
   "outputs": [
    {
     "data": {
      "text/plain": [
       "0                   +What is the timeline for applying?\n",
       "1                +How will my application be evaluated?\n",
       "2     +In which part of the application may I enter ...\n",
       "3     +How do I add new information if I have alread...\n",
       "4     +Does the reputation/history of my undergradua...\n",
       "5     +When I print the application in PDF format, p...\n",
       "6     +What is the desired length of work experience...\n",
       "7                    +What constitutes work experience?\n",
       "8     +Are there specific types of work experience t...\n",
       "9                +Who should recommendations come from?\n",
       "10               +What is the process for recommenders?\n",
       "11    +Is the recommendation deadline the same as th...\n",
       "12    +When should I expect an invitation for an int...\n",
       "13              +What should I expect for my interview?\n",
       "14                             +How can I best prepare?\n",
       "15    +How can I learn more about the Post Interview...\n",
       "16    +Who should I contact if I have a question reg...\n",
       "17    +When and how can I expect to hear back from HBS?\n",
       "18    +Will HBS provide feedback for applicants who ...\n",
       "19                 +How long can I defer my acceptance?\n",
       "20                        +What is the application fee?\n",
       "21          +Am I eligible to apply to the 2+2 Program?\n",
       "22               +What Round should I apply in for 2+2?\n",
       "23    +I am in the process of getting a master’s deg...\n",
       "24    +Are international students eligible to apply ...\n",
       "25    +Is an interview required for admission to the...\n",
       "26    +How many seats are available in the 2+2 program?\n",
       "27    +Which standardized tests does the 2+2 Program...\n",
       "28      +When is the latest I can take the GMAT or GRE?\n",
       "29    +My undergraduate concentration is in a busine...\n",
       "                            ...                        \n",
       "45    +What is the range of GMAT/GRE scores for acce...\n",
       "46          +Can I list only my best GMAT or GRE score?\n",
       "47    +Do I need to complete the AWA section of the ...\n",
       "48    +Do I need to complete the Integrated Reasonin...\n",
       "49    +Who is required to take an English Language t...\n",
       "50    +What if I have lived and worked in an English...\n",
       "51    +What if part of my bachelor's degree was part...\n",
       "52    +What if my undergraduate degree was not in En...\n",
       "53    +What is the latest date English test scores w...\n",
       "54                        + What is the HBS TOEFL code?\n",
       "55    +Is there a minimum TOEFL/IELTS/PTE test score...\n",
       "56                     +How can I submit my transcript?\n",
       "57        +Is there a minimum GPA requirement to apply?\n",
       "58       +What is the average GPA of accepted students?\n",
       "59    +Do you accept transfer credits from another c...\n",
       "60    +Financial Aid: What is the estimated cost for...\n",
       "61    +Financial Aid: What are some options for fina...\n",
       "62    +Case Method: What makes the HBS case method s...\n",
       "63         +Sections: How is the curriculum structured?\n",
       "64    +Academic Environment: Is it possible to cross...\n",
       "65    + Program Offerings: Does HBS offer an online ...\n",
       "66    +Program Offerings: Does HBS offer a part-time...\n",
       "67    +What are the extracurricular activities avail...\n",
       "68        +What percentage of students lives on campus?\n",
       "69                 +What are my transportation options?\n",
       "70    +What social opportunities do Harvard Square a...\n",
       "71                +How can I sign up for a campus tour?\n",
       "72    +How can I sign up for a classroom visit and i...\n",
       "73         +What events are held for accepted students?\n",
       "74    +As a student, will I have the opportunity to ...\n",
       "Name: 0, Length: 75, dtype: object"
      ]
     },
     "execution_count": 28,
     "metadata": {},
     "output_type": "execute_result"
    }
   ],
   "source": [
    "df_question\n",
    "#sorted(df3)"
   ]
  },
  {
   "cell_type": "code",
   "execution_count": null,
   "metadata": {
    "collapsed": true
   },
   "outputs": [],
   "source": [
    "#df_question.to_csv('qanda.csv',sep=',',encoding='utf-8')"
   ]
  },
  {
   "cell_type": "code",
   "execution_count": 26,
   "metadata": {},
   "outputs": [
    {
     "ename": "ParserError",
     "evalue": "Error tokenizing data. C error: Expected 2 fields in line 27, saw 3\n",
     "output_type": "error",
     "traceback": [
      "\u001b[1;31m\u001b[0m",
      "\u001b[1;31mParserError\u001b[0mTraceback (most recent call last)",
      "\u001b[1;32m<ipython-input-26-520a453d7129>\u001b[0m in \u001b[0;36m<module>\u001b[1;34m()\u001b[0m\n\u001b[1;32m----> 1\u001b[1;33m \u001b[0mdf\u001b[0m\u001b[1;33m=\u001b[0m\u001b[0mpd\u001b[0m\u001b[1;33m.\u001b[0m\u001b[0mread_csv\u001b[0m\u001b[1;33m(\u001b[0m\u001b[1;34m'F:\\\\Download 2\\\\qa.csv'\u001b[0m\u001b[1;33m,\u001b[0m \u001b[0msep\u001b[0m\u001b[1;33m=\u001b[0m\u001b[1;34m'?'\u001b[0m\u001b[1;33m)\u001b[0m\u001b[1;33m\u001b[0m\u001b[0m\n\u001b[0m",
      "\u001b[1;32mC:\\Users\\Suhas\\Anaconda2\\lib\\site-packages\\pandas\\io\\parsers.pyc\u001b[0m in \u001b[0;36mparser_f\u001b[1;34m(filepath_or_buffer, sep, delimiter, header, names, index_col, usecols, squeeze, prefix, mangle_dupe_cols, dtype, engine, converters, true_values, false_values, skipinitialspace, skiprows, nrows, na_values, keep_default_na, na_filter, verbose, skip_blank_lines, parse_dates, infer_datetime_format, keep_date_col, date_parser, dayfirst, iterator, chunksize, compression, thousands, decimal, lineterminator, quotechar, quoting, escapechar, comment, encoding, dialect, tupleize_cols, error_bad_lines, warn_bad_lines, skipfooter, skip_footer, doublequote, delim_whitespace, as_recarray, compact_ints, use_unsigned, low_memory, buffer_lines, memory_map, float_precision)\u001b[0m\n\u001b[0;32m    653\u001b[0m                     skip_blank_lines=skip_blank_lines)\n\u001b[0;32m    654\u001b[0m \u001b[1;33m\u001b[0m\u001b[0m\n\u001b[1;32m--> 655\u001b[1;33m         \u001b[1;32mreturn\u001b[0m \u001b[0m_read\u001b[0m\u001b[1;33m(\u001b[0m\u001b[0mfilepath_or_buffer\u001b[0m\u001b[1;33m,\u001b[0m \u001b[0mkwds\u001b[0m\u001b[1;33m)\u001b[0m\u001b[1;33m\u001b[0m\u001b[0m\n\u001b[0m\u001b[0;32m    656\u001b[0m \u001b[1;33m\u001b[0m\u001b[0m\n\u001b[0;32m    657\u001b[0m     \u001b[0mparser_f\u001b[0m\u001b[1;33m.\u001b[0m\u001b[0m__name__\u001b[0m \u001b[1;33m=\u001b[0m \u001b[0mname\u001b[0m\u001b[1;33m\u001b[0m\u001b[0m\n",
      "\u001b[1;32mC:\\Users\\Suhas\\Anaconda2\\lib\\site-packages\\pandas\\io\\parsers.pyc\u001b[0m in \u001b[0;36m_read\u001b[1;34m(filepath_or_buffer, kwds)\u001b[0m\n\u001b[0;32m    409\u001b[0m \u001b[1;33m\u001b[0m\u001b[0m\n\u001b[0;32m    410\u001b[0m     \u001b[1;32mtry\u001b[0m\u001b[1;33m:\u001b[0m\u001b[1;33m\u001b[0m\u001b[0m\n\u001b[1;32m--> 411\u001b[1;33m         \u001b[0mdata\u001b[0m \u001b[1;33m=\u001b[0m \u001b[0mparser\u001b[0m\u001b[1;33m.\u001b[0m\u001b[0mread\u001b[0m\u001b[1;33m(\u001b[0m\u001b[0mnrows\u001b[0m\u001b[1;33m)\u001b[0m\u001b[1;33m\u001b[0m\u001b[0m\n\u001b[0m\u001b[0;32m    412\u001b[0m     \u001b[1;32mfinally\u001b[0m\u001b[1;33m:\u001b[0m\u001b[1;33m\u001b[0m\u001b[0m\n\u001b[0;32m    413\u001b[0m         \u001b[0mparser\u001b[0m\u001b[1;33m.\u001b[0m\u001b[0mclose\u001b[0m\u001b[1;33m(\u001b[0m\u001b[1;33m)\u001b[0m\u001b[1;33m\u001b[0m\u001b[0m\n",
      "\u001b[1;32mC:\\Users\\Suhas\\Anaconda2\\lib\\site-packages\\pandas\\io\\parsers.pyc\u001b[0m in \u001b[0;36mread\u001b[1;34m(self, nrows)\u001b[0m\n\u001b[0;32m   1003\u001b[0m                 \u001b[1;32mraise\u001b[0m \u001b[0mValueError\u001b[0m\u001b[1;33m(\u001b[0m\u001b[1;34m'skipfooter not supported for iteration'\u001b[0m\u001b[1;33m)\u001b[0m\u001b[1;33m\u001b[0m\u001b[0m\n\u001b[0;32m   1004\u001b[0m \u001b[1;33m\u001b[0m\u001b[0m\n\u001b[1;32m-> 1005\u001b[1;33m         \u001b[0mret\u001b[0m \u001b[1;33m=\u001b[0m \u001b[0mself\u001b[0m\u001b[1;33m.\u001b[0m\u001b[0m_engine\u001b[0m\u001b[1;33m.\u001b[0m\u001b[0mread\u001b[0m\u001b[1;33m(\u001b[0m\u001b[0mnrows\u001b[0m\u001b[1;33m)\u001b[0m\u001b[1;33m\u001b[0m\u001b[0m\n\u001b[0m\u001b[0;32m   1006\u001b[0m \u001b[1;33m\u001b[0m\u001b[0m\n\u001b[0;32m   1007\u001b[0m         \u001b[1;32mif\u001b[0m \u001b[0mself\u001b[0m\u001b[1;33m.\u001b[0m\u001b[0moptions\u001b[0m\u001b[1;33m.\u001b[0m\u001b[0mget\u001b[0m\u001b[1;33m(\u001b[0m\u001b[1;34m'as_recarray'\u001b[0m\u001b[1;33m)\u001b[0m\u001b[1;33m:\u001b[0m\u001b[1;33m\u001b[0m\u001b[0m\n",
      "\u001b[1;32mC:\\Users\\Suhas\\Anaconda2\\lib\\site-packages\\pandas\\io\\parsers.pyc\u001b[0m in \u001b[0;36mread\u001b[1;34m(self, nrows)\u001b[0m\n\u001b[0;32m   1746\u001b[0m     \u001b[1;32mdef\u001b[0m \u001b[0mread\u001b[0m\u001b[1;33m(\u001b[0m\u001b[0mself\u001b[0m\u001b[1;33m,\u001b[0m \u001b[0mnrows\u001b[0m\u001b[1;33m=\u001b[0m\u001b[0mNone\u001b[0m\u001b[1;33m)\u001b[0m\u001b[1;33m:\u001b[0m\u001b[1;33m\u001b[0m\u001b[0m\n\u001b[0;32m   1747\u001b[0m         \u001b[1;32mtry\u001b[0m\u001b[1;33m:\u001b[0m\u001b[1;33m\u001b[0m\u001b[0m\n\u001b[1;32m-> 1748\u001b[1;33m             \u001b[0mdata\u001b[0m \u001b[1;33m=\u001b[0m \u001b[0mself\u001b[0m\u001b[1;33m.\u001b[0m\u001b[0m_reader\u001b[0m\u001b[1;33m.\u001b[0m\u001b[0mread\u001b[0m\u001b[1;33m(\u001b[0m\u001b[0mnrows\u001b[0m\u001b[1;33m)\u001b[0m\u001b[1;33m\u001b[0m\u001b[0m\n\u001b[0m\u001b[0;32m   1749\u001b[0m         \u001b[1;32mexcept\u001b[0m \u001b[0mStopIteration\u001b[0m\u001b[1;33m:\u001b[0m\u001b[1;33m\u001b[0m\u001b[0m\n\u001b[0;32m   1750\u001b[0m             \u001b[1;32mif\u001b[0m \u001b[0mself\u001b[0m\u001b[1;33m.\u001b[0m\u001b[0m_first_chunk\u001b[0m\u001b[1;33m:\u001b[0m\u001b[1;33m\u001b[0m\u001b[0m\n",
      "\u001b[1;32mpandas/_libs/parsers.pyx\u001b[0m in \u001b[0;36mpandas._libs.parsers.TextReader.read (pandas\\_libs\\parsers.c:10862)\u001b[1;34m()\u001b[0m\n",
      "\u001b[1;32mpandas/_libs/parsers.pyx\u001b[0m in \u001b[0;36mpandas._libs.parsers.TextReader._read_low_memory (pandas\\_libs\\parsers.c:11138)\u001b[1;34m()\u001b[0m\n",
      "\u001b[1;32mpandas/_libs/parsers.pyx\u001b[0m in \u001b[0;36mpandas._libs.parsers.TextReader._read_rows (pandas\\_libs\\parsers.c:11884)\u001b[1;34m()\u001b[0m\n",
      "\u001b[1;32mpandas/_libs/parsers.pyx\u001b[0m in \u001b[0;36mpandas._libs.parsers.TextReader._tokenize_rows (pandas\\_libs\\parsers.c:11755)\u001b[1;34m()\u001b[0m\n",
      "\u001b[1;32mpandas/_libs/parsers.pyx\u001b[0m in \u001b[0;36mpandas._libs.parsers.raise_parser_error (pandas\\_libs\\parsers.c:28765)\u001b[1;34m()\u001b[0m\n",
      "\u001b[1;31mParserError\u001b[0m: Error tokenizing data. C error: Expected 2 fields in line 27, saw 3\n"
     ]
    }
   ],
   "source": [
    "df=pd.read_csv('F:\\\\Download 2\\\\qa.csv', sep='?')"
   ]
  },
  {
   "cell_type": "code",
   "execution_count": 32,
   "metadata": {},
   "outputs": [
    {
     "data": {
      "text/html": [
       "<div>\n",
       "<style>\n",
       "    .dataframe thead tr:only-child th {\n",
       "        text-align: right;\n",
       "    }\n",
       "\n",
       "    .dataframe thead th {\n",
       "        text-align: left;\n",
       "    }\n",
       "\n",
       "    .dataframe tbody tr th {\n",
       "        vertical-align: top;\n",
       "    }\n",
       "</style>\n",
       "<table border=\"1\" class=\"dataframe\">\n",
       "  <thead>\n",
       "    <tr style=\"text-align: right;\">\n",
       "      <th></th>\n",
       "      <th>0</th>\n",
       "      <th>1</th>\n",
       "    </tr>\n",
       "  </thead>\n",
       "  <tbody>\n",
       "    <tr>\n",
       "      <th>0</th>\n",
       "      <td>+What is the timeline for applying?</td>\n",
       "      <td>View application deadlines.</td>\n",
       "    </tr>\n",
       "    <tr>\n",
       "      <th>1</th>\n",
       "      <td>+How will my application be evaluated?</td>\n",
       "      <td>Each application received is reviewed in depth...</td>\n",
       "    </tr>\n",
       "    <tr>\n",
       "      <th>2</th>\n",
       "      <td>+In which part of the application may I enter ...</td>\n",
       "      <td>Please enter important information that you wa...</td>\n",
       "    </tr>\n",
       "    <tr>\n",
       "      <th>3</th>\n",
       "      <td>+How do I add new information if I have alread...</td>\n",
       "      <td>Once the application has been submitted, the A...</td>\n",
       "    </tr>\n",
       "    <tr>\n",
       "      <th>4</th>\n",
       "      <td>+Does the reputation/history of my undergradua...</td>\n",
       "      <td>Our goal is to admit a class that offers a var...</td>\n",
       "    </tr>\n",
       "  </tbody>\n",
       "</table>\n",
       "</div>"
      ],
      "text/plain": [
       "                                                   0  \\\n",
       "0                +What is the timeline for applying?   \n",
       "1             +How will my application be evaluated?   \n",
       "2  +In which part of the application may I enter ...   \n",
       "3  +How do I add new information if I have alread...   \n",
       "4  +Does the reputation/history of my undergradua...   \n",
       "\n",
       "                                                   1  \n",
       "0                        View application deadlines.  \n",
       "1  Each application received is reviewed in depth...  \n",
       "2  Please enter important information that you wa...  \n",
       "3  Once the application has been submitted, the A...  \n",
       "4  Our goal is to admit a class that offers a var...  "
      ]
     },
     "execution_count": 32,
     "metadata": {},
     "output_type": "execute_result"
    }
   ],
   "source": [
    "df.head()"
   ]
  },
  {
   "cell_type": "code",
   "execution_count": 33,
   "metadata": {
    "collapsed": true
   },
   "outputs": [],
   "source": [
    "import nltk\n",
    "import pandas as pd\n",
    "from nltk import FreqDist\n",
    "from numpy import dot\n",
    "from numpy.linalg import norm\n",
    "from operator import add"
   ]
  },
  {
   "cell_type": "code",
   "execution_count": 34,
   "metadata": {},
   "outputs": [
    {
     "data": {
      "text/plain": [
       "[0, 1]"
      ]
     },
     "execution_count": 34,
     "metadata": {},
     "output_type": "execute_result"
    }
   ],
   "source": [
    "sorted(df)"
   ]
  },
  {
   "cell_type": "code",
   "execution_count": 36,
   "metadata": {},
   "outputs": [],
   "source": [
    "df.columns = ['question', 'answer']"
   ]
  },
  {
   "cell_type": "code",
   "execution_count": null,
   "metadata": {},
   "outputs": [],
   "source": [
    "stop_words=[\"what\",\"when\",\"how\",\"i\",\"do\",\"which\",\"is\",\"for\",\"a\",\"am\",\"not\",\"in\",\"on\",\"are\",\"or\",\n",
    "            \"was\",\"may\",\"to\",\"the\",\"like\"]\n",
    "\n",
    "df_question=df['question']\n",
    "df_answer=df['answer']\n",
    "\n",
    "\n",
    "question_string=\"\"\n",
    "for question in df_question:\n",
    "    question_string=question_string+\" \"+str(question)\n",
    "\n",
    "fred_dict=FreqDist(nltk.tokenize.word_tokenize(question_string))\n",
    "\n",
    "unique_words=list(fred_dict.keys())\n",
    "unique_words=[word.lower() for word in unique_words]\n",
    "\n",
    "for word in stop_words:\n",
    "    if word in unique_words:\n",
    "        unique_words.remove(word)\n",
    "\n",
    "word_dict={}\n",
    "count=0\n",
    "for word in unique_words:\n",
    "    word_dict[word]=count\n",
    "    count=count+1\n",
    "\n",
    "def createWordVector(word):\n",
    "    word=word.lower()\n",
    "    vec=[0]*count\n",
    "    if word in unique_words:\n",
    "        vec[word_dict[word]]=1\n",
    "    # else:\n",
    "    #     vec[count-1]=1\n",
    "    return vec\n",
    "\n",
    "def getSentenceVector(sentence):\n",
    "    words = nltk.word_tokenize(sentence)\n",
    "    word_vectors=[]\n",
    "    # word_vectors = [createOneHot(word) for word in words]\n",
    "    for word in words:\n",
    "        word_vec=createWordVector(word)\n",
    "        word_vectors.append(word_vec)\n",
    "    sum=[0]*count\n",
    "    for vec in word_vectors:\n",
    "        sum=map(add,sum,vec)\n",
    "\n",
    "    sentence_vector = [elem / len(words) for elem in sum]\n",
    "\n",
    "    return sentence_vector\n",
    "\n",
    "def getAnswer(sentence):\n",
    "    train_sent_vectors=[]\n",
    "    similarity=[]\n",
    "    test_vec = getSentenceVector(sentence)\n",
    "\n",
    "    for question in df_question:\n",
    "        question_vec=getSentenceVector(question)\n",
    "        train_sent_vectors.append(question_vec)\n",
    "        dot_product=dot(test_vec, question_vec)\n",
    "        if dot_product!=0:\n",
    "            cos_sim = dot(test_vec, question_vec) / (norm(test_vec) * norm(question_vec))\n",
    "        else:\n",
    "            cos_sim=0\n",
    "        similarity.append(cos_sim)\n",
    "    max_index=similarity.index(max(similarity))\n",
    "\n",
    "    final_answer=\"\"\n",
    "    if similarity[max_index]>0.45:\n",
    "        final_answer=df_answer[max_index]\n",
    "    else:\n",
    "        final_answer=\"I am sorry. I don't have an answer for that\"\n",
    "\n",
    "    return final_answer\n",
    "\n",
    "\n",
    "if __name__ == '__main__':\n",
    "    question=\"How important is CGPA for admission?\"\n",
    "    answer=getAnswer(question)\n",
    "    print(\"Question: \",question)\n",
    "    print(\"Answer: \",answer)\n"
   ]
  },
  {
   "cell_type": "code",
   "execution_count": 41,
   "metadata": {},
   "outputs": [
    {
     "name": "stdout",
     "output_type": "stream",
     "text": [
      "Similarity(\"How are you?\", \"What is the timeline for applying?\") = 1.0\n",
      "Similarity(\"What is the timeline for applying?\", \"How are you?\") = 0.666666666667\n"
     ]
    }
   ],
   "source": [
    "from nltk import word_tokenize, pos_tag\n",
    "from nltk.corpus import wordnet as wn\n",
    " \n",
    "def penn_to_wn(tag):\n",
    "    \"\"\" Convert between a Penn Treebank tag to a simplified Wordnet tag \"\"\"\n",
    "    if tag.startswith('N'):\n",
    "        return 'n'\n",
    " \n",
    "    if tag.startswith('V'):\n",
    "        return 'v'\n",
    " \n",
    "    if tag.startswith('J'):\n",
    "        return 'a'\n",
    " \n",
    "    if tag.startswith('R'):\n",
    "        return 'r'\n",
    " \n",
    "    return None\n",
    " \n",
    "def tagged_to_synset(word, tag):\n",
    "    wn_tag = penn_to_wn(tag)\n",
    "    if wn_tag is None:\n",
    "        return None\n",
    " \n",
    "    try:\n",
    "        return wn.synsets(word, wn_tag)[0]\n",
    "    except:\n",
    "        return None\n",
    " \n",
    "def sentence_similarity(sentence1, sentence2):\n",
    "    \"\"\" compute the sentence similarity using Wordnet \"\"\"\n",
    "    # Tokenize and tag\n",
    "    sentence1 = pos_tag(word_tokenize(sentence1))\n",
    "    sentence2 = pos_tag(word_tokenize(sentence2))\n",
    " \n",
    "    # Get the synsets for the tagged words\n",
    "    synsets1 = [tagged_to_synset(*tagged_word) for tagged_word in sentence1]\n",
    "    synsets2 = [tagged_to_synset(*tagged_word) for tagged_word in sentence2]\n",
    " \n",
    "    # Filter out the Nones\n",
    "    synsets1 = [ss for ss in synsets1 if ss]\n",
    "    synsets2 = [ss for ss in synsets2 if ss]\n",
    " \n",
    "    score, count = 0.0, 0\n",
    " \n",
    "    # For each word in the first sentence\n",
    "    for synset in synsets1:\n",
    "        # Get the similarity value of the most similar word in the other sentence\n",
    "        best_score = max([synset.path_similarity(ss) for ss in synsets2])\n",
    " \n",
    "        # Check that the similarity could have been computed\n",
    "        if best_score is not None:\n",
    "            score += best_score\n",
    "            count += 1\n",
    " \n",
    "    # Average the values\n",
    "    score /= count\n",
    "    return score\n",
    " \n",
    "sentences = [\n",
    "    \"What is the timeline for applying?\"\n",
    "]\n",
    " \n",
    "focus_sentence = \"How are you?\"\n",
    " \n",
    "for sentence in sentences:\n",
    "    print \"Similarity(\\\"%s\\\", \\\"%s\\\") = %s\" % (focus_sentence, sentence, sentence_similarity(focus_sentence, sentence))\n",
    "    print \"Similarity(\\\"%s\\\", \\\"%s\\\") = %s\" % (sentence, focus_sentence, sentence_similarity(sentence, focus_sentence))"
   ]
  },
  {
   "cell_type": "code",
   "execution_count": null,
   "metadata": {
    "collapsed": true
   },
   "outputs": [],
   "source": []
  }
 ],
 "metadata": {
  "kernelspec": {
   "display_name": "Python 3",
   "language": "python",
   "name": "python3"
  },
  "language_info": {
   "codemirror_mode": {
    "name": "ipython",
    "version": 3
   },
   "file_extension": ".py",
   "mimetype": "text/x-python",
   "name": "python",
   "nbconvert_exporter": "python",
   "pygments_lexer": "ipython3",
   "version": "3.6.4"
  }
 },
 "nbformat": 4,
 "nbformat_minor": 2
}
