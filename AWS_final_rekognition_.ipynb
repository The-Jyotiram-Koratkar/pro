{
 "cells": [
  {
   "cell_type": "code",
   "execution_count": 16,
   "metadata": {},
   "outputs": [
    {
     "name": "stdout",
     "output_type": "stream",
     "text": [
      "{'JobId': '84f0bdef316f3d4b967baf8f225aaeb6161bd0ffde6b0735d7030b9fbf75b008', 'ResponseMetadata': {'RequestId': 'fd21646c-f856-11e8-b542-5f1f371595a9', 'HTTPStatusCode': 200, 'HTTPHeaders': {'content-type': 'application/x-amz-json-1.1', 'date': 'Wed, 05 Dec 2018 06:28:32 GMT', 'x-amzn-requestid': 'fd21646c-f856-11e8-b542-5f1f371595a9', 'content-length': '76', 'connection': 'keep-alive'}, 'RetryAttempts': 0}}\n",
      "Start Job Id: 84f0bdef316f3d4b967baf8f225aaeb6161bd0ffde6b0735d7030b9fbf75b008\n",
      "84f0bdef316f3d4b967baf8f225aaeb6161bd0ffde6b0735d7030b9fbf75b008\n"
     ]
    }
   ],
   "source": [
    "import boto3\n",
    "import json\n",
    "import sys\n",
    "import time\n",
    "\n",
    "rek = boto3.client('rekognition',region_name='ap-south-1',aws_access_key_id = '****',\n",
    "                        aws_secret_access_key = '****')\n",
    "#=====================================\n",
    "\n",
    "\n",
    "BUCKET = '****'\n",
    "KEY = 'madhav.jpg'\n",
    "VEDIO = 'shub_vid.mp4'\n",
    "COLLECTION = 'facematching'\n",
    "\n",
    "\n",
    "response = rek.index_faces(CollectionId=COLLECTION,\n",
    "                                Image={'S3Object':{'Bucket':BUCKET,'Name':KEY}},\n",
    "                                MaxFaces=1,\n",
    "                                QualityFilter=\"AUTO\",\n",
    "                                DetectionAttributes=['ALL'])\n",
    "\n",
    "response = rek.start_face_search(CollectionId=COLLECTION,\n",
    "                                Video={'S3Object':{'Bucket':BUCKET,'Name':VEDIO}})\n",
    "\n",
    "        #=====================================\n",
    "\n",
    "print(response)\n",
    "print('Start Job Id: ' + response['JobId'])\n",
    "\n",
    "\n",
    "JOB_ID = response['JobId']\n",
    "maxResults = 10\n",
    "paginationToken = ''\n",
    "print(JOB_ID)\n"
   ]
  },
  {
   "cell_type": "code",
   "execution_count": 17,
   "metadata": {},
   "outputs": [
    {
     "name": "stdout",
     "output_type": "stream",
     "text": [
      "84f0bdef316f3d4b967baf8f225aaeb6161bd0ffde6b0735d7030b9fbf75b008\n"
     ]
    }
   ],
   "source": [
    "print(JOB_ID)"
   ]
  },
  {
   "cell_type": "code",
   "execution_count": 19,
   "metadata": {},
   "outputs": [
    {
     "name": "stdout",
     "output_type": "stream",
     "text": [
      "84f0bdef316f3d4b967baf8f225aaeb6161bd0ffde6b0735d7030b9fbf75b008\n",
      "gfs {'JobStatus': 'SUCCEEDED', 'NextToken': 'aOQVYJY4V39nzYukZbshVA7m//h6fiB59JckeoMoeTiJw2sp5ESkFHbN7pVQXuEW4Wo4GGMmQQ==', 'VideoMetadata': {'Codec': 'h264', 'DurationMillis': 5807, 'Format': 'QuickTime / MOV', 'FrameRate': 29.449417114257812, 'FrameHeight': 720, 'FrameWidth': 1280}, 'Persons': [{'Timestamp': 0, 'Person': {'Index': 0, 'Face': {'BoundingBox': {'Width': 0.21212568879127502, 'Height': 0.48623111844062805, 'Left': 0.3363894820213318, 'Top': 0.23151928186416626}, 'Landmarks': [{'Type': 'eyeLeft', 'X': 0.4124925434589386, 'Y': 0.4105069935321808}, {'Type': 'eyeRight', 'X': 0.5074481964111328, 'Y': 0.41348588466644287}, {'Type': 'mouthLeft', 'X': 0.4238303601741791, 'Y': 0.5918813943862915}, {'Type': 'mouthRight', 'X': 0.5021471977233887, 'Y': 0.5942997336387634}, {'Type': 'nose', 'X': 0.4737826883792877, 'Y': 0.48919737339019775}], 'Pose': {'Roll': 2.063105583190918, 'Yaw': 17.236597061157227, 'Pitch': 6.919864177703857}, 'Quality': {'Brightness': 84.59204864501953, 'Sharpness': 86.86019134521484}, 'Confidence': 100.0}}, 'FaceMatches': [{'Similarity': 99.69558715820312, 'Face': {'FaceId': 'db21ee46-228b-4541-b13b-6e1adf3a4e68', 'BoundingBox': {'Width': 0.4439760148525238, 'Height': 0.39996400475502014, 'Left': 0.22007200121879578, 'Top': 0.34942299127578735}, 'ImageId': '605e50ed-da07-3aea-a510-e6f93cb51655', 'Confidence': 100.0}}]}, {'Timestamp': 169, 'Person': {'Index': 0, 'Face': {'BoundingBox': {'Width': 0.21483907103538513, 'Height': 0.48507460951805115, 'Left': 0.31192725896835327, 'Top': 0.23049858212471008}, 'Landmarks': [{'Type': 'eyeLeft', 'X': 0.3873123526573181, 'Y': 0.40860462188720703}, {'Type': 'eyeRight', 'X': 0.4828980267047882, 'Y': 0.41173264384269714}, {'Type': 'mouthLeft', 'X': 0.39912086725234985, 'Y': 0.590674877166748}, {'Type': 'mouthRight', 'X': 0.47793856263160706, 'Y': 0.5931842923164368}, {'Type': 'nose', 'X': 0.4497682452201843, 'Y': 0.4862983524799347}], 'Pose': {'Roll': -0.21672502160072327, 'Yaw': 3.9860293865203857, 'Pitch': 8.229148864746094}, 'Quality': {'Brightness': 84.9744873046875, 'Sharpness': 78.64350128173828}, 'Confidence': 99.99998474121094}}, 'FaceMatches': [{'Similarity': 99.58688354492188, 'Face': {'FaceId': 'db21ee46-228b-4541-b13b-6e1adf3a4e68', 'BoundingBox': {'Width': 0.4439760148525238, 'Height': 0.39996400475502014, 'Left': 0.22007200121879578, 'Top': 0.34942299127578735}, 'ImageId': '605e50ed-da07-3aea-a510-e6f93cb51655', 'Confidence': 100.0}}]}, {'Timestamp': 373, 'Person': {'Index': 0, 'Face': {'BoundingBox': {'Width': 0.22691139578819275, 'Height': 0.5174184441566467, 'Left': 0.2529461979866028, 'Top': 0.2230353057384491}, 'Landmarks': [{'Type': 'eyeLeft', 'X': 0.33360928297042847, 'Y': 0.409522145986557}, {'Type': 'eyeRight', 'X': 0.432646244764328, 'Y': 0.41148659586906433}, {'Type': 'mouthLeft', 'X': 0.3462209403514862, 'Y': 0.6014227867126465}, {'Type': 'mouthRight', 'X': 0.42784029245376587, 'Y': 0.602868378162384}, {'Type': 'nose', 'X': 0.4005796015262604, 'Y': 0.4937792718410492}], 'Pose': {'Roll': -2.5909152030944824, 'Yaw': 19.604448318481445, 'Pitch': -4.650380611419678}, 'Quality': {'Brightness': 84.0058364868164, 'Sharpness': 89.85481262207031}, 'Confidence': 99.99998474121094}}, 'FaceMatches': [{'Similarity': 99.6712417602539, 'Face': {'FaceId': 'db21ee46-228b-4541-b13b-6e1adf3a4e68', 'BoundingBox': {'Width': 0.4439760148525238, 'Height': 0.39996400475502014, 'Left': 0.22007200121879578, 'Top': 0.34942299127578735}, 'ImageId': '605e50ed-da07-3aea-a510-e6f93cb51655', 'Confidence': 100.0}}]}, {'Timestamp': 509, 'Person': {'Index': 0, 'BoundingBox': {'Width': 0.58203125, 'Height': 0.8708333373069763, 'Left': 0.0, 'Top': 0.12361110746860504}}}, {'Timestamp': 577, 'Person': {'Index': 0, 'BoundingBox': {'Width': 0.547656238079071, 'Height': 0.8777777552604675, 'Left': 0.004687500186264515, 'Top': 0.11527777463197708}, 'Face': {'BoundingBox': {'Width': 0.2378489077091217, 'Height': 0.543322741985321, 'Left': 0.18357929587364197, 'Top': 0.24505741894245148}, 'Landmarks': [{'Type': 'eyeLeft', 'X': 0.2746853232383728, 'Y': 0.4394187927246094}, {'Type': 'eyeRight', 'X': 0.37815576791763306, 'Y': 0.4450836777687073}, {'Type': 'mouthLeft', 'X': 0.28614482283592224, 'Y': 0.6455766558647156}, {'Type': 'mouthRight', 'X': 0.37131693959236145, 'Y': 0.6499617695808411}, {'Type': 'nose', 'X': 0.3474574089050293, 'Y': 0.5347530841827393}], 'Pose': {'Roll': 1.5786349773406982, 'Yaw': 21.136608123779297, 'Pitch': 1.5379265546798706}, 'Quality': {'Brightness': 84.39308166503906, 'Sharpness': 89.85481262207031}, 'Confidence': 100.0}}, 'FaceMatches': [{'Similarity': 99.75293731689453, 'Face': {'FaceId': 'db21ee46-228b-4541-b13b-6e1adf3a4e68', 'BoundingBox': {'Width': 0.4439760148525238, 'Height': 0.39996400475502014, 'Left': 0.22007200121879578, 'Top': 0.34942299127578735}, 'ImageId': '605e50ed-da07-3aea-a510-e6f93cb51655', 'Confidence': 100.0}}]}, {'Timestamp': 645, 'Person': {'Index': 0, 'BoundingBox': {'Width': 0.569531261920929, 'Height': 0.8972222208976746, 'Left': 0.0078125, 'Top': 0.09583333134651184}}}, {'Timestamp': 781, 'Person': {'Index': 0, 'BoundingBox': {'Width': 0.739062488079071, 'Height': 0.9333333373069763, 'Left': 0.0, 'Top': 0.06388889253139496}, 'Face': {'BoundingBox': {'Width': 0.24668757617473602, 'Height': 0.5886985659599304, 'Left': 0.21867577731609344, 'Top': 0.2157217413187027}, 'Landmarks': [{'Type': 'eyeLeft', 'X': 0.3166956901550293, 'Y': 0.4242904484272003}, {'Type': 'eyeRight', 'X': 0.42588335275650024, 'Y': 0.43780839443206787}, {'Type': 'mouthLeft', 'X': 0.3243564963340759, 'Y': 0.6450594067573547}, {'Type': 'mouthRight', 'X': 0.414188951253891, 'Y': 0.6560617089271545}, {'Type': 'nose', 'X': 0.3902142643928528, 'Y': 0.5311770439147949}], 'Pose': {'Roll': 3.8623850345611572, 'Yaw': 23.841154098510742, 'Pitch': 0.6924477815628052}, 'Quality': {'Brightness': 82.87705993652344, 'Sharpness': 92.22801208496094}, 'Confidence': 100.0}}, 'FaceMatches': [{'Similarity': 99.77101135253906, 'Face': {'FaceId': 'db21ee46-228b-4541-b13b-6e1adf3a4e68', 'BoundingBox': {'Width': 0.4439760148525238, 'Height': 0.39996400475502014, 'Left': 0.22007200121879578, 'Top': 0.34942299127578735}, 'ImageId': '605e50ed-da07-3aea-a510-e6f93cb51655', 'Confidence': 100.0}}]}, {'Timestamp': 848, 'Person': {'Index': 0, 'BoundingBox': {'Width': 0.760937511920929, 'Height': 0.949999988079071, 'Left': 0.0, 'Top': 0.04583333432674408}}}, {'Timestamp': 916, 'Person': {'Index': 0, 'BoundingBox': {'Width': 0.746874988079071, 'Height': 0.9555555582046509, 'Left': 0.0, 'Top': 0.04027777910232544}}}, {'Timestamp': 984, 'Person': {'Index': 0, 'BoundingBox': {'Width': 0.7710937261581421, 'Height': 0.9624999761581421, 'Left': 0.0, 'Top': 0.03333333507180214}, 'Face': {'BoundingBox': {'Width': 0.25433897972106934, 'Height': 0.5999706387519836, 'Left': 0.22010764479637146, 'Top': 0.20070022344589233}, 'Landmarks': [{'Type': 'eyeLeft', 'X': 0.31587907671928406, 'Y': 0.40938782691955566}, {'Type': 'eyeRight', 'X': 0.4301002323627472, 'Y': 0.4236522912979126}, {'Type': 'mouthLeft', 'X': 0.32257556915283203, 'Y': 0.6399907469749451}, {'Type': 'mouthRight', 'X': 0.4166138470172882, 'Y': 0.6515500545501709}, {'Type': 'nose', 'X': 0.3898983597755432, 'Y': 0.5239803791046143}], 'Pose': {'Roll': 1.6504387855529785, 'Yaw': -17.883974075317383, 'Pitch': -9.699583053588867}, 'Quality': {'Brightness': 82.96605682373047, 'Sharpness': 92.22801208496094}, 'Confidence': 100.0}}, 'FaceMatches': [{'Similarity': 99.80876159667969, 'Face': {'FaceId': 'db21ee46-228b-4541-b13b-6e1adf3a4e68', 'BoundingBox': {'Width': 0.4439760148525238, 'Height': 0.39996400475502014, 'Left': 0.22007200121879578, 'Top': 0.34942299127578735}, 'ImageId': '605e50ed-da07-3aea-a510-e6f93cb51655', 'Confidence': 100.0}}]}], 'ResponseMetadata': {'RequestId': '30e49501-f857-11e8-9d25-0503ab3c9701', 'HTTPStatusCode': 200, 'HTTPHeaders': {'content-type': 'application/x-amz-json-1.1', 'date': 'Wed, 05 Dec 2018 06:29:59 GMT', 'x-amzn-requestid': '30e49501-f857-11e8-9d25-0503ab3c9701', 'content-length': '7184', 'connection': 'keep-alive'}, 'RetryAttempts': 0}}\n"
     ]
    }
   ],
   "source": [
    "import time\n",
    "\n",
    "\n",
    "gfs = rek.get_face_search(JobId=JOB_ID,  MaxResults=maxResults,NextToken=paginationToken)\n",
    "time.sleep(60)\n",
    "\n",
    "print(JOB_ID)\n",
    "print(\"gfs\", gfs)"
   ]
  },
  {
   "cell_type": "code",
   "execution_count": null,
   "metadata": {
    "collapsed": true
   },
   "outputs": [],
   "source": []
  }
 ],
 "metadata": {
  "kernelspec": {
   "display_name": "Python 3",
   "language": "python",
   "name": "python3"
  },
  "language_info": {
   "codemirror_mode": {
    "name": "ipython",
    "version": 3
   },
   "file_extension": ".py",
   "mimetype": "text/x-python",
   "name": "python",
   "nbconvert_exporter": "python",
   "pygments_lexer": "ipython3",
   "version": "3.6.3"
  }
 },
 "nbformat": 4,
 "nbformat_minor": 2
}
